{
 "cells": [
  {
   "cell_type": "markdown",
   "id": "0a0ca39e",
   "metadata": {},
   "source": [
    "## COMMON TABLE EXPRESSIONS (CTEs) in PostgreSQL"
   ]
  },
  {
   "cell_type": "markdown",
   "id": "f0d0365f",
   "metadata": {},
   "source": [
    "- A Common Table Expression (CTE) is a temporary result set that you can reference within a `SELECT, INSERT, UPDATE,` or `DELETE` statement. It improves query readability and modularity, especially for complex queries.\n",
    "\n"
   ]
  },
  {
   "cell_type": "code",
   "execution_count": null,
   "id": "bb5e02cf",
   "metadata": {
    "vscode": {
     "languageId": "sql"
    }
   },
   "outputs": [],
   "source": [
    "-- Basic CTE\n",
    "\n",
    "WITH avg_salary AS (\n",
    "    SELECT AVG(salary) AS avg_salary\n",
    "    FROM employees\n",
    ")\n",
    "SELECT employee_name, salary\n",
    "FROM employees\n",
    "WHERE salary > (SELECT avg_salary FROM avg_salary);\n",
    "-- find employees with salary greater than the average salary."
   ]
  },
  {
   "cell_type": "code",
   "execution_count": null,
   "id": "832b9cef",
   "metadata": {
    "vscode": {
     "languageId": "sql"
    }
   },
   "outputs": [],
   "source": [
    "-- Multiple CTEs\n",
    "\n",
    "-- find employees in departments with total salary greater than 100000.\n",
    "\n",
    "WITH department_salary AS (\n",
    "    SELECT department_id, SUM(salary) AS total_salary\n",
    "    FROM employees\n",
    "    GROUP BY department_id\n",
    "),\n",
    "high_salary_departments AS (\n",
    "    SELECT department_id\n",
    "    FROM department_salary\n",
    "    WHERE total_salary > 100000\n",
    ")\n",
    "SELECT e.employee_name, e.department_id\n",
    "FROM employees e\n",
    "JOIN high_salary_departments hsd ON e.department_id = hsd.department_id;\n",
    "\n"
   ]
  },
  {
   "cell_type": "code",
   "execution_count": null,
   "id": "fc13f483",
   "metadata": {
    "vscode": {
     "languageId": "sql"
    }
   },
   "outputs": [],
   "source": [
    "-- Recursive CTE\n",
    "\n",
    "WITH RECURSIVE employee_hierarchy AS (\n",
    "    SELECT employee_id, manager_id, employee_name\n",
    "    FROM employees\n",
    "    WHERE manager_id IS NULL  -- Start with top-level manager\n",
    "    UNION ALL\n",
    "    SELECT e.employee_id, e.manager_id, e.employee_name\n",
    "    FROM employees e\n",
    "    INNER JOIN employee_hierarchy eh ON e.manager_id = eh.employee_id\n",
    ")\n",
    "SELECT * FROM employee_hierarchy;\n",
    "\n",
    "\n",
    "-- find all employees reporting to a specific manager(hierarchical data)."
   ]
  },
  {
   "cell_type": "markdown",
   "id": "7bfd536b",
   "metadata": {},
   "source": [
    "## TABLE PARTITIONING"
   ]
  },
  {
   "cell_type": "markdown",
   "id": "080e9a52",
   "metadata": {},
   "source": [
    "Definition:\n",
    "- Table partitioning is a database optimization technique where a large table is divided into \n",
    "smaller, more manageable pieces (partitions) based on a specific column's value (e.g., date, \n",
    "range, or list). Each partition is stored and queried separately, improving performance for \n",
    "large datasets.\n",
    "\n",
    "\n"
   ]
  },
  {
   "cell_type": "markdown",
   "id": "0c3bdb3d",
   "metadata": {},
   "source": [
    "Use Cases:\n",
    "\n",
    "- Log Management: Partition logs by date to improve query performance for recent logs.\n",
    "\n",
    "- Archiving: Keep older data in separate partitions for archival purposes.\n",
    "- Performance: Speeds up queries by scanning only relevant partitions instead of the entire table."
   ]
  },
  {
   "cell_type": "markdown",
   "id": "35a86982",
   "metadata": {},
   "source": [
    "#### 1. Partition by Range\n",
    "- Divides the table into partitions based on a range of values in a column.\n",
    "\n",
    "- Use Case: Time-series data, such as logs or events.\n",
    "\n",
    "\n",
    "Example:"
   ]
  },
  {
   "cell_type": "code",
   "execution_count": null,
   "id": "9eecc58f",
   "metadata": {
    "vscode": {
     "languageId": "sql"
    }
   },
   "outputs": [],
   "source": [
    "-- Create a partitioned table for logs\n",
    "CREATE TABLE logs (\n",
    "  log_id SERIAL,\n",
    "  log_time TIMESTAMP NOT NULL,\n",
    "  message TEXT\n",
    ") PARTITION BY RANGE (log_time);\n",
    "\n",
    "-- Create partitions for specific date ranges\n",
    "CREATE TABLE logs_2024 PARTITION OF logs FOR VALUES FROM ('2024-01-01') TO ('2025-01-01');\n",
    "CREATE TABLE logs_2025 PARTITION OF logs FOR VALUES FROM ('2025-01-01') TO ('2026-01-01');"
   ]
  },
  {
   "cell_type": "markdown",
   "id": "38d39ada",
   "metadata": {},
   "source": [
    "-------"
   ]
  },
  {
   "cell_type": "markdown",
   "id": "e3c61871",
   "metadata": {},
   "source": [
    "#### 2. Partition by List\n",
    "- Divides the table into partitions based on a list of discrete values.\n",
    "\n",
    "- Use Case: Categorized data, such as regions or product categories.\n",
    "Example:\n"
   ]
  },
  {
   "cell_type": "code",
   "execution_count": null,
   "id": "8c9092ae",
   "metadata": {
    "vscode": {
     "languageId": "sql"
    }
   },
   "outputs": [],
   "source": [
    "CREATE TABLE sales (\n",
    "  sale_id SERIAL,\n",
    "  region TEXT NOT NULL,\n",
    "  amount NUMERIC\n",
    ") PARTITION BY LIST (region);\n",
    "\n",
    "CREATE TABLE sales_north PARTITION OF sales FOR VALUES IN ('North');\n",
    "CREATE TABLE sales_south PARTITION OF sales FOR VALUES IN ('South');"
   ]
  },
  {
   "cell_type": "markdown",
   "id": "747a8f4c",
   "metadata": {},
   "source": [
    "----------"
   ]
  },
  {
   "cell_type": "markdown",
   "id": "c6a0e152",
   "metadata": {},
   "source": [
    "#### 3. Partition by Hash\n",
    "- Divides the table into partitions based on a hash function applied to a column's value.\n",
    "\n",
    "- Use Case: Distributing data evenly across partitions for load balancing.\n",
    "\n",
    "Example:\n",
    "\n"
   ]
  },
  {
   "cell_type": "code",
   "execution_count": null,
   "id": "f265ec92",
   "metadata": {
    "vscode": {
     "languageId": "sql"
    }
   },
   "outputs": [],
   "source": [
    "-- didnt understood\n",
    "\n",
    "CREATE TABLE users (\n",
    "  user_id SERIAL,\n",
    "  username TEXT NOT NULL\n",
    ") PARTITION BY HASH (user_id);\n",
    "\n",
    "CREATE TABLE users_part_1 PARTITION OF users FOR VALUES WITH (MODULUS 4, REMAINDER 0);\n",
    "CREATE TABLE users_part_2 PARTITION OF users FOR VALUES WITH (MODULUS 4, REMAINDER 1);"
   ]
  },
  {
   "cell_type": "markdown",
   "id": "0b043596",
   "metadata": {},
   "source": [
    "--------"
   ]
  },
  {
   "cell_type": "markdown",
   "id": "0642de0f",
   "metadata": {},
   "source": [
    "#### 4. Partition by Range with Subpartitioning\n",
    "- Combines range partitioning with another method (e.g., hash or list) for more granular control.\n",
    "\n",
    "- Use Case: Multi-level partitioning, such as time-based logs further divided by region."
   ]
  },
  {
   "cell_type": "code",
   "execution_count": null,
   "id": "45816486",
   "metadata": {
    "vscode": {
     "languageId": "sql"
    }
   },
   "outputs": [],
   "source": [
    "CREATE TABLE logs (\n",
    "  log_id SERIAL,\n",
    "  log_time TIMESTAMP NOT NULL,\n",
    "  region TEXT\n",
    ") PARTITION BY RANGE (log_time);\n",
    "\n",
    "CREATE TABLE logs_2024 PARTITION OF logs FOR VALUES FROM ('2024-01-01') TO ('2025-01-01')\n",
    "  PARTITION BY LIST (region);\n",
    "\n",
    "CREATE TABLE logs_2024_north PARTITION OF logs_2024 FOR VALUES IN ('North');\n",
    "CREATE TABLE logs_2024_south PARTITION OF logs_2024 FOR VALUES IN ('South');\n"
   ]
  },
  {
   "cell_type": "markdown",
   "id": "96dc2b7d",
   "metadata": {},
   "source": [
    "---------------"
   ]
  },
  {
   "cell_type": "markdown",
   "id": "8acf9977",
   "metadata": {},
   "source": [
    "#### 5. Partition by Default\n",
    "- A default partition is used to store rows that do not match any other partition.\n",
    "\n",
    "- Use Case: Handling unexpected or uncategorized data.\n",
    "\n",
    "Example:"
   ]
  },
  {
   "cell_type": "code",
   "execution_count": null,
   "id": "ede09100",
   "metadata": {
    "vscode": {
     "languageId": "sql"
    }
   },
   "outputs": [],
   "source": [
    "CREATE TABLE sales (\n",
    "  sale_id SERIAL,\n",
    "  region TEXT NOT NULL,\n",
    "  amount NUMERIC\n",
    ") PARTITION BY LIST (region);\n",
    "\n",
    "\n",
    "CREATE TABLE sales_north PARTITION OF sales FOR VALUES IN ('North');\n",
    "CREATE TABLE sales_default PARTITION OF sales DEFAULT;\n",
    "\n",
    "\n",
    "\n",
    "-- CREATE TABLE sales_default PARTITION OF sales DEFAULT;\n",
    "-- CREATE TABLE sales_north PARTITION OF sales FOR VALUES IN ('North');\n",
    "\n",
    "-- this order also does same since postgres will check the default partition after checking all other partitions."
   ]
  },
  {
   "cell_type": "markdown",
   "id": "410424c8",
   "metadata": {},
   "source": [
    "## WINDOW FUNCTIONS "
   ]
  },
  {
   "cell_type": "markdown",
   "id": "4fda3cb6",
   "metadata": {},
   "source": [
    "Window functions operate on a set of rows related to the current row, providing powerful tools for ranking, comparisons, and aggregations."
   ]
  },
  {
   "cell_type": "markdown",
   "id": "2f3207dd",
   "metadata": {},
   "source": [
    "#### 1. ROW_NUMBER\n",
    "- Definition:\n",
    "Assigns a unique sequential number to each row within a partition, starting from 1.\n",
    "\n",
    "- Use Case:\n",
    "    - Paginating results (e.g., displaying 10 rows per page).\n",
    "    - Identifying the first or last row in a group.\n",
    "    \n",
    "Example:\n",
    "\n"
   ]
  },
  {
   "cell_type": "code",
   "execution_count": null,
   "id": "85a4cc5f",
   "metadata": {
    "vscode": {
     "languageId": "sql"
    }
   },
   "outputs": [],
   "source": [
    "-- Assign a unique row number to employees ordered by salary\n",
    "SELECT employee_name, salary, ROW_NUMBER() OVER (ORDER BY salary DESC) AS row_num\n",
    "FROM employees;\n",
    "\n",
    "\n",
    "-- Assign a unique row number to employees within each department ordered by salary\n",
    "SELECT employee_name, salary, ROW_NUMBER() OVER (PARTITION by department_name ORDER BY salary DESC) AS row_num\n",
    "FROM employees;"
   ]
  },
  {
   "cell_type": "markdown",
   "id": "51092c95",
   "metadata": {},
   "source": [
    "Best Practices:\n",
    "- Use ROW_NUMBER when you need unique numbering, even if there are ties.\n",
    "- Combine with PARTITION BY to reset numbering for each group.\n",
    "\n",
    "------------------"
   ]
  },
  {
   "cell_type": "markdown",
   "id": "25738c02",
   "metadata": {},
   "source": [
    "#### 2. RANK\n",
    "- Definition:\n",
    "Assigns a rank to each row within a partition. Rows with the same value receive the same rank, but the next rank is skipped.\n",
    "\n",
    "- Use Case:\n",
    "    - Leaderboards where ties are allowed, and gaps in ranking are acceptable.\n",
    "\n",
    "Example:\n",
    "\n"
   ]
  },
  {
   "cell_type": "code",
   "execution_count": null,
   "id": "fec3956d",
   "metadata": {
    "vscode": {
     "languageId": "sql"
    }
   },
   "outputs": [],
   "source": [
    "-- Rank employees by salary\n",
    "SELECT employee_name, salary, RANK() OVER (ORDER BY salary DESC) AS rank\n",
    "FROM employees;\n",
    "\n",
    "\n",
    "-- we can use partition by clause with rank function to rank employees within each department."
   ]
  },
  {
   "cell_type": "markdown",
   "id": "7c8d3559",
   "metadata": {},
   "source": [
    "Best Practices:\n",
    "\n",
    "- Use RANK when ties are acceptable, and gaps in ranking are meaningful.\n",
    "- Combine with PARTITION BY to rank within specific groups (e.g., departments).\n",
    "\n",
    "---------------"
   ]
  },
  {
   "cell_type": "markdown",
   "id": "9c507866",
   "metadata": {},
   "source": [
    "#### 3. DENSE_RANK\n",
    "- Definition:\n",
    "Similar to RANK, but does not skip ranks when there are ties.\n",
    "\n",
    "- Use Case:\n",
    "    - Rankings where consecutive numbering is required, even with ties.\n",
    "    \n",
    "Example:"
   ]
  },
  {
   "cell_type": "code",
   "execution_count": null,
   "id": "62fbcca2",
   "metadata": {
    "vscode": {
     "languageId": "sql"
    }
   },
   "outputs": [],
   "source": [
    "-- Dense rank employees by salary\n",
    "SELECT employee_name, salary, DENSE_RANK() OVER (ORDER BY salary DESC) AS dense_rank\n",
    "FROM employees;\n",
    "\n",
    "-- Assign a unique row number to employees ordered by salary, but reset the row number for each department.\n",
    "\n",
    "-- we can use partition by clause with dense rank function to rank employees within each department.\n"
   ]
  },
  {
   "cell_type": "markdown",
   "id": "a197deda",
   "metadata": {},
   "source": [
    "Best Practices:\n",
    "\n",
    "- Use DENSE_RANK when you want consecutive ranks without gaps.\n",
    "- Ideal for scenarios like product rankings or performance scores.\n",
    "--------------"
   ]
  },
  {
   "cell_type": "markdown",
   "id": "de4249c2",
   "metadata": {},
   "source": [
    "#### 4. LEAD\n",
    "- Definition:\n",
    "Accesses data from the next row in the result set.\n",
    "\n",
    "Use Case:\n",
    "\n",
    "- Comparing a row with the next row (e.g., finding the difference between consecutive rows).\n",
    "- Identifying trends or changes in data.\n",
    "Example:"
   ]
  },
  {
   "cell_type": "code",
   "execution_count": null,
   "id": "082b83b7",
   "metadata": {
    "vscode": {
     "languageId": "sql"
    }
   },
   "outputs": [],
   "source": [
    "-- Compare each employee's salary with the next employee's salary\n",
    "SELECT employee_name, salary, LEAD(salary) OVER (ORDER BY salary DESC) AS next_salary\n",
    "FROM employees;\n",
    "\n",
    "\n",
    "-- other parameters of lead function are: "
   ]
  },
  {
   "cell_type": "markdown",
   "id": "1959c65c",
   "metadata": {},
   "source": [
    "Best Practices:\n",
    "\n",
    "- Use `LEAD` for forward-looking comparisons.\n",
    "- Combine with `PARTITION BY` for group-specific comparisons.\n",
    "\n",
    "--------------"
   ]
  },
  {
   "cell_type": "markdown",
   "id": "68c2def8",
   "metadata": {},
   "source": [
    "#### 5. LAG\n",
    "- Definition:\n",
    "Accesses data from the previous row in the result set.\n",
    "\n",
    "- Use Case:\n",
    "\n",
    "    - Comparing a row with the previous row (e.g., calculating differences or changes).\n",
    "    - Analyzing historical trends.\n",
    "    \n",
    "Example:"
   ]
  },
  {
   "cell_type": "code",
   "execution_count": null,
   "id": "372114dc",
   "metadata": {
    "vscode": {
     "languageId": "sql"
    }
   },
   "outputs": [],
   "source": [
    "-- Compare each employee's salary with the previous employee's salary\n",
    "SELECT employee_name, salary, LAG(salary) OVER (ORDER BY salary DESC) AS prev_salary\n",
    "FROM employees;"
   ]
  },
  {
   "cell_type": "markdown",
   "id": "e6c75fa3",
   "metadata": {},
   "source": [
    "- Best Practices:\n",
    "\n",
    "    - Use LAG for backward-looking comparisons.\n",
    "    - Combine with PARTITION BY for group-specific comparisons.\n"
   ]
  },
  {
   "cell_type": "markdown",
   "id": "550da932",
   "metadata": {},
   "source": [
    "####  Best Practices for Window Functions\n",
    "- Use PARTITION BY:\n",
    "    - Divide data into logical groups for more meaningful results.\n",
    "    - Example: Rank employees within each department.\n",
    "\n",
    "- Optimize with Indexes:\n",
    "    - Create indexes on columns used in ORDER BY to improve performance.\n",
    "\n",
    "- Avoid Overuse:\n",
    "- Window functions can be computationally expensive. Use them judiciously in large datasets.\n",
    "\n",
    "- Combine with CTEs:\n",
    "    - Use Common Table Expressions (CTEs) to simplify complex queries involving window functions.\n",
    "\n",
    "- Use NULL Handling:\n",
    "    - Handle NULL values explicitly in LEAD and LAG to avoid unexpected results."
   ]
  }
 ],
 "metadata": {
  "language_info": {
   "name": "python"
  }
 },
 "nbformat": 4,
 "nbformat_minor": 5
}
