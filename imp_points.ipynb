{
 "cells": [
  {
   "cell_type": "markdown",
   "id": "ba9e9524",
   "metadata": {},
   "source": [
    "🧠 SQL Execution Flow (important for interviews):\n",
    "\n",
    "    FROM → employees\n",
    "\n",
    "    WHERE → apply filter\n",
    "\n",
    "    GROUP BY → if present\n",
    "\n",
    "    HAVING → filter groups\n",
    "\n",
    "    SELECT → pick columns\n",
    "\n",
    "    ORDER BY → sort results"
   ]
  }
 ],
 "metadata": {
  "language_info": {
   "name": "python"
  }
 },
 "nbformat": 4,
 "nbformat_minor": 5
}
