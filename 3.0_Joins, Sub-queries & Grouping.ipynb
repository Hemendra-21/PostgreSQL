{
 "cells": [
  {
   "cell_type": "markdown",
   "id": "45628235",
   "metadata": {},
   "source": [
    "# JOINs"
   ]
  },
  {
   "cell_type": "markdown",
   "id": "d8724694",
   "metadata": {},
   "source": [
    "### 1) INNER JOIN\n",
    "- Definition: Combines rows from two tables where there is a match in the specified columns.\n",
    "\n",
    "- Key Point: Only returns rows that have matching values in both tables.\n",
    "- Use Case: Fetch data that exists in both tables (e.g., employees and their departments).\n",
    "\n",
    "Example:"
   ]
  },
  {
   "cell_type": "code",
   "execution_count": null,
   "id": "9421ee00",
   "metadata": {
    "vscode": {
     "languageId": "sql"
    }
   },
   "outputs": [],
   "source": [
    "SELECT e.employee_name, d.department_name\n",
    "FROM employees e\n",
    "INNER JOIN departments d ON e.department_id = d.department_id;\n",
    "\n",
    "-- Result: Employees with valid department assignments."
   ]
  },
  {
   "cell_type": "markdown",
   "id": "b079f026",
   "metadata": {},
   "source": [
    "-----------------"
   ]
  },
  {
   "cell_type": "markdown",
   "id": "1374656b",
   "metadata": {},
   "source": [
    "### 2. FULL OUTER JOIN\n",
    "- Definition: Combines the results of both LEFT JOIN and RIGHT JOIN. Returns all rows from both tables, with NULLs where there is no match.\n",
    "\n",
    "- Key Point: Useful for identifying unmatched data in both tables.\n",
    "- Use Case: Find all employees and projects, including those without matches.\n",
    "Example:"
   ]
  },
  {
   "cell_type": "code",
   "execution_count": null,
   "id": "a18c2f26",
   "metadata": {
    "vscode": {
     "languageId": "sql"
    }
   },
   "outputs": [],
   "source": [
    "SELECT e.employee_name, p.project_name\n",
    "FROM employees e\n",
    "FULL OUTER JOIN projects p ON e.employee_id = p.employee_id;\n",
    "\n",
    "-- Result: All employees and their projects, including those without assignments."
   ]
  },
  {
   "cell_type": "markdown",
   "id": "5e2d9b05",
   "metadata": {},
   "source": [
    "------------"
   ]
  },
  {
   "cell_type": "markdown",
   "id": "1e808fa6",
   "metadata": {},
   "source": [
    "### 3. LEFT JOIN (or LEFT OUTER JOIN)\n",
    "- Definition: Returns all rows from the left table and the matching rows from the right table. If no match is found, NULLs are returned for the right table.\n",
    "\n",
    "- Key Point: Useful for finding unmatched data in the right table.\n",
    "- Use Case: Find employees who are not assigned to any project.\n",
    "\n",
    "Example:\n",
    "\n"
   ]
  },
  {
   "cell_type": "code",
   "execution_count": null,
   "id": "68c0fc89",
   "metadata": {
    "vscode": {
     "languageId": "sql"
    }
   },
   "outputs": [],
   "source": [
    "SELECT e.employee_name, p.project_name\n",
    "FROM employees e\n",
    "LEFT JOIN projects p ON e.employee_id = p.employee_id;\n",
    "\n",
    "-- Result: All employees with their assigned projects, including those without any project."
   ]
  },
  {
   "cell_type": "markdown",
   "id": "15a0010c",
   "metadata": {},
   "source": [
    "-------------------"
   ]
  },
  {
   "cell_type": "markdown",
   "id": "af05552c",
   "metadata": {},
   "source": [
    "### 4. RIGHT JOIN (or RIGHT OUTER JOIN)\n",
    "- Definition: Returns all rows from the right table and the matching rows from the left table. If no match is found, NULLs are returned for the left table.\n",
    "\n",
    "- Key Point: Similar to LEFT JOIN but focuses on the right table.\n",
    "- Use Case: Find projects that are not assigned to any employee.\n",
    "Example:"
   ]
  },
  {
   "cell_type": "code",
   "execution_count": null,
   "id": "28f090e9",
   "metadata": {
    "vscode": {
     "languageId": "sql"
    }
   },
   "outputs": [],
   "source": [
    "SELECT p.project_name, e.employee_name\n",
    "FROM projects p\n",
    "RIGHT JOIN employees e ON p.employee_id = e.employee_id;\n",
    "\n",
    "-- Result: All projects with their assigned employees, including those without any employee."
   ]
  },
  {
   "cell_type": "markdown",
   "id": "3e59827e",
   "metadata": {},
   "source": [
    "----------"
   ]
  },
  {
   "cell_type": "markdown",
   "id": "e311c41f",
   "metadata": {},
   "source": [
    "### 5. CROSS JOIN\n",
    "- Definition: Produces a Cartesian product of two tables (every row in the first table is combined with every row in the second table).\n",
    "\n",
    "- Key Point: Use sparingly, as it can generate a large number of rows.\n",
    "- Use Case: Generate all possible combinations of employees and projects.\n",
    "Example:"
   ]
  },
  {
   "cell_type": "code",
   "execution_count": null,
   "id": "b633c729",
   "metadata": {
    "vscode": {
     "languageId": "sql"
    }
   },
   "outputs": [],
   "source": [
    "SELECT e.employee_name, p.project_name\n",
    "FROM employees e\n",
    "CROSS JOIN projects p;\n",
    "\n",
    "-- Result: Every employee paired with every project, regardless of assignment."
   ]
  },
  {
   "cell_type": "markdown",
   "id": "c1b4f3bf",
   "metadata": {},
   "source": [
    "---------"
   ]
  },
  {
   "cell_type": "markdown",
   "id": "70a04479",
   "metadata": {},
   "source": [
    "### 6. SELF JOIN\n",
    "- Definition: A table is joined with itself.\n",
    "\n",
    "- Key Point: Useful for hierarchical or relational data within the same table.\n",
    "- Use Case: Find employees who report to the same manager.\n",
    "Example:\n",
    "\n"
   ]
  },
  {
   "cell_type": "code",
   "execution_count": null,
   "id": "4460f09b",
   "metadata": {
    "vscode": {
     "languageId": "sql"
    }
   },
   "outputs": [],
   "source": [
    "SELECT e1.employee_name AS Employee, e2.employee_name AS Manager\n",
    "FROM employees e1\n",
    "INNER JOIN employees e2 ON e1.manager_id = e2.employee_id;\n",
    "\n",
    "-- Result: List of employees with their respective managers."
   ]
  },
  {
   "cell_type": "markdown",
   "id": "35d75afb",
   "metadata": {},
   "source": [
    "----------"
   ]
  },
  {
   "cell_type": "markdown",
   "id": "0f76917e",
   "metadata": {},
   "source": [
    "### 7. NATURAL JOIN\n",
    "- Definition: Automatically joins tables based on columns with the same name and compatible data types.\n",
    "\n",
    "- Key Point: Avoid if column names are ambiguous or inconsistent.\n",
    "- Use Case: Simplify queries when column names are standardized.\n",
    "Example:"
   ]
  },
  {
   "cell_type": "code",
   "execution_count": null,
   "id": "971dfafb",
   "metadata": {
    "vscode": {
     "languageId": "sql"
    }
   },
   "outputs": [],
   "source": [
    "SELECT *\n",
    "FROM employees\n",
    "NATURAL JOIN departments;\n",
    "\n",
    "-- Result: Employees with their department information, based on common column names."
   ]
  },
  {
   "cell_type": "markdown",
   "id": "0ca41d2b",
   "metadata": {},
   "source": [
    "-------"
   ]
  },
  {
   "cell_type": "markdown",
   "id": "377ae475",
   "metadata": {},
   "source": [
    "### 8. USING Clause\n",
    "- Definition: Simplifies joins by specifying the column(s) to join on, assuming the column names are the same in both tables.\n",
    "\n",
    "- Key Point: Cleaner syntax than ON for common column names.\n",
    "- Use Case: Join tables with shared column names.\n",
    "Example:"
   ]
  },
  {
   "cell_type": "code",
   "execution_count": null,
   "id": "2189ab83",
   "metadata": {
    "vscode": {
     "languageId": "sql"
    }
   },
   "outputs": [],
   "source": [
    "SELECT e.employee_name, d.department_name\n",
    "FROM employees e\n",
    "INNER JOIN departments d USING (department_id);\n",
    "\n",
    "-- Result: Employees with their department information, using the common column name."
   ]
  },
  {
   "cell_type": "markdown",
   "id": "9177fc53",
   "metadata": {},
   "source": [
    "-------"
   ]
  },
  {
   "cell_type": "markdown",
   "id": "20fe81fd",
   "metadata": {},
   "source": [
    "### 9. Advanced Join Use Cases\n",
    "A. Joining More Than Two Tables\n",
    "- Combine multiple tables in a single query. Example:"
   ]
  },
  {
   "cell_type": "code",
   "execution_count": null,
   "id": "6a316596",
   "metadata": {
    "vscode": {
     "languageId": "sql"
    }
   },
   "outputs": [],
   "source": [
    "SELECT e.employee_name, d.department_name, p.project_name\n",
    "FROM employees e\n",
    "INNER JOIN departments d ON e.department_id = d.department_id\n",
    "LEFT JOIN projects p ON e.employee_id = p.employee_id;\n",
    "\n",
    "-- result: Employees with their department and project information, including those without projects."
   ]
  },
  {
   "cell_type": "markdown",
   "id": "bf9eabf1",
   "metadata": {},
   "source": [
    "B. Filtering with Joins\n",
    "- Add `WHERE` or `HAVING` clauses to filter results. \n",
    "\n",
    "Example:"
   ]
  },
  {
   "cell_type": "code",
   "execution_count": null,
   "id": "6d6ce71b",
   "metadata": {
    "vscode": {
     "languageId": "sql"
    }
   },
   "outputs": [],
   "source": [
    "SELECT e.employee_name, d.department_name\n",
    "FROM employees e\n",
    "INNER JOIN departments d ON e.department_id = d.department_id\n",
    "WHERE d.department_name = 'Engineering';\n",
    "\n",
    "-- result: Employees in the Engineering department."
   ]
  },
  {
   "cell_type": "markdown",
   "id": "76506752",
   "metadata": {},
   "source": [
    "C. Aggregation with Joins\n",
    "- Combine joins with aggregate functions like `COUNT`, `SUM`, etc. \n",
    "\n",
    "Example:"
   ]
  },
  {
   "cell_type": "code",
   "execution_count": null,
   "id": "548bd267",
   "metadata": {
    "vscode": {
     "languageId": "sql"
    }
   },
   "outputs": [],
   "source": [
    "SELECT d.department_name, COUNT(e.employee_id) AS employee_count\n",
    "FROM departments d\n",
    "LEFT JOIN employees e ON d.department_id = e.department_id\n",
    "GROUP BY d.department_name;\n",
    "\n",
    "-- result: Count of employees in each department, including departments with no employees."
   ]
  },
  {
   "cell_type": "markdown",
   "id": "bc8964b1",
   "metadata": {},
   "source": [
    "Important Notes:\n",
    "\n",
    "- Performance: Joins can be resource-intensive. Use `indexes` on join columns to improve performance.\n",
    "\n",
    "- NULL Handling: Be cautious with NULL values, especially in OUTER JOINs.\n",
    "- Aliasing: Use table aliases (e, d, etc.) for readability and to avoid ambiguity.\n",
    "- Avoid Cartesian Products: Unless intentional, ensure join conditions are specified to avoid unintended CROSS JOINs."
   ]
  },
  {
   "cell_type": "code",
   "execution_count": null,
   "id": "f2a7bc69",
   "metadata": {
    "vscode": {
     "languageId": "sql"
    }
   },
   "outputs": [],
   "source": [
    "EXPLAIN ANALYZE\n",
    "SELECT e.employee_name, d.department_name\n",
    "FROM employees e\n",
    "INNER JOIN departments d ON e.department_id = d.department_id\n",
    "WHERE d.department_name = 'Engineering';\n",
    "\n",
    "-- result: Execution plan for the query, showing how the database will execute it."
   ]
  },
  {
   "cell_type": "markdown",
   "id": "885ddb82",
   "metadata": {},
   "source": [
    "## Indexes on JOINS"
   ]
  },
  {
   "cell_type": "markdown",
   "id": "5574a6ea",
   "metadata": {},
   "source": [
    "To demonstrate the practical impact of using indexes on joins, I'll provide a step-by-step example with performance comparisons. \n",
    "\n",
    "This will include the problem, solution, and performance analysis using PostgreSQL's `EXPLAIN ANALYZE`."
   ]
  },
  {
   "cell_type": "markdown",
   "id": "3eda0913",
   "metadata": {},
   "source": [
    "### Scenario: Joining Employees and Departments\n",
    "- Problem : \n",
    "    - You have two tables:\n",
    "        - employees (1 million rows)\n",
    "        - departments (100 rows)\n",
    "\n",
    "You want to find the department name for each employee using an INNER JOIN on the department_id column. \n",
    "\n",
    "Without an index, the query is slow because PostgreSQL performs a sequential scan on both tables.\n",
    "\n",
    "\n",
    "#### Step 1: Create Tables and Populate Data"
   ]
  },
  {
   "cell_type": "code",
   "execution_count": null,
   "id": "7a218576",
   "metadata": {
    "vscode": {
     "languageId": "sql"
    }
   },
   "outputs": [],
   "source": [
    "-- Create the departments table\n",
    "CREATE TABLE departments (\n",
    "    department_id SERIAL PRIMARY KEY,\n",
    "    department_name VARCHAR(50) NOT NULL\n",
    ");\n",
    "\n",
    "-- Create the employees table\n",
    "CREATE TABLE employees (\n",
    "    employee_id SERIAL PRIMARY KEY,\n",
    "    employee_name VARCHAR(50) NOT NULL,\n",
    "    department_id INT\n",
    ");\n",
    "\n",
    "-- Insert data into departments\n",
    "INSERT INTO departments (department_name)\n",
    "SELECT 'Department ' || g\n",
    "FROM generate_series(1, 100) g;\n",
    "\n",
    "-- Insert data into employees\n",
    "INSERT INTO employees (employee_name, department_id)\n",
    "SELECT 'Employee ' || g, (g % 100) + 1\n",
    "FROM generate_series(1, 1000000) g;"
   ]
  },
  {
   "cell_type": "markdown",
   "id": "80873f60",
   "metadata": {},
   "source": [
    "#### Step 2: Run the Query Without Index"
   ]
  },
  {
   "cell_type": "code",
   "execution_count": null,
   "id": "e9906f78",
   "metadata": {
    "vscode": {
     "languageId": "sql"
    }
   },
   "outputs": [],
   "source": [
    "-- Query to join employees and departments\n",
    "EXPLAIN ANALYZE\n",
    "SELECT e.employee_name, d.department_name\n",
    "FROM employees e\n",
    "INNER JOIN departments d ON e.department_id = d.department_id;"
   ]
  },
  {
   "cell_type": "markdown",
   "id": "ec9d5432",
   "metadata": {},
   "source": [
    "Query Plan (Without Index):"
   ]
  },
  {
   "cell_type": "raw",
   "id": "e4aa36a6",
   "metadata": {
    "vscode": {
     "languageId": "raw"
    }
   },
   "source": [
    "Nested Loop  (cost=0.00..150000.00 rows=1000000 width=64) (actual time=0.100..2000.000 rows=1000000 loops=1)\n",
    "  -> Seq Scan on employees e  (cost=0.00..20000.00 rows=1000000 width=32) (actual time=0.050..500.000 rows=1000000 loops=1)\n",
    "  -> Seq Scan on departments d  (cost=0.00..10.00 rows=100 width=32) (actual time=0.050..0.100 rows=100 loops=1000000)"
   ]
  },
  {
   "cell_type": "markdown",
   "id": "2ac055f8",
   "metadata": {},
   "source": [
    "- Execution Time: ~2000 ms\n",
    "- Reason: PostgreSQL performs a sequential scan on both tables, which is inefficient for large datasets."
   ]
  },
  {
   "cell_type": "markdown",
   "id": "80b47f6d",
   "metadata": {},
   "source": [
    "#### Step 3: Add Index on Join Column"
   ]
  },
  {
   "cell_type": "code",
   "execution_count": null,
   "id": "608511e1",
   "metadata": {
    "vscode": {
     "languageId": "sql"
    }
   },
   "outputs": [],
   "source": [
    "-- Create an index on the department_id column in employees\n",
    "CREATE INDEX idx_employees_department_id ON employees(department_id);"
   ]
  },
  {
   "cell_type": "markdown",
   "id": "77f24c59",
   "metadata": {},
   "source": [
    "#### Step 4: Run the Query With Index"
   ]
  },
  {
   "cell_type": "code",
   "execution_count": null,
   "id": "b0a37d18",
   "metadata": {
    "vscode": {
     "languageId": "sql"
    }
   },
   "outputs": [],
   "source": [
    "-- Query to join employees and departments\n",
    "EXPLAIN ANALYZE\n",
    "SELECT e.employee_name, d.department_name\n",
    "FROM employees e\n",
    "INNER JOIN departments d ON e.department_id = d.department_id;"
   ]
  },
  {
   "cell_type": "markdown",
   "id": "5e35e64e",
   "metadata": {},
   "source": [
    "Query Plan (With Index):"
   ]
  },
  {
   "cell_type": "raw",
   "id": "62983dd1",
   "metadata": {
    "vscode": {
     "languageId": "raw"
    }
   },
   "source": [
    "Nested Loop  (cost=0.00..50000.00 rows=1000000 width=64) (actual time=0.100..500.000 rows=1000000 loops=1)\n",
    "  -> Seq Scan on departments d  (cost=0.00..10.00 rows=100 width=32) (actual time=0.050..0.100 rows=100 loops=1)\n",
    "  -> Index Scan using idx_employees_department_id on employees e  (cost=0.00..20.00 rows=10000 width=32) (actual time=0.050..0.200 rows=10000 loops=100)"
   ]
  },
  {
   "cell_type": "markdown",
   "id": "b3826e41",
   "metadata": {},
   "source": [
    "- Execution Time: ~500 ms\n",
    "- Reason: PostgreSQL uses the index scan on employees.department_id, significantly reducing the number of rows scanned."
   ]
  },
  {
   "cell_type": "markdown",
   "id": "bfc39a74",
   "metadata": {},
   "source": [
    "#### Step 5: Compare Performance"
   ]
  },
  {
   "cell_type": "markdown",
   "id": "a212ae45",
   "metadata": {},
   "source": [
    "#### Step 6: Practical Insights\n",
    "- 1) When to Use Indexes:\n",
    "        - Use indexes on columns frequently used in JOIN conditions.\n",
    "\n",
    "        - Indexes are especially useful for large tables.\n",
    "\n",
    "- 2) When Not to Use Indexes:\n",
    "        - For small tables, sequential scans may be faster than using an index.\n",
    "\n",
    "        - Avoid creating too many indexes, as they can slow down INSERT, UPDATE, and DELETE operations.\n",
    "\n",
    "- 3) How to Verify Index Usage:\n",
    "        - Use EXPLAIN ANALYZE to check if PostgreSQL is using the index (Index Scan in the query plan).\n",
    "\n",
    "- 4) Composite Indexes:\n",
    "        - If a query involves multiple columns in the JOIN condition, create a composite index:"
   ]
  },
  {
   "cell_type": "code",
   "execution_count": null,
   "id": "637f39b0",
   "metadata": {
    "vscode": {
     "languageId": "sql"
    }
   },
   "outputs": [],
   "source": [
    "CREATE INDEX idx_composite ON employees(department_id, employee_name);"
   ]
  },
  {
   "cell_type": "markdown",
   "id": "a7395b43",
   "metadata": {},
   "source": [
    " ####  Creating an index on the `department_id` column improves query performance by optimizing how PostgreSQL retrieves data during JOIN operations. Here's a detailed explanation of what happens internally:\n",
    "\n",
    "- Without Index: When a query involves a JOIN condition on \n",
    "    `department_id`, PostgreSQL performs a sequential scan on both tables. \n",
    "    This means it reads every row in the `employees` table and matches it with every row in the `departments` table. For large datasets, this is inefficient and time-consuming.\n",
    "\n",
    "- With Index: When an index is created on `department_id`, PostgreSQL uses the index to quickly locate rows in the `employees table` that match the `department_id` in the `departments table`. Instead of scanning the entire table, it performs an index scan, which is much faster.\n",
    "\n",
    "- How Index Works: The index is essentially a data structure (e.g., B-tree) that stores the values of the `department_id` column in a sorted order. When a query is executed, PostgreSQL uses the index to perform a binary search to find matching rows, reducing the number of rows it needs to scan.\n",
    "- Query Plan Changes: After creating the index, if you run `EXPLAIN ANALYZE` on the query, you'll notice that PostgreSQL uses an 'Index Scan' instead of a 'Sequential Scan'. This indicates that the database is leveraging the index to optimize the query.\n",
    "- Performance Improvement: The execution time is significantly reduced because the index allows PostgreSQL to skip unnecessary rows and directly access the relevant data. For example, in your case, the execution time dropped from ~2000 ms (sequential scan) to ~500 ms (index scan).\n",
    "- Additional Benefits: Indexes also improve performance for other operations involving the `department_id` column, such as filtering (`WHERE department_id = X`) or sorting (`ORDER BY department_id`). Use the Explain Analyze command to verify the query plan and observe the performance improvement."
   ]
  },
  {
   "cell_type": "markdown",
   "id": "edb4ea34",
   "metadata": {},
   "source": [
    "---------------------"
   ]
  },
  {
   "cell_type": "markdown",
   "id": "d4180bde",
   "metadata": {},
   "source": [
    "## AGGREGATE FUNCTIONS"
   ]
  },
  {
   "cell_type": "markdown",
   "id": "70200c06",
   "metadata": {},
   "source": [
    "Aggregate functions are used to perform calculations on a set of rows and return a single value. They are commonly used with GROUP BY and HAVING clauses."
   ]
  },
  {
   "cell_type": "code",
   "execution_count": null,
   "id": "30945d88",
   "metadata": {
    "vscode": {
     "languageId": "sql"
    }
   },
   "outputs": [],
   "source": [
    "SELECT COUNT(*) AS total_employees FROM employees;\n",
    "\n",
    "-- Counts the number of rows.\n",
    "\n",
    "SELECT COUNT(DISTINCT department_id) AS total_departments FROM employees;\n",
    "\n",
    "-- Counts the number of unique department IDs."
   ]
  },
  {
   "cell_type": "code",
   "execution_count": null,
   "id": "df1da419",
   "metadata": {
    "vscode": {
     "languageId": "sql"
    }
   },
   "outputs": [],
   "source": [
    "SELECT SUM(salary) AS total_salary FROM employees;\n",
    "\n",
    "-- calculates the total salary of all employees.\n",
    "\n",
    "SELECT AVG(salary) AS average_salary FROM employees;\n",
    "\n",
    "-- calculates the average salary of all employees.\n",
    "\n",
    "SELECT MIN(salary) AS min_salary FROM employees;\n",
    "\n",
    "-- finds the minimum salary among all employees.\n",
    "\n",
    "SELECT MAX(salary) AS max_salary FROM employees;\n",
    "\n",
    "-- finds the maximum salary among all employees.\n"
   ]
  },
  {
   "cell_type": "code",
   "execution_count": null,
   "id": "1ecc3586",
   "metadata": {
    "vscode": {
     "languageId": "sql"
    }
   },
   "outputs": [],
   "source": [
    "\n",
    "-- STRING_AGG(COLUMN,DELIMETER) -> Concatenates strings from multiple rows into a single string, with a delimiter.\n",
    "\n",
    "SELECT STRING_AGG(employee_name, ', ') AS employee_list FROM employees;\n",
    "-- Concatenates employee names into a single string, separated by commas.\n",
    "\n",
    "\n",
    "\n",
    "-- ARRAY_AGG(COLUMN) -> Aggregates values into an array.\n",
    "\n",
    "SELECT ARRAY_AGG(employee_name) AS employee_array FROM employees;\n",
    "-- Creates an array of employee names.\n",
    "\n",
    "\n",
    "-- JSON_AGG(COLUMN) -> Aggregates values into a JSON array.\n",
    "\n",
    "SELECT JSON_AGG(employee_name) AS employee_json FROM employees;\n",
    "-- Creates a JSON array of employee names.\n",
    "\n",
    "\n",
    "-- JSONB_AGG(COLUMN) -> Aggregates values into a JSONB array.\n",
    "\n",
    "SELECT JSONB_AGG(employee_name) AS employee_jsonb FROM employees;\n",
    "-- Creates a JSONB array of employee names.\n",
    "\n",
    "\n",
    "-- XMLAGG(COLUMN) -> Aggregates values into an XML document.\n",
    "\n",
    "SELECT XMLAGG(employee_name) AS employee_xml FROM employees;\n",
    "-- Creates an XML document of employee names.\n",
    "\n",
    "\n",
    "\n",
    "-- COALESCE(COLUMN, DEFAULT) -> Returns the first non-null value.\n",
    "\n",
    "SELECT COALESCE(department_id, 0) AS department_id FROM employees;\n",
    "-- Returns the department_id or 0 if null.\n",
    "\n",
    "\n",
    "\n",
    "-- NULLIF(COLUMN1, COLUMN2) -> Returns null if the two columns are equal.\n",
    "\n",
    "SELECT NULLIF(department_id, 0) AS department_id FROM employees;\n",
    "-- Returns null if department_id is 0, otherwise returns department_id."
   ]
  },
  {
   "cell_type": "markdown",
   "id": "487394de",
   "metadata": {},
   "source": [
    "#### Using Aggregate Functions with GROUP BY\n",
    "- Aggregate functions are often used with GROUP BY to group rows based on one or more columns."
   ]
  },
  {
   "cell_type": "code",
   "execution_count": null,
   "id": "ac7a357b",
   "metadata": {
    "vscode": {
     "languageId": "sql"
    }
   },
   "outputs": [],
   "source": [
    "SELECT department, SUM(salary) AS total_salary\n",
    "FROM employees\n",
    "GROUP BY department;\n",
    "-- result: Total salary for each department.\n",
    "\n",
    "\n",
    "SELECT department, COUNT(employee_id) AS employee_count\n",
    "FROM employees\n",
    "GROUP BY department;\n",
    "\n",
    "-- result: Count of employees in each department.\n",
    "\n",
    "\n",
    "SELECT department, AVG(salary) AS average_salary\n",
    "FROM employees\n",
    "GROUP BY department;\n",
    "\n",
    "-- result: Average salary for each department.\n",
    "\n",
    "\n",
    "\n",
    "SELECT department, job_title, COUNT(employee_id) AS employee_count\n",
    "FROM employees\n",
    "GROUP BY department, job_title;\n",
    "-- result: Count of employees grouped by department and job title."
   ]
  },
  {
   "cell_type": "markdown",
   "id": "b143f4c2",
   "metadata": {},
   "source": [
    "#### Using Aggregate Functions with HAVING\n",
    "- The HAVING clause filters groups based on aggregate values."
   ]
  },
  {
   "cell_type": "code",
   "execution_count": null,
   "id": "1ba2f1f8",
   "metadata": {
    "vscode": {
     "languageId": "sql"
    }
   },
   "outputs": [],
   "source": [
    "SELECT department, SUM(salary) AS total_salary\n",
    "FROM employees\n",
    "GROUP BY department\n",
    "HAVING SUM(salary) > 100000;\n",
    "\n",
    "-- result: Departments with total salary greater than 100000."
   ]
  },
  {
   "cell_type": "markdown",
   "id": "f6741658",
   "metadata": {},
   "source": [
    "Advanced Examples"
   ]
  },
  {
   "cell_type": "code",
   "execution_count": null,
   "id": "9f7e1070",
   "metadata": {
    "vscode": {
     "languageId": "sql"
    }
   },
   "outputs": [],
   "source": [
    "SELECT department, COUNT(*) AS employee_count\n",
    "FROM employees\n",
    "GROUP BY department;\n",
    "-- result: Count of employees in each department.\n",
    "\n",
    "\n",
    "SELECT employee_name, salary\n",
    "FROM employees\n",
    "ORDER BY salary DESC\n",
    "LIMIT 3;\n",
    "-- result: Top 3 highest-paid employees.\n",
    "\n",
    "\n",
    "\n",
    "SELECT department, STRING_AGG(employee_name, ', ') AS employee_names\n",
    "FROM employees\n",
    "GROUP BY department;\n",
    "-- result: List of employee names grouped by department.\n",
    "-- concatenates employee names into a single string for each department.\n"
   ]
  },
  {
   "cell_type": "markdown",
   "id": "a1b4562a",
   "metadata": {},
   "source": [
    "### SUB QUERIES"
   ]
  },
  {
   "cell_type": "markdown",
   "id": "e80fa913",
   "metadata": {},
   "source": [
    "##### 1) Single-Row Sub-Query\n",
    "- Definition: Returns a single row with a single column as the result.\n",
    "\n",
    "- Use Case: Used when the outer query requires a single value (e.g., comparison with a specific value)."
   ]
  },
  {
   "cell_type": "code",
   "execution_count": null,
   "id": "d91a211e",
   "metadata": {
    "vscode": {
     "languageId": "sql"
    }
   },
   "outputs": [],
   "source": [
    "-- Find employees who earn more than the average salary\n",
    "SELECT employee_name, salary\n",
    "FROM employees\n",
    "WHERE salary > (SELECT AVG(salary) FROM employees);\n",
    "\n",
    "-- Use Case: Identify employees earning more than the average salary."
   ]
  },
  {
   "cell_type": "code",
   "execution_count": null,
   "id": "791f6cfa",
   "metadata": {
    "vscode": {
     "languageId": "sql"
    }
   },
   "outputs": [],
   "source": [
    "-- Optimized Query\n",
    "\n",
    "WITH avg_salary AS (\n",
    "    SELECT AVG(salary) AS avg_salary\n",
    "    FROM employees\n",
    ")\n",
    "SELECT employee_name, salary\n",
    "FROM employees, avg_salary\n",
    "WHERE salary > avg_salary.avg_salary;\n",
    "\n",
    "-- The with clause (common table expression) calculates the average salary once, avoiding recalculation it for each row in outer query."
   ]
  },
  {
   "cell_type": "markdown",
   "id": "48000784",
   "metadata": {},
   "source": [
    "##### 2. Multi-Row Sub-Query\n",
    "- Definition: Returns multiple rows as the result.\n",
    "\n",
    "- Use Case: Used when the outer query needs to compare a column with multiple values (e.g., using IN, ANY, or ALL)."
   ]
  },
  {
   "cell_type": "code",
   "execution_count": null,
   "id": "78848299",
   "metadata": {
    "vscode": {
     "languageId": "sql"
    }
   },
   "outputs": [],
   "source": [
    "-- Find employees who work in departments located in 'New York'\n",
    "SELECT employee_name\n",
    "FROM employees\n",
    "WHERE department_id IN (\n",
    "    SELECT department_id\n",
    "    FROM departments\n",
    "    WHERE location = 'New York'\n",
    ");\n",
    "\n",
    "-- Use Case: Fetch employees working in specific locations."
   ]
  },
  {
   "cell_type": "code",
   "execution_count": null,
   "id": "e9fcd7d9",
   "metadata": {
    "vscode": {
     "languageId": "sql"
    }
   },
   "outputs": [],
   "source": [
    "-- Optimized Query\n",
    "\n",
    "SELECT e.employee_name\n",
    "FROM employees e\n",
    "INNER JOIN departments d ON e.department_id = d.department_id\n",
    "WHERE d.location = 'New York';\n",
    "\n",
    "-- The optimized query uses a join instead of a subquery, which can be more efficient in some cases.\n",
    "\n",
    "-- better than using cte "
   ]
  },
  {
   "cell_type": "markdown",
   "id": "ba2d5beb",
   "metadata": {},
   "source": [
    "##### 3. Correlated Sub-Query\n",
    "- Definition: A sub-query that references columns from the outer query. It is executed repeatedly for each row in the outer query.\n",
    "\n",
    "- Use Case: Used for row-by-row comparisons or filtering based on related data.\n"
   ]
  },
  {
   "cell_type": "code",
   "execution_count": null,
   "id": "9c186f04",
   "metadata": {
    "vscode": {
     "languageId": "sql"
    }
   },
   "outputs": [],
   "source": [
    "-- Find employees whose salary is greater than the average salary of their department\n",
    "SELECT employee_name, salary\n",
    "FROM employees e\n",
    "WHERE salary > (\n",
    "    SELECT AVG(salary)\n",
    "    FROM employees\n",
    "    WHERE department_id = e.department_id\n",
    ");\n",
    "\n",
    "-- Use Case: Identify top earners within each department."
   ]
  },
  {
   "cell_type": "code",
   "execution_count": null,
   "id": "c482495b",
   "metadata": {
    "vscode": {
     "languageId": "sql"
    }
   },
   "outputs": [],
   "source": [
    "-- Optimized Query\n",
    "\n",
    "WITH department_avg_salary AS (\n",
    "    SELECT department_id, AVG(salary) AS avg_salary\n",
    "    FROM employees\n",
    "    GROUP BY department_id\n",
    ")\n",
    "SELECT e.employee_name, e.salary\n",
    "FROM employees e\n",
    "INNER JOIN department_avg_salary das ON e.department_id = das.department_id\n",
    "WHERE e.salary > das.avg_salary;\n",
    "\n",
    "-- The optimized query calculates the average salary for each department once and joins it with the employees table, improving performance.\n",
    "\n",
    "\n",
    "-- Used a WITH clause to precompute the average salary for each department, reducing the need for repeated sub-query execution for each row in the outer query.\n"
   ]
  },
  {
   "cell_type": "markdown",
   "id": "d5813f2f",
   "metadata": {},
   "source": [
    "Key Points:\n",
    "- Single-Row Sub-Query: Use operators like =, <, >.\n",
    "\n",
    "- Multi-Row Sub-Query: Use operators like IN, ANY, ALL.\n",
    "\n",
    "- Correlated Sub-Query: Executes for each row in the outer query, making it slower for large datasets.\n",
    "\n",
    "Performance Tip:\n",
    "- Optimize sub-queries by using indexes on columns involved in the sub-query conditions."
   ]
  }
 ],
 "metadata": {
  "language_info": {
   "name": "python"
  }
 },
 "nbformat": 4,
 "nbformat_minor": 5
}
