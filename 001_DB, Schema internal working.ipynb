{
 "cells": [
  {
   "cell_type": "markdown",
   "id": "7ed028c1",
   "metadata": {},
   "source": [
    "🧠 What Happens Internally When You Run:"
   ]
  },
  {
   "cell_type": "code",
   "execution_count": null,
   "id": "55e5400c",
   "metadata": {
    "vscode": {
     "languageId": "sql"
    }
   },
   "outputs": [],
   "source": [
    "CREATE DATABASE myappdb;"
   ]
  },
  {
   "cell_type": "markdown",
   "id": "43cbe294",
   "metadata": {},
   "source": [
    "### ✅ 1. PostgreSQL Copies a Template Database\n",
    "PostgreSQL uses a template to create new databases.\n",
    "\n",
    "By default, it uses `template1`"
   ]
  },
  {
   "cell_type": "markdown",
   "id": "2cbc1dd2",
   "metadata": {},
   "source": [
    "🔍 Internally:"
   ]
  },
  {
   "cell_type": "raw",
   "id": "a13d2989",
   "metadata": {
    "vscode": {
     "languageId": "raw"
    }
   },
   "source": [
    "template1 → copied → myappdb"
   ]
  },
  {
   "cell_type": "markdown",
   "id": "9e99eca4",
   "metadata": {},
   "source": [
    "Prefer using `template0` instead of `template1` if you want a minimal clean DB:"
   ]
  },
  {
   "cell_type": "raw",
   "id": "2b9be5bf",
   "metadata": {
    "vscode": {
     "languageId": "raw"
    }
   },
   "source": [
    "CREATE DATABASE mydb TEMPLATE template0;"
   ]
  },
  {
   "cell_type": "markdown",
   "id": "8f5e6512",
   "metadata": {},
   "source": [
    "### ✅ 2. New Physical Directory is Created\n",
    "A new folder is created in your PostgreSQL data directory\n",
    "\n",
    "It stores:\n",
    "\n",
    "- Metadata\n",
    "\n",
    "- Data files\n",
    "\n",
    "- WAL (Write-Ahead Logging) support\n",
    "\n",
    "- Transaction logs\n",
    "\n",
    "📁 Example:"
   ]
  },
  {
   "cell_type": "raw",
   "id": "5d887a91",
   "metadata": {
    "vscode": {
     "languageId": "raw"
    }
   },
   "source": [
    "/var/lib/postgresql/15/main/base/<OID>/"
   ]
  },
  {
   "cell_type": "markdown",
   "id": "95dc2d6d",
   "metadata": {},
   "source": [
    "`<OID>` → Object ID assigned to the new database internally"
   ]
  },
  {
   "cell_type": "markdown",
   "id": "57b21ff2",
   "metadata": {},
   "source": [
    "### ✅ 3. System Catalogs are Updated\n",
    "\n",
    "PostgreSQL updates internal catalogs in `template1`:\n",
    "\n",
    "- `pg_database`: Registers the new DB\n",
    "\n",
    "- `pg_tablespace`: Links DB to its storage\n",
    "\n",
    "- `pg_authid`: Tracks the user who created it"
   ]
  },
  {
   "cell_type": "markdown",
   "id": "9a630392",
   "metadata": {},
   "source": [
    "### ✅ 4. Public Schema is Created\n",
    "\n",
    "- Inside every new DB, a default schema called `public` is created\n",
    "\n",
    "- Also, default roles like `postgres` get full privileges on it"
   ]
  },
  {
   "cell_type": "markdown",
   "id": "b94ce6eb",
   "metadata": {},
   "source": [
    "### ✅ 5. The Connection is Ready\n",
    "After creation, you can connect to the DB using:\n"
   ]
  },
  {
   "cell_type": "raw",
   "id": "07db5a01",
   "metadata": {
    "vscode": {
     "languageId": "raw"
    }
   },
   "source": [
    "\\c myappdb   -- in psql"
   ]
  }
 ],
 "metadata": {
  "language_info": {
   "name": "python"
  }
 },
 "nbformat": 4,
 "nbformat_minor": 5
}
