{
 "cells": [
  {
   "cell_type": "markdown",
   "id": "b6bcba8c",
   "metadata": {},
   "source": [
    "## 🔰 Phase 0: Setup & Environment\n",
    "### `🔹 Install & Configure`\n",
    "\n",
    "-    ✅ Install PostgreSQL (latest version)\n",
    "\n",
    "-    ✅ Install pgAdmin 4 (GUI) – optional, helpful for visual query building\n",
    "\n",
    "-    ✅ Enable PostgreSQL service and set up default postgres user"
   ]
  },
  {
   "cell_type": "code",
   "execution_count": null,
   "id": "485a9dfc",
   "metadata": {
    "vscode": {
     "languageId": "powershell"
    }
   },
   "outputs": [],
   "source": [
    "# Ubuntu example\n",
    "sudo apt install postgresql postgresql-contrib\n",
    "sudo systemctl start postgresql\n"
   ]
  },
  {
   "cell_type": "markdown",
   "id": "3deb7d9f",
   "metadata": {
    "vscode": {
     "languageId": "powershell"
    }
   },
   "source": [
    "1) `sudo apt install postgresql postgresql-contrib`\n",
    "\n",
    "\n",
    "`sudo`: Runs the command with administrator privileges (superuser).\n",
    "\n",
    "`apt install`: Installs software packages using Ubuntu’s package manager (apt).\n",
    "\n",
    "`postgresql`: Installs the main PostgreSQL server (database engine).\n",
    "\n",
    "`postgresql-contrib`: Installs extra useful tools and extensions that are officially supported by PostgreSQL (like pg_stat_statements, uuid-ossp, etc).\n",
    "\n",
    "🧠 In short:\n",
    "\n",
    "Installs PostgreSQL database + some official add-ons that help in real-world use cases (like performance tracking, UUID support, etc).\n",
    "\n",
    "----------------------------\n",
    "\n",
    "\n",
    "2) `sudo systemctl start postgresql`\n",
    "\n",
    "`systemctl`: A tool to manage services (daemons) in Ubuntu.\n",
    "`\n",
    "`start postgresql`: Starts the PostgreSQL server as a background service (so it begins listening for connections on port 5432 by default).\n",
    "\n",
    "🧠 In short:\n",
    "\n",
    "Starts the PostgreSQL database service, so you can connect, create databases, and run queries.\n",
    "\n",
    "-------------------\n",
    "\n",
    "\n",
    "### Bonus Commands You Should Know:\n",
    "\n",
    "`sudo systemctl enable postgresql` ----> Auto-start PostgreSQL every time you boot Ubuntu\n",
    "\n",
    "`sudo systemctl stop postgresql` ----> Stops the PostgreSQL service\n",
    "\n",
    "`sudo systemctl restart postgresql` ----> Restarts the service (after config changes)\n",
    "\n",
    "`sudo systemctl status postgresql` ---->\tShows the current status (running, stopped, failed)\n",
    "\n",
    "\n",
    "\n",
    "\n",
    "-------------------\n"
   ]
  },
  {
   "cell_type": "markdown",
   "id": "42bd0321",
   "metadata": {},
   "source": [
    "### `🔹 Create Your Environment`\n",
    "\n",
    "-    ✅ Create a new user (role) and database"
   ]
  },
  {
   "cell_type": "code",
   "execution_count": null,
   "id": "1e21e07a",
   "metadata": {
    "vscode": {
     "languageId": "sql"
    }
   },
   "outputs": [],
   "source": [
    "CREATE ROLE hemendra WITH LOGIN PASSWORD 'yourpassword';\n",
    "CREATE DATABASE dev_db OWNER hemendra;\n",
    "GRANT ALL PRIVILEGES ON DATABASE dev_db TO hemendra;\n"
   ]
  },
  {
   "cell_type": "markdown",
   "id": "5d1dc859",
   "metadata": {},
   "source": [
    "## 🧱 Phase 1: PostgreSQL Basics (Fast Refresh from SQLite)\n",
    "\n",
    "- ✅ CRUD Operations\n",
    "\n",
    "    - `CREATE, INSERT, SELECT, UPDATE, DELETE`\n",
    "\n",
    "    - Use `SERIAL / BIGSERIAL` for auto-incrementing PKs\n",
    "\n",
    "    - RETURNING clause to fetch inserted/updated rows"
   ]
  },
  {
   "cell_type": "code",
   "execution_count": null,
   "id": "a41cf316",
   "metadata": {
    "vscode": {
     "languageId": "sql"
    }
   },
   "outputs": [],
   "source": [
    "CREATE TABLE employees (\n",
    "  id SERIAL PRIMARY KEY,\n",
    "  name TEXT NOT NULL,\n",
    "  department TEXT DEFAULT 'General',\n",
    "  joined_on DATE DEFAULT CURRENT_DATE\n",
    ");\n"
   ]
  },
  {
   "cell_type": "markdown",
   "id": "1ce8a36f",
   "metadata": {},
   "source": [
    "✅ Schema Management"
   ]
  },
  {
   "cell_type": "code",
   "execution_count": null,
   "id": "74bc4190",
   "metadata": {
    "vscode": {
     "languageId": "sql"
    }
   },
   "outputs": [],
   "source": [
    "CREATE SCHEMA company;\n",
    "SET search_path TO company;"
   ]
  },
  {
   "cell_type": "markdown",
   "id": "6c3997e9",
   "metadata": {},
   "source": [
    "You can organize tables, views, etc. inside named schemas like folders in your DB."
   ]
  },
  {
   "cell_type": "markdown",
   "id": "29b82792",
   "metadata": {},
   "source": [
    "--------------------------- "
   ]
  },
  {
   "cell_type": "markdown",
   "id": "c37473fe",
   "metadata": {},
   "source": [
    "## 🛡️ Phase 2: Normalization, Constraints & Data Types\n",
    "\n",
    "\n",
    "- ✅ Normalization (1NF to BCNF)\n",
    "\n",
    "   - Remove redundancy, avoid update anomalies\n",
    "\n",
    "   - Split large unstructured tables into structured ones using:\n",
    "\n",
    "      -  1NF: Atomic values\n",
    "\n",
    "      -  2NF: Full functional dependency\n",
    "\n",
    "      - 3NF: No transitive dependency\n",
    "\n",
    "      -  BCNF: Even stricter version of 3NF\n",
    "\n",
    "You can practice normalization with employee, department, and salary tables.\n",
    "\n",
    "\n",
    "\n",
    "- ✅ Important PostgreSQL Constraints\n",
    "\n",
    "   - NOT NULL, UNIQUE, PRIMARY KEY, FOREIGN KEY\n",
    "\n",
    "   - CHECK for value validation\n",
    "\n",
    "   - DEFAULT values for fields\n",
    "\n",
    "   - composite keys, multi-column constraints\n",
    "\n",
    "- ✅ Strong PostgreSQL Data Types\n",
    "\n",
    "   - Category ----->\tTypes\n",
    "\n",
    "   - Text ----->\t`TEXT, VARCHAR(n)`\n",
    "\n",
    "   - Numbers ----->\t`INTEGER, BIGINT, NUMERIC, REAL, DECIMAL`\n",
    "\n",
    "   - Dates/Times ----->\t`DATE, TIMESTAMP WITH TIME ZONE`\n",
    "\n",
    "   - Boolean ----->\t`BOOLEAN`\n",
    "\n",
    "   - Special ----->\t`JSONB, UUID, ARRAY, BYTEA`\n",
    "\n",
    "\n",
    "\n",
    "\n",
    "-----------------------\n"
   ]
  },
  {
   "cell_type": "markdown",
   "id": "30e8dc33",
   "metadata": {},
   "source": [
    "## 🔗 Phase 3: Joins, Subqueries & Grouping\n",
    "\n",
    "- ✅ Master These SQL Patterns\n",
    "\n",
    "    - JOINs: `INNER, LEFT, RIGHT, FULL, SELF JOIN`\n",
    "\n",
    "    - Aggregate functions: `COUNT(), SUM(), AVG(), MAX(), MIN()`\n",
    "\n",
    "    - Grouping & Filtering: `GROUP BY, HAVING, DISTINCT`\n",
    "\n",
    "- ✅ Subqueries\n",
    "\n",
    "    - Single-row and multi-row subqueries\n",
    "\n",
    "    - Correlated subqueries (used inside WHERE/SELECT)\n",
    "\n",
    "---------------"
   ]
  },
  {
   "cell_type": "markdown",
   "id": "74c8ff65",
   "metadata": {},
   "source": [
    "## ⚙️ Phase 4: Advanced Features of PostgreSQL\n",
    "\n",
    "- ✅ Common Table Expressions (CTEs)\n",
    "\n",
    "    Use for readability and modular queries"
   ]
  },
  {
   "cell_type": "code",
   "execution_count": null,
   "id": "239d51fb",
   "metadata": {
    "vscode": {
     "languageId": "sql"
    }
   },
   "outputs": [],
   "source": [
    "WITH dept_count AS (\n",
    "  SELECT department, COUNT(*) AS count FROM employees GROUP BY department\n",
    ")\n",
    "SELECT * FROM dept_count WHERE count > 5;\n"
   ]
  },
  {
   "cell_type": "markdown",
   "id": "3a2589fc",
   "metadata": {},
   "source": [
    "- ✅ Window Functions\n",
    "\n",
    "    `RANK(), ROW_NUMBER(), DENSE_RANK(), LEAD(), LAG()`, running totals"
   ]
  },
  {
   "cell_type": "code",
   "execution_count": null,
   "id": "eecad5f3",
   "metadata": {
    "vscode": {
     "languageId": "sql"
    }
   },
   "outputs": [],
   "source": [
    "SELECT name, salary, RANK() OVER (ORDER BY salary DESC) FROM employees;"
   ]
  },
  {
   "cell_type": "markdown",
   "id": "515dea6e",
   "metadata": {},
   "source": [
    "✅ Table Partitioning\n",
    "\n",
    "    Improves performance on large datasets"
   ]
  },
  {
   "cell_type": "code",
   "execution_count": null,
   "id": "864206db",
   "metadata": {
    "vscode": {
     "languageId": "sql"
    }
   },
   "outputs": [],
   "source": [
    "CREATE TABLE logs (\n",
    "  log_id SERIAL,\n",
    "  log_time TIMESTAMP NOT NULL,\n",
    "  message TEXT\n",
    ") PARTITION BY RANGE (log_time);\n",
    "\n",
    "CREATE TABLE logs_2024 PARTITION OF logs FOR VALUES FROM ('2024-01-01') TO ('2025-01-01');\n"
   ]
  },
  {
   "cell_type": "markdown",
   "id": "e80b832b",
   "metadata": {},
   "source": [
    "Use partitioning when handling huge datasets (logs, events, etc.)"
   ]
  },
  {
   "cell_type": "markdown",
   "id": "8d688b62",
   "metadata": {},
   "source": [
    "---------"
   ]
  },
  {
   "cell_type": "markdown",
   "id": "69a3de46",
   "metadata": {},
   "source": [
    "## 🚀 Phase 5: Performance & Optimization\n",
    "- ✅ Indexing\n",
    "\n",
    "    - `CREATE INDEX, UNIQUE INDEX`\n",
    "\n",
    "    - Types: \n",
    "        - `B-Tree` (default),\n",
    "        - `GIN` (for JSONB), \n",
    "        - `GiST` (for geospatial)\n",
    "\n",
    "    - Use `EXPLAIN ANALYZE` to measure performance\n",
    "\n",
    "- ✅ Query Optimization Best Practices - Performance Tuning\n",
    "\n",
    "    - Avoid `SELECT *` in production\n",
    "\n",
    "    - Filter using indexed columns\n",
    "\n",
    "    - Reduce subqueries when unnecessary\n",
    "\n",
    "    - Use pagination (`LIMIT`, `OFFSET`) smartly\n",
    "\n",
    "    - Monitor slow queries with `pg_stat_statements`\n",
    "\n",
    "-----------------------"
   ]
  },
  {
   "cell_type": "markdown",
   "id": "4ae196c1",
   "metadata": {},
   "source": [
    "## 🔁 Phase 6: Functions, Views & Triggers\n",
    "- ✅ Views\n",
    "\n",
    "    - CREATE VIEW for virtual tables\n",
    "\n",
    "    - Use to hide complexity or expose partial data"
   ]
  },
  {
   "cell_type": "code",
   "execution_count": null,
   "id": "9433d596",
   "metadata": {
    "vscode": {
     "languageId": "sql"
    }
   },
   "outputs": [],
   "source": [
    "CREATE VIEW active_users AS\n",
    "SELECT id, name FROM users WHERE is_active = TRUE;"
   ]
  },
  {
   "cell_type": "markdown",
   "id": "932dd2fc",
   "metadata": {},
   "source": [
    "- ✅ Triggers\n",
    "\n",
    "    Auto-run logic on insert/update/delete"
   ]
  },
  {
   "cell_type": "code",
   "execution_count": null,
   "id": "74168de2",
   "metadata": {
    "vscode": {
     "languageId": "sql"
    }
   },
   "outputs": [],
   "source": [
    "CREATE TRIGGER log_update\n",
    "AFTER UPDATE ON employees\n",
    "FOR EACH ROW\n",
    "EXECUTE FUNCTION log_employee_change();"
   ]
  },
  {
   "cell_type": "code",
   "execution_count": null,
   "id": "578a9bef",
   "metadata": {
    "vscode": {
     "languageId": "sql"
    }
   },
   "outputs": [],
   "source": [
    "CREATE FUNCTION log_employee_change() RETURNS trigger AS $$\n",
    "BEGIN\n",
    "  INSERT INTO log_table VALUES (OLD.id, now());\n",
    "  RETURN NEW;\n",
    "END;\n",
    "$$ LANGUAGE plpgsql;\n",
    "\n",
    "CREATE TRIGGER log_update\n",
    "AFTER UPDATE ON employees\n",
    "FOR EACH ROW EXECUTE FUNCTION log_employee_change();"
   ]
  },
  {
   "cell_type": "markdown",
   "id": "0c0ab9cc",
   "metadata": {},
   "source": [
    "- ✅ Stored Functions (PL/pgSQL)\n",
    "\n",
    "    Write functions with loops, IF, etc."
   ]
  },
  {
   "cell_type": "code",
   "execution_count": null,
   "id": "2eb7bd72",
   "metadata": {
    "vscode": {
     "languageId": "sql"
    }
   },
   "outputs": [],
   "source": [
    "CREATE FUNCTION get_bonus(salary NUMERIC) RETURNS NUMERIC AS $$\n",
    "BEGIN\n",
    "  RETURN salary * 0.1;\n",
    "END;\n",
    "$$ LANGUAGE plpgsql;"
   ]
  },
  {
   "cell_type": "markdown",
   "id": "8e8fcb54",
   "metadata": {},
   "source": [
    "-----------------"
   ]
  },
  {
   "cell_type": "markdown",
   "id": "7b1f4d9f",
   "metadata": {},
   "source": [
    "## 📦 Phase 7: JSONB, Arrays & Modern Data Types\n",
    "\n",
    "- ✅ JSONB (Efficient JSON storage/querying)"
   ]
  },
  {
   "cell_type": "code",
   "execution_count": null,
   "id": "5ccae252",
   "metadata": {
    "vscode": {
     "languageId": "sql"
    }
   },
   "outputs": [],
   "source": [
    "CREATE TABLE products (\n",
    "  id SERIAL PRIMARY KEY,\n",
    "  info JSONB\n",
    ");\n",
    "\n",
    "SELECT info->>'brand' FROM products WHERE info->>'category' = 'mobile';"
   ]
  },
  {
   "cell_type": "markdown",
   "id": "61c17e63",
   "metadata": {},
   "source": [
    "- ✅ Arrays\n",
    "\n",
    "    PostgreSQL supports native arrays"
   ]
  },
  {
   "cell_type": "code",
   "execution_count": null,
   "id": "8de382fb",
   "metadata": {
    "vscode": {
     "languageId": "sql"
    }
   },
   "outputs": [],
   "source": [
    "CREATE TABLE devs (\n",
    "  id SERIAL,\n",
    "  name TEXT,\n",
    "  skills TEXT[]\n",
    ");\n",
    "\n",
    "SELECT * FROM devs WHERE 'Python' = ANY(skills);"
   ]
  },
  {
   "cell_type": "markdown",
   "id": "6a562e6b",
   "metadata": {},
   "source": [
    "- ✅ UUID\n",
    "\n",
    "    Use uuid-ossp extension"
   ]
  },
  {
   "cell_type": "code",
   "execution_count": null,
   "id": "59e7f8af",
   "metadata": {
    "vscode": {
     "languageId": "sql"
    }
   },
   "outputs": [],
   "source": [
    "CREATE EXTENSION IF NOT EXISTS \"uuid-ossp\";\n",
    "CREATE TABLE sessions (\n",
    "  session_id UUID DEFAULT uuid_generate_v4(),\n",
    "  created_on TIMESTAMP DEFAULT now()\n",
    ");"
   ]
  },
  {
   "cell_type": "markdown",
   "id": "47460331",
   "metadata": {},
   "source": [
    "-----------------------"
   ]
  },
  {
   "cell_type": "markdown",
   "id": "b9cb8e84",
   "metadata": {},
   "source": [
    "## 🔐 Phase 8: Roles, Security & Backup\n",
    "- ✅ Role Management\n",
    "\n",
    "    - Create users with permissions\n",
    "\n",
    "    - Use `GRANT`, `REVOKE`, schema-level access"
   ]
  },
  {
   "cell_type": "code",
   "execution_count": null,
   "id": "1fe3116e",
   "metadata": {
    "vscode": {
     "languageId": "sql"
    }
   },
   "outputs": [],
   "source": [
    "CREATE ROLE readonly;\n",
    "GRANT CONNECT ON DATABASE dev_db TO readonly;\n",
    "GRANT USAGE ON SCHEMA public TO readonly;\n",
    "GRANT SELECT ON ALL TABLES IN SCHEMA public TO readonly;"
   ]
  },
  {
   "cell_type": "markdown",
   "id": "60134f2d",
   "metadata": {},
   "source": [
    "- ✅ Backup & Restore\n",
    "\n",
    "    - pg_dump for logical backups\n",
    "\n",
    "    - pg_restore for restoring dumps"
   ]
  },
  {
   "cell_type": "code",
   "execution_count": null,
   "id": "31044170",
   "metadata": {
    "vscode": {
     "languageId": "powershell"
    }
   },
   "outputs": [],
   "source": [
    "pg_dump -U hemendra dev_db > dev_db.sql\n",
    "\n",
    "psql -U hemendra -d new_db < dev_db.sql"
   ]
  },
  {
   "cell_type": "markdown",
   "id": "99553a10",
   "metadata": {},
   "source": [
    "-------------"
   ]
  }
 ],
 "metadata": {
  "language_info": {
   "name": "python"
  }
 },
 "nbformat": 4,
 "nbformat_minor": 5
}
