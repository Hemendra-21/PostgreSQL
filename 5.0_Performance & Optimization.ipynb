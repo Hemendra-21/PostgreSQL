{
 "cells": [
  {
   "cell_type": "markdown",
   "id": "ecd91890",
   "metadata": {},
   "source": [
    "## Indexes"
   ]
  },
  {
   "cell_type": "markdown",
   "id": "11dc311c",
   "metadata": {},
   "source": [
    "In PostgreSQL, the CREATE INDEX statement is used to create an index on a table. \n",
    "\n",
    "Indexes improve the performance of queries by allowing the database to find rows more quickly, especially for large datasets.\n",
    "\n",
    "They are particularly useful for speeding up SELECT queries with WHERE, JOIN, ORDER BY, or GROUP BY clauses.\n",
    "\n",
    "Syntax:\n"
   ]
  },
  {
   "cell_type": "code",
   "execution_count": null,
   "id": "b304e751",
   "metadata": {
    "vscode": {
     "languageId": "sql"
    }
   },
   "outputs": [],
   "source": [
    "CREATE INDEX index_name ON table_name (column_name);"
   ]
  },
  {
   "cell_type": "markdown",
   "id": "42760c34",
   "metadata": {},
   "source": [
    "Key Points:\n",
    "- Index Name: A unique name for the index.\n",
    "\n",
    "- Table Name: The table on which the index is created.\n",
    "- Column Name: The column(s) to be indexed.\n",
    "\n",
    "Example:"
   ]
  },
  {
   "cell_type": "code",
   "execution_count": null,
   "id": "988d76d9",
   "metadata": {
    "vscode": {
     "languageId": "sql"
    }
   },
   "outputs": [],
   "source": [
    "CREATE INDEX idx_employee_name ON employees (name);"
   ]
  },
  {
   "cell_type": "markdown",
   "id": "737a392c",
   "metadata": {},
   "source": [
    "This creates an index named idx_employee_name on the name column of the employees table, speeding up queries that filter or sort by name."
   ]
  },
  {
   "cell_type": "markdown",
   "id": "88fda33e",
   "metadata": {},
   "source": [
    "### Types of Indexes:\n",
    "- `B-Tree` (default): Used for most queries (e.g., equality, range queries).\n",
    "\n",
    "- `GIN` (Generalized Inverted Index): Used for full-text search or JSONB data.\n",
    "- `GiST` (Generalized Search Tree): Used for geospatial data.\n",
    "- `Hash`: Used for equality comparisons (e.g., =).\n",
    "- `BRIN` (Block Range Index): Used for very large tables with sequential data.\n",
    "\n",
    "Advanced Example:"
   ]
  },
  {
   "cell_type": "code",
   "execution_count": null,
   "id": "1447f565",
   "metadata": {
    "vscode": {
     "languageId": "sql"
    }
   },
   "outputs": [],
   "source": [
    "CREATE UNIQUE INDEX idx_employee_email ON employees (email);"
   ]
  },
  {
   "cell_type": "markdown",
   "id": "a66cf764",
   "metadata": {},
   "source": [
    "This creates a unique index, ensuring that no two rows in the employees table have the same email.\n",
    "\n",
    "\n",
    "-  In PostgreSQL, when you define a `UNIQUE` constraint on a column, PostgreSQL \n",
    "automatically creates a unique index on that column to enforce the constraint. Therefore, creating a unique index manually on a column that already has a `UNIQUE` constraint is redundant.\n",
    "\n"
   ]
  },
  {
   "cell_type": "code",
   "execution_count": null,
   "id": "e814f960",
   "metadata": {
    "vscode": {
     "languageId": "sql"
    }
   },
   "outputs": [],
   "source": [
    "-- Adding a UNIQUE constraint (automatically creates a unique index):\n",
    "CREATE TABLE users (\n",
    "    id SERIAL PRIMARY KEY,\n",
    "    email VARCHAR(255) UNIQUE\n",
    ");\n",
    "\n",
    "-- Equivalent to:\n",
    "CREATE TABLE users (\n",
    "    id SERIAL PRIMARY KEY,\n",
    "    email VARCHAR(255)\n",
    ");\n",
    "CREATE UNIQUE INDEX idx_users_email ON users(email);"
   ]
  },
  {
   "cell_type": "markdown",
   "id": "5d5cd77e",
   "metadata": {},
   "source": [
    "### B-TREE INDEX"
   ]
  },
  {
   "cell_type": "markdown",
   "id": "c1ee4c41",
   "metadata": {},
   "source": [
    "- A B-Tree index (short for Balanced Tree) is the default and most commonly used type of index in PostgreSQL. \n",
    "\n",
    "- It is designed to efficiently handle equality and range queries, making it suitable for a wide variety of use cases.\n",
    "\n",
    "- Key Features of B-Tree Index:\n",
    "    - Balanced Structure: The B-Tree is a self-balancing tree structure where all leaf nodes are at the same level.\n",
    "    - This ensures that the time complexity for searching, inserting, or deleting is logarithmic `(O(log n))`.\n",
    "\n",
    "- Ordered Data:\n",
    "    - The B-Tree index stores data in a sorted order, which makes it ideal for queries involving:\n",
    "        - Equality (`=`).\n",
    "        - Range conditions (`<, <=, >, >=, BETWEEN`).\n",
    "        - Sorting (`ORDER BY`).\n",
    "\n",
    "- Multi-Column Index:\n",
    "    - B-Tree indexes can be created on multiple columns, and they are useful when queries filter or sort by those columns.\n",
    "- Default Index Type:\n",
    "    - When you create an index without specifying the type, PostgreSQL uses a B-Tree index by default.\n",
    "    \n",
    "Syntax:"
   ]
  },
  {
   "cell_type": "code",
   "execution_count": null,
   "id": "4fb49ac1",
   "metadata": {
    "vscode": {
     "languageId": "sql"
    }
   },
   "outputs": [],
   "source": [
    "CREATE INDEX index_name ON table_name (column_name);"
   ]
  },
  {
   "cell_type": "code",
   "execution_count": null,
   "id": "53b785d6",
   "metadata": {
    "vscode": {
     "languageId": "sql"
    }
   },
   "outputs": [],
   "source": [
    "-- example:\n",
    "CREATE INDEX idx_employee_salary ON employees (salary);"
   ]
  },
  {
   "cell_type": "markdown",
   "id": "5ba283b1",
   "metadata": {},
   "source": [
    "This creates a B-Tree index on the `salary` column of the `employees` table. \n",
    "\n",
    "Queries like the following will benefit from this index:"
   ]
  },
  {
   "cell_type": "code",
   "execution_count": null,
   "id": "fde386cd",
   "metadata": {
    "vscode": {
     "languageId": "sql"
    }
   },
   "outputs": [],
   "source": [
    "SELECT * FROM employees WHERE salary > 50000;\n",
    "SELECT * FROM employees ORDER BY salary;\n",
    "\n",
    "\n",
    "-- Equality conditions:\n",
    "SELECT * FROM employees WHERE department = 'HR';\n",
    "\n",
    "\n",
    "-- Range queries:\n",
    "SELECT * FROM employees WHERE salary BETWEEN 50000 AND 100000;\n",
    "\n",
    "\n",
    "-- Sorting:\n",
    "SELECT * FROM employees ORDER BY joining_date DESC;"
   ]
  },
  {
   "cell_type": "markdown",
   "id": "55e73615",
   "metadata": {},
   "source": [
    "- Limitations:\n",
    "    - Not suitable for non-scalar data types like JSONB or ARRAY.\n",
    "    \n",
    "    - Not efficient for full-text search or geospatial queries (use GIN or GiST indexes instead)."
   ]
  },
  {
   "cell_type": "markdown",
   "id": "dc7491c4",
   "metadata": {},
   "source": [
    "--------------"
   ]
  },
  {
   "cell_type": "markdown",
   "id": "386fceae",
   "metadata": {},
   "source": [
    "### GIN (Generalized Inverted Index) and GiST (Generalized Search Index)"
   ]
  },
  {
   "cell_type": "markdown",
   "id": "3d978aa3",
   "metadata": {},
   "source": [
    "need to learn"
   ]
  },
  {
   "cell_type": "markdown",
   "id": "f5bf5107",
   "metadata": {},
   "source": [
    "----------------"
   ]
  },
  {
   "cell_type": "markdown",
   "id": "07c37cc4",
   "metadata": {},
   "source": [
    "### EXPLAIN AND EXPLAIN ANALYZE"
   ]
  },
  {
   "cell_type": "markdown",
   "id": "773891e7",
   "metadata": {},
   "source": [
    "In PostgreSQL, `EXPLAIN` and `EXPLAIN ANALYZE` are tools used to \n",
    "analyze query execution plans and identify performance bottlenecks. They provide insights into how the PostgreSQL query planner executes a query, including the use of indexes, join strategies, and estimated costs."
   ]
  },
  {
   "cell_type": "markdown",
   "id": "96d8108d",
   "metadata": {},
   "source": [
    "#### 1. EXPLAIN\n",
    "- The `EXPLAIN` command shows the execution plan for a query without actually running it. It provides details about how PostgreSQL plans to execute the query, including the steps involved and their estimated costs.\n",
    "\n",
    "Syntax:"
   ]
  },
  {
   "cell_type": "code",
   "execution_count": null,
   "id": "a49c028c",
   "metadata": {
    "vscode": {
     "languageId": "sql"
    }
   },
   "outputs": [],
   "source": [
    "-- EXPLAIN query;\n",
    "\n",
    "EXPLAIN SELECT * FROM employees WHERE salary > 50000;"
   ]
  },
  {
   "cell_type": "markdown",
   "id": "08e1c50d",
   "metadata": {},
   "source": [
    "Output:\n",
    "- Seq Scan: Indicates a sequential scan of the table.\n",
    "- Index Scan: Indicates the use of an index.\n",
    "- Cost: Estimated cost of the operation (start-up cost and total cost).\n",
    "- Rows: Estimated number of rows returned by the operation.\n"
   ]
  },
  {
   "cell_type": "markdown",
   "id": "01b82524",
   "metadata": {},
   "source": [
    "----------"
   ]
  },
  {
   "cell_type": "markdown",
   "id": "4d32fc5f",
   "metadata": {},
   "source": [
    "#### 2. EXPLAIN ANALYZE\n",
    "\n",
    "The `EXPLAIN ANALYZE` command executes the query and provides the actual execution plan along with runtime statistics. This is useful for comparing the estimated costs with the actual performance.\n",
    "\n",
    "Syntax:\n"
   ]
  },
  {
   "cell_type": "code",
   "execution_count": null,
   "id": "4b5a10b1",
   "metadata": {
    "vscode": {
     "languageId": "sql"
    }
   },
   "outputs": [],
   "source": [
    "-- EXPLAIN ANALYZE query; -- SYNTAX\n",
    "\n",
    "EXPLAIN ANALYZE SELECT * FROM employees WHERE salary > 50000;"
   ]
  },
  {
   "cell_type": "markdown",
   "id": "bd026608",
   "metadata": {},
   "source": [
    "Output:\n",
    "- Actual Time: The actual time taken for each step.\n",
    "- Rows: The actual number of rows processed.\n",
    "- Buffers: Information about disk I/O (if enabled).\n",
    "- Timing: Total execution time.\n"
   ]
  },
  {
   "cell_type": "markdown",
   "id": "81f797e8",
   "metadata": {},
   "source": [
    "Example with Index Optimization:"
   ]
  },
  {
   "cell_type": "code",
   "execution_count": null,
   "id": "5078c406",
   "metadata": {
    "vscode": {
     "languageId": "sql"
    }
   },
   "outputs": [],
   "source": [
    "-- Create an index on the salary column\n",
    "CREATE INDEX idx_salary ON employees (salary);\n",
    "\n",
    "-- Analyze the query\n",
    "EXPLAIN ANALYZE SELECT * FROM employees WHERE salary > 50000;"
   ]
  },
  {
   "cell_type": "markdown",
   "id": "6d48ec90",
   "metadata": {},
   "source": [
    "If the index is used, the output will show an Index Scan instead of a Seq Scan, reducing the query execution time.\n",
    "\n",
    "-------------------"
   ]
  },
  {
   "cell_type": "markdown",
   "id": "4afdcc5f",
   "metadata": {},
   "source": [
    "## Performance Tuning\n"
   ]
  },
  {
   "cell_type": "markdown",
   "id": "b8904d91",
   "metadata": {},
   "source": [
    "##### 1) Avoid SELECT * in production; fetch only required columns."
   ]
  },
  {
   "cell_type": "markdown",
   "id": "3f4c38c8",
   "metadata": {},
   "source": [
    "##### 2) Filter using indexed columns"
   ]
  },
  {
   "cell_type": "markdown",
   "id": "b620fa1c",
   "metadata": {},
   "source": [
    "##### 3) Avoid Functions on Indexed Columns\n",
    "\n",
    "- Avoid applying functions or transformations to indexed columns in the `WHERE` clause, as it can prevent the index from being used. \n",
    "    \n",
    "For example:"
   ]
  },
  {
   "cell_type": "code",
   "execution_count": null,
   "id": "297f9eb2",
   "metadata": {
    "vscode": {
     "languageId": "sql"
    }
   },
   "outputs": [],
   "source": [
    "-- Avoid: \n",
    "\n",
    "SELECT id, name \n",
    "FROM employees \n",
    "WHERE LOWER(department) = 'it';\n",
    "\n",
    "\n",
    "\n",
    "-- Instead, use:\n",
    "\n",
    "SELECT id, name \n",
    "FROM employees \n",
    "WHERE department = 'IT';"
   ]
  },
  {
   "cell_type": "markdown",
   "id": "ff03de19",
   "metadata": {},
   "source": [
    "##### 4) Use Composite Indexes for Multiple Columns\n",
    "If filtering involves multiple columns, create a composite index:\n",
    "\n"
   ]
  },
  {
   "cell_type": "code",
   "execution_count": null,
   "id": "fb880956",
   "metadata": {
    "vscode": {
     "languageId": "sql"
    }
   },
   "outputs": [],
   "source": [
    "CREATE INDEX idx_employees_dept_salary ON employees(department, salary);\n",
    "\n",
    "\n",
    "-- Query example:\n",
    "\n",
    "SELECT id, name \n",
    "FROM employees \n",
    "WHERE department = 'IT' AND salary > 50000;\n",
    "\n",
    "\n",
    "-- By indexing and filtering effectively, you can significantly improve query performance."
   ]
  },
  {
   "cell_type": "markdown",
   "id": "4db01ea0",
   "metadata": {},
   "source": [
    "##### 5) Reduce unnecessary subqueries and use Common Table Expressions (CTEs) for readability.\n"
   ]
  },
  {
   "cell_type": "markdown",
   "id": "8575d369",
   "metadata": {},
   "source": [
    "##### 6) Use pagination (`LIMIT`, `OFFSET`) efficiently for large datasets."
   ]
  },
  {
   "cell_type": "markdown",
   "id": "1f020971",
   "metadata": {},
   "source": [
    "##### 7) Optimize joins by ensuring proper indexing on join keys."
   ]
  },
  {
   "cell_type": "markdown",
   "id": "40e54b24",
   "metadata": {},
   "source": [
    "##### 8) Monitor slow queries with `pg_stat_statements`"
   ]
  },
  {
   "cell_type": "markdown",
   "id": "e5b74591",
   "metadata": {},
   "source": [
    "---------------"
   ]
  },
  {
   "cell_type": "markdown",
   "id": "412204f9",
   "metadata": {},
   "source": [
    "## Vacuuming and Autovacuum"
   ]
  },
  {
   "cell_type": "markdown",
   "id": "239af2c3",
   "metadata": {},
   "source": [
    "In PostgreSQL, vacuuming is a maintenance operation that helps manage storage and optimize database performance by reclaiming unused space and updating table statistics. \n",
    "\n",
    "Over time, as rows are updated or deleted, PostgreSQL does not immediately remove the old data but marks it as \"dead tuples.\" \n",
    "\n",
    "These dead tuples can accumulate and degrade performance if not cleaned up."
   ]
  },
  {
   "cell_type": "markdown",
   "id": "6f761a9f",
   "metadata": {},
   "source": [
    "#### 1. Why Vacuuming is Needed\n",
    "- PostgreSQL uses `MVCC (Multi-Version Concurrency Control)` to handle concurrent transactions. When rows are updated or deleted:\n",
    "\n",
    "    - The old versions of rows (dead tuples) remain in the table until they are cleaned up.\n",
    "\n",
    "    - Dead tuples consume disk space and can slow down queries.\n",
    "- Vacuuming:\n",
    "    - Reclaims storage occupied by dead tuples.\n",
    "\n",
    "    - `Updates statistics for the query planner` to make better decisions.\n",
    "\n",
    "    ----------\n",
    "    -----"
   ]
  },
  {
   "cell_type": "markdown",
   "id": "fe663056",
   "metadata": {},
   "source": [
    "- ##### `Query Planner Statistics in PostgreSQL`\n",
    "\n",
    "    - Query planner statistics are metadata collected by PostgreSQL about the data in your tables. These statistics help the query planner decide the most efficient way to execute a query.\n",
    "    - The planner uses this information to estimate costs, choose indexes, determine join strategies, and optimize query execution.\n",
    "\n",
    "1. Why Are `Query Planner Statistics` Important?\n",
    "- PostgreSQL's query planner relies on accurate statistics to:\n",
    "    - Estimate the number of rows a query will return.\n",
    "    - Decide whether to use an index scan or a sequential scan.\n",
    "    - Optimize joins, sorting, and filtering operations.\n",
    "    - Minimize query execution time by selecting the best execution plan.\n",
    "\n",
    "If the statistics are outdated or inaccurate, the query planner may make suboptimal decisions, leading to poor performance.\n",
    "\n",
    "---------------\n",
    "\n",
    "\n",
    "2. How Are `Statistics Collected`?\n",
    "- Statistics are collected and updated by the `ANALYZE` command or during `autovacuum` operations.\n",
    "\n",
    "--------\n",
    "\n",
    "3. Viewing Query Planner Statistics\n",
    "You can view the collected statistics using the pg_stats system catalog.\n",
    "\n",
    "Example:\n"
   ]
  },
  {
   "cell_type": "code",
   "execution_count": null,
   "id": "ed902890",
   "metadata": {
    "vscode": {
     "languageId": "sql"
    }
   },
   "outputs": [],
   "source": [
    "SELECT * FROM pg_stats WHERE tablename = 'employees';"
   ]
  },
  {
   "cell_type": "markdown",
   "id": "9bed4712",
   "metadata": {},
   "source": [
    "----"
   ]
  },
  {
   "cell_type": "markdown",
   "id": "0ef77b5e",
   "metadata": {},
   "source": [
    "4. `Updating Statistics`\n",
    "- To ensure the query planner has accurate statistics, you can manually run the `ANALYZE` command:\n",
    "\n"
   ]
  },
  {
   "cell_type": "code",
   "execution_count": null,
   "id": "f5279a7d",
   "metadata": {
    "vscode": {
     "languageId": "sql"
    }
   },
   "outputs": [],
   "source": [
    "ANALYZE employees;\n",
    "\n",
    "-- This updates the statistics for the employees table.\n",
    "\n",
    "\n",
    "-- To analyze all tables in the database:\n",
    "ANALYZE;"
   ]
  },
  {
   "cell_type": "markdown",
   "id": "753b3b84",
   "metadata": {},
   "source": [
    "-------------"
   ]
  },
  {
   "cell_type": "markdown",
   "id": "0d166964",
   "metadata": {},
   "source": [
    "5) `Example: Impact of Statistics on Query Planning`\n",
    "\n",
    "- Without Accurate Statistics:\n",
    "    - If statistics are outdated, the query planner might choose a sequential scan instead of an index scan, even when an index exists."
   ]
  },
  {
   "cell_type": "code",
   "execution_count": null,
   "id": "565f091c",
   "metadata": {
    "vscode": {
     "languageId": "sql"
    }
   },
   "outputs": [],
   "source": [
    "EXPLAIN SELECT * FROM employees WHERE salary > 50000;\n",
    "\n",
    "\n",
    "-- output:\n",
    "Seq Scan on employees  (cost=0.00..1000.00 rows=100 width=50)"
   ]
  },
  {
   "cell_type": "markdown",
   "id": "26c41a76",
   "metadata": {},
   "source": [
    "After Updating Statistics:\n",
    "Run `ANALYZE` to update statistics:\n",
    "\n"
   ]
  },
  {
   "cell_type": "code",
   "execution_count": null,
   "id": "8fac7a16",
   "metadata": {
    "vscode": {
     "languageId": "sql"
    }
   },
   "outputs": [],
   "source": [
    "ANALYZE employees;"
   ]
  },
  {
   "cell_type": "code",
   "execution_count": null,
   "id": "eb4d557b",
   "metadata": {
    "vscode": {
     "languageId": "sql"
    }
   },
   "outputs": [],
   "source": [
    "EXPLAIN SELECT * FROM employees WHERE salary > 50000;\n",
    "\n",
    "-- output:\n",
    "Index Scan using idx_salary on employees  (cost=0.00..50.00 rows=100 width=50)\n",
    "\n",
    "\n",
    "-- Now, the query planner uses the index scan instead of a sequential scan, which improves performance."
   ]
  },
  {
   "cell_type": "markdown",
   "id": "820f837a",
   "metadata": {},
   "source": [
    "-----------"
   ]
  },
  {
   "cell_type": "markdown",
   "id": "09a60dd7",
   "metadata": {},
   "source": [
    "6. Configuring Statistics\n",
    "- You can adjust the level of detail collected for a column using the ALTER TABLE command with the SET STATISTICS option.\n",
    "\n",
    "Example:"
   ]
  },
  {
   "cell_type": "code",
   "execution_count": null,
   "id": "95fcc953",
   "metadata": {
    "vscode": {
     "languageId": "sql"
    }
   },
   "outputs": [],
   "source": [
    "ALTER TABLE employees ALTER COLUMN salary SET STATISTICS 100;\n",
    "\n",
    "-- The default statistics target is 100.\n",
    "-- Higher values (up to 1000) collect more detailed statistics but increase the cost of ANALYZE."
   ]
  },
  {
   "cell_type": "markdown",
   "id": "3e7a3fe1",
   "metadata": {},
   "source": [
    "---------------"
   ]
  },
  {
   "cell_type": "markdown",
   "id": "b7fd02f3",
   "metadata": {},
   "source": [
    "7. Best Practices\n",
    "- Regularly run ANALYZE or ensure autovacuum is enabled to keep statistics up-to-date.\n",
    "\n",
    "- Use EXPLAIN or EXPLAIN ANALYZE to verify that the query planner is making optimal decisions.\n",
    "- Adjust the statistics target for columns with skewed or non-uniform data distributions.\n",
    "\n",
    "\n",
    "---------\n",
    "-----------\n"
   ]
  },
  {
   "cell_type": "markdown",
   "id": "956ef088",
   "metadata": {},
   "source": [
    "Re-run the query:"
   ]
  },
  {
   "cell_type": "markdown",
   "id": "caece908",
   "metadata": {},
   "source": [
    "#### 2. Types of Vacuuming\n",
    "- a) `Manual Vacuum`\n",
    "    - You can manually run the `VACUUM` command to clean up dead tuples."
   ]
  },
  {
   "cell_type": "code",
   "execution_count": null,
   "id": "fc0b9f2b",
   "metadata": {
    "vscode": {
     "languageId": "sql"
    }
   },
   "outputs": [],
   "source": [
    "VACUUM employees;\n",
    "\n",
    "-- This reclaims space but does not lock the table for reads or writes.\n",
    "\n",
    "-- It does not update query planner statistics."
   ]
  },
  {
   "cell_type": "markdown",
   "id": "fce5fac3",
   "metadata": {},
   "source": [
    "-  b) `Vacuum Full`\n",
    "\n",
    "    - `VACUUM FULL` is a more aggressive version that:\n",
    "    \n",
    "    - Rewrites the entire table to remove dead tuples.\n",
    "    - Locks the table, preventing reads and writes during the operation."
   ]
  },
  {
   "cell_type": "code",
   "execution_count": null,
   "id": "b2bb7c6a",
   "metadata": {
    "vscode": {
     "languageId": "sql"
    }
   },
   "outputs": [],
   "source": [
    "VACUUM FULL employees;\n",
    "\n",
    "-- Use this only when you need to reclaim a significant amount of space."
   ]
  },
  {
   "cell_type": "markdown",
   "id": "f4e4fbc1",
   "metadata": {},
   "source": [
    "- `c) Autovacuum`\n",
    "\n",
    "    - PostgreSQL has an autovacuum daemon that automatically runs VACUUM and ANALYZE in the background.\n",
    "\n",
    "    - It is triggered based on thresholds (e.g., the number of dead tuples in a table).\n"
   ]
  },
  {
   "cell_type": "markdown",
   "id": "7ad89be3",
   "metadata": {},
   "source": [
    "#### Practical Examples"
   ]
  },
  {
   "cell_type": "markdown",
   "id": "5d854477",
   "metadata": {},
   "source": [
    "- a) Basic Vacuum"
   ]
  },
  {
   "cell_type": "code",
   "execution_count": null,
   "id": "a1cceaae",
   "metadata": {
    "vscode": {
     "languageId": "sql"
    }
   },
   "outputs": [],
   "source": [
    "VACUUM employees;\n",
    "--  Run a simple vacuum to clean up dead tuples:"
   ]
  },
  {
   "cell_type": "markdown",
   "id": "02f24f41",
   "metadata": {},
   "source": [
    "- b) Vacuum with Analyze"
   ]
  },
  {
   "cell_type": "code",
   "execution_count": null,
   "id": "fd72838d",
   "metadata": {
    "vscode": {
     "languageId": "sql"
    }
   },
   "outputs": [],
   "source": [
    "VACUUM ANALYZE employees;\n",
    "-- To clean up dead tuples and update query planner statistics:"
   ]
  },
  {
   "cell_type": "markdown",
   "id": "622a2f42",
   "metadata": {},
   "source": [
    "- c) Vacuum Full"
   ]
  },
  {
   "cell_type": "code",
   "execution_count": null,
   "id": "d88b55a8",
   "metadata": {
    "vscode": {
     "languageId": "sql"
    }
   },
   "outputs": [],
   "source": [
    "VACUUM FULL employees;\n",
    "-- To reclaim maximum space:\n",
    "-- This locks the table, so it should be used during maintenance windows."
   ]
  },
  {
   "cell_type": "markdown",
   "id": "cce293f2",
   "metadata": {},
   "source": [
    "- d) Check Dead Tuples"
   ]
  },
  {
   "cell_type": "code",
   "execution_count": null,
   "id": "e32418bf",
   "metadata": {
    "vscode": {
     "languageId": "sql"
    }
   },
   "outputs": [],
   "source": [
    "SELECT relname AS table_name, n_dead_tup AS dead_tuples\n",
    "FROM pg_stat_user_tables\n",
    "WHERE relname = 'employees';\n",
    "\n",
    "-- You can check the number of dead tuples in a table using the pg_stat_user_tables view:"
   ]
  },
  {
   "cell_type": "markdown",
   "id": "99381213",
   "metadata": {},
   "source": [
    "##### 5. Practical Use Case\n",
    "- Scenario: Frequent Updates in a Table\n",
    "\n",
    "- Suppose you have a table orders that is frequently updated or deleted."
   ]
  },
  {
   "cell_type": "code",
   "execution_count": null,
   "id": "9b075624",
   "metadata": {
    "vscode": {
     "languageId": "sql"
    }
   },
   "outputs": [],
   "source": [
    "-- 1) Check Dead Tuples:\n",
    "\n",
    "SELECT relname AS table_name, n_dead_tup AS dead_tuples\n",
    "FROM pg_stat_user_tables\n",
    "WHERE relname = 'orders';\n",
    "\n",
    "\n",
    "\n",
    "-- 2) Run Vacuum:\n",
    "\n",
    "VACUUM ANALYZE orders;"
   ]
  },
  {
   "cell_type": "markdown",
   "id": "99adcee2",
   "metadata": {},
   "source": [
    "3) Enable Autovacuum for the Table: If autovacuum is not cleaning the table efficiently, you can adjust its settings for the orders table:"
   ]
  },
  {
   "cell_type": "code",
   "execution_count": null,
   "id": "dd125642",
   "metadata": {
    "vscode": {
     "languageId": "sql"
    }
   },
   "outputs": [],
   "source": [
    "ALTER TABLE orders SET (autovacuum_vacuum_threshold = 100, autovacuum_vacuum_scale_factor = 0.05);"
   ]
  },
  {
   "cell_type": "code",
   "execution_count": null,
   "id": "4bb8375e",
   "metadata": {
    "vscode": {
     "languageId": "sql"
    }
   },
   "outputs": [],
   "source": [
    "-- 4) Monitor Autovacuum:\n",
    "\n",
    "SELECT relname, last_autovacuum, n_dead_tup\n",
    "FROM pg_stat_user_tables\n",
    "WHERE relname = 'orders';"
   ]
  },
  {
   "cell_type": "markdown",
   "id": "40c82233",
   "metadata": {},
   "source": [
    "6. Best Practices\n",
    "- Enable Autovacuum: Always keep autovacuum enabled unless you have a specific reason to disable it.\n",
    "\n",
    "- Monitor Dead Tuples: Regularly check for dead tuples in large or frequently updated tables.\n",
    "- Schedule Vacuum Full: Use VACUUM FULL during maintenance windows for heavily bloated tables.\n",
    "- Tune Autovacuum Settings: Adjust autovacuum thresholds for high-traffic tables.\n",
    "\n",
    "\n",
    "By understanding and using vacuuming effectively, you can maintain optimal database performance and prevent storage bloat in PostgreSQL.\n",
    "\n"
   ]
  }
 ],
 "metadata": {
  "language_info": {
   "name": "python"
  }
 },
 "nbformat": 4,
 "nbformat_minor": 5
}
