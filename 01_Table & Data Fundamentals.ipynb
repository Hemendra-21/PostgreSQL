{
 "cells": [
  {
   "cell_type": "markdown",
   "id": "d8fab239",
   "metadata": {},
   "source": [
    "### Table & Data Fundamentals"
   ]
  },
  {
   "cell_type": "markdown",
   "id": "504be9c5",
   "metadata": {},
   "source": [
    "### CREATE, INSERT, SELECT, UPDATE, DELETE "
   ]
  },
  {
   "cell_type": "markdown",
   "id": "09e1fe6e",
   "metadata": {},
   "source": [
    "✅ 1. CREATE – Create Table\n",
    "\n",
    "Used to define a new table structure.\n",
    "\n",
    "🔹 Syntax:"
   ]
  },
  {
   "cell_type": "code",
   "execution_count": null,
   "id": "bd98f8e3",
   "metadata": {
    "vscode": {
     "languageId": "sql"
    }
   },
   "outputs": [],
   "source": [
    "CREATE TABLE employees (\n",
    "    id SERIAL PRIMARY KEY,\n",
    "    name VARCHAR(100) NOT NULL,\n",
    "    email VARCHAR(100) UNIQUE,\n",
    "    salary NUMERIC(10, 2),\n",
    "    created_at TIMESTAMP DEFAULT CURRENT_TIMESTAMP\n",
    ");"
   ]
  },
  {
   "cell_type": "markdown",
   "id": "d8d709bc",
   "metadata": {},
   "source": [
    "- 🔍 Explanation:\n",
    "\n",
    "    - `id SERIAL` → Auto-incrementing integer (shortcut for INTEGER + SEQUENCE + DEFAULT).\n",
    "\n",
    "    - `PRIMARY KEY` → Ensures uniqueness & non-null.\n",
    "\n",
    "    - `UNIQUE` → Prevents duplicate emails.\n",
    "\n",
    "    - `NUMERIC(10,2)` → Precise decimal type, good for salary.\n",
    "\n",
    "    - `DEFAULT CURRENT_TIMESTAMP` → Automatically adds current time.\n"
   ]
  },
  {
   "cell_type": "markdown",
   "id": "10233929",
   "metadata": {},
   "source": [
    "\n",
    "------------------"
   ]
  },
  {
   "cell_type": "markdown",
   "id": "b0a22ee8",
   "metadata": {},
   "source": [
    "✅ 2. INSERT – Add Data\n",
    "\n",
    "Used to insert one or more rows.\n",
    "🔹 Basic Insert:"
   ]
  },
  {
   "cell_type": "code",
   "execution_count": null,
   "id": "35e9bcb9",
   "metadata": {
    "vscode": {
     "languageId": "sql"
    }
   },
   "outputs": [],
   "source": [
    "INSERT INTO employees (name, email, salary)\n",
    "VALUES ('Hemendra', 'hemen@example.com', 50000.00);"
   ]
  },
  {
   "cell_type": "markdown",
   "id": "b8e931c4",
   "metadata": {},
   "source": [
    "🔹 Insert with RETURNING (✅ Best Practice):"
   ]
  },
  {
   "cell_type": "code",
   "execution_count": null,
   "id": "1258abe3",
   "metadata": {
    "vscode": {
     "languageId": "sql"
    }
   },
   "outputs": [],
   "source": [
    "INSERT INTO employees (name, email, salary)\n",
    "VALUES ('Ravi', 'ravi@example.com', 60000.00)\n",
    "RETURNING id, name;"
   ]
  },
  {
   "cell_type": "markdown",
   "id": "02a75846",
   "metadata": {},
   "source": [
    "- 🔍 Why RETURNING is useful?\n",
    "\n",
    "    - You instantly get back the generated id or any column value.\n",
    "\n",
    "    - Helpful for:\n",
    "\n",
    "        - Fetching auto-generated PKs\n",
    "\n",
    "        - Logging inserted values\n",
    "\n",
    "        - Returning data in APIs (Node.js/Express)\n"
   ]
  },
  {
   "cell_type": "markdown",
   "id": "57c7e34f",
   "metadata": {},
   "source": [
    "-------------------"
   ]
  },
  {
   "cell_type": "markdown",
   "id": "42b81cc6",
   "metadata": {},
   "source": [
    "✅ 3. SELECT – Fetch Data\n",
    "\n",
    "Used to read/query data from the table.\n",
    "\n",
    "🔹 Fetch All:"
   ]
  },
  {
   "cell_type": "code",
   "execution_count": null,
   "id": "913ccc4a",
   "metadata": {
    "vscode": {
     "languageId": "sql"
    }
   },
   "outputs": [],
   "source": [
    "SELECT * FROM employees;"
   ]
  },
  {
   "cell_type": "markdown",
   "id": "03a9785d",
   "metadata": {},
   "source": [
    "🔹 Fetch Specific Columns:"
   ]
  },
  {
   "cell_type": "code",
   "execution_count": null,
   "id": "cce76afd",
   "metadata": {
    "vscode": {
     "languageId": "sql"
    }
   },
   "outputs": [],
   "source": [
    "SELECT name, salary FROM employees;"
   ]
  },
  {
   "cell_type": "markdown",
   "id": "7a30f6f2",
   "metadata": {},
   "source": [
    "🔹 With Conditions:"
   ]
  },
  {
   "cell_type": "code",
   "execution_count": null,
   "id": "68201470",
   "metadata": {
    "vscode": {
     "languageId": "sql"
    }
   },
   "outputs": [],
   "source": [
    "SELECT * FROM employees WHERE salary > 55000;"
   ]
  },
  {
   "cell_type": "markdown",
   "id": "bf9cdb43",
   "metadata": {},
   "source": [
    "🔹 Best Practice (Alias, Order):"
   ]
  },
  {
   "cell_type": "code",
   "execution_count": null,
   "id": "3299e132",
   "metadata": {
    "vscode": {
     "languageId": "sql"
    }
   },
   "outputs": [],
   "source": [
    "SELECT id AS emp_id, name, salary\n",
    "FROM employees\n",
    "ORDER BY salary DESC;"
   ]
  },
  {
   "cell_type": "markdown",
   "id": "d6142d61",
   "metadata": {},
   "source": [
    "--------"
   ]
  },
  {
   "cell_type": "markdown",
   "id": "5bce7bd6",
   "metadata": {},
   "source": [
    "✅ 4. UPDATE – Modify Data\n",
    "\n",
    "Used to update existing rows.\n",
    "\n",
    "🔹 Update Specific Row:"
   ]
  },
  {
   "cell_type": "code",
   "execution_count": null,
   "id": "3c6ec6c0",
   "metadata": {
    "vscode": {
     "languageId": "sql"
    }
   },
   "outputs": [],
   "source": [
    "UPDATE employees\n",
    "SET salary = 65000\n",
    "WHERE email = 'ravi@example.com';"
   ]
  },
  {
   "cell_type": "markdown",
   "id": "09f51375",
   "metadata": {},
   "source": [
    "🔹 Update with RETURNING (✅ Best Practice):"
   ]
  },
  {
   "cell_type": "code",
   "execution_count": null,
   "id": "97d789ea",
   "metadata": {
    "vscode": {
     "languageId": "sql"
    }
   },
   "outputs": [],
   "source": [
    "UPDATE employees\n",
    "SET salary = 70000\n",
    "WHERE email = 'ravi@example.com'\n",
    "RETURNING id, name, salary;"
   ]
  },
  {
   "cell_type": "markdown",
   "id": "9800fce3",
   "metadata": {},
   "source": [
    "-----------------"
   ]
  },
  {
   "cell_type": "markdown",
   "id": "99fdb368",
   "metadata": {},
   "source": [
    "✅ 5. DELETE – Remove Data\n",
    "\n",
    "Used to delete rows from the table.\n",
    "\n",
    "🔹 Delete by Condition:"
   ]
  },
  {
   "cell_type": "code",
   "execution_count": null,
   "id": "92fec664",
   "metadata": {
    "vscode": {
     "languageId": "sql"
    }
   },
   "outputs": [],
   "source": [
    "DELETE FROM employees WHERE name = 'Ravi';"
   ]
  },
  {
   "cell_type": "markdown",
   "id": "920a1712",
   "metadata": {},
   "source": [
    "🔹 Delete with RETURNING:"
   ]
  },
  {
   "cell_type": "code",
   "execution_count": null,
   "id": "d92c3922",
   "metadata": {
    "vscode": {
     "languageId": "sql"
    }
   },
   "outputs": [],
   "source": [
    "DELETE FROM employees\n",
    "WHERE email = 'ravi@example.com'\n",
    "RETURNING *;"
   ]
  },
  {
   "cell_type": "markdown",
   "id": "0beac69d",
   "metadata": {},
   "source": [
    "🔥 `RETURNING` is a hidden gem in PostgreSQL.\n",
    "It reduces the need for extra SELECT queries and is super useful in real-time apps or admin panels."
   ]
  },
  {
   "cell_type": "markdown",
   "id": "06e244be",
   "metadata": {},
   "source": [
    "-------------------------------------"
   ]
  },
  {
   "cell_type": "markdown",
   "id": "d8da8184",
   "metadata": {},
   "source": [
    "### SERIAL / BIGSERIAL Data Type and Sequences in PostgreSQL"
   ]
  },
  {
   "cell_type": "markdown",
   "id": "2a54a81d",
   "metadata": {},
   "source": [
    "When you define a column with the `SERIAL` data type in PostgreSQL, it automatically creates an associated sequence to generate unique values for that column. \n",
    "\n",
    "This is commonly used for auto-incrementing primary keys.\n",
    "\n",
    "##### ` 🧱 Sequence Naming Convention`\n",
    "\n",
    "The auto-generated sequence follows the pattern:"
   ]
  },
  {
   "cell_type": "raw",
   "id": "ff1fd904",
   "metadata": {
    "vscode": {
     "languageId": "raw"
    }
   },
   "source": [
    "<table_name>_<column_name>_seq"
   ]
  },
  {
   "cell_type": "markdown",
   "id": "6d636b90",
   "metadata": {},
   "source": [
    "Example:\n",
    "\n",
    "For a table employees with a SERIAL column id, the sequence will be named:"
   ]
  },
  {
   "cell_type": "raw",
   "id": "c4538f6f",
   "metadata": {
    "vscode": {
     "languageId": "raw"
    }
   },
   "source": [
    "employees_id_seq"
   ]
  },
  {
   "cell_type": "markdown",
   "id": "6ecc3c86",
   "metadata": {},
   "source": [
    "🔍 Common Sequence Functions\n",
    "\n",
    "- You can use the following SQL functions to interact with a sequence:"
   ]
  },
  {
   "cell_type": "markdown",
   "id": "e331e65d",
   "metadata": {},
   "source": [
    "1) `nextval('sequence_name')`\n",
    "    - Increments the sequence and returns the next value.\n",
    "    \n",
    "    Example:"
   ]
  },
  {
   "cell_type": "raw",
   "id": "ea7e0f1d",
   "metadata": {
    "vscode": {
     "languageId": "raw"
    }
   },
   "source": [
    "SELECT nextval('employees_id_seq');"
   ]
  },
  {
   "cell_type": "markdown",
   "id": "6431ca5f",
   "metadata": {},
   "source": [
    "2) `currval('sequence_name')`\n",
    "\n",
    "    Returns the most recent value obtained by nextval() in the current session.\n",
    "\n",
    "    ⚠️ Important: currval() cannot be used unless nextval() has already been called in the same session.\n",
    "\n",
    "    Example:"
   ]
  },
  {
   "cell_type": "raw",
   "id": "7c50ee2d",
   "metadata": {
    "vscode": {
     "languageId": "raw"
    }
   },
   "source": [
    "SELECT currval('employees_id_seq');"
   ]
  },
  {
   "cell_type": "markdown",
   "id": "1981b572",
   "metadata": {},
   "source": [
    "3) `setval('sequence_name', value, is_called)`\n",
    "\n",
    "    - Manually sets the current value of a sequence.\n",
    "\n",
    "        - `value`: the new value to assign.\n",
    "\n",
    "        - `is_called`:\n",
    "\n",
    "            If `true`, the next `nextval()` will return value + 1.\n",
    "\n",
    "            If `false`, the next `nextval()` will return value.\n",
    "\n",
    "    Example:"
   ]
  },
  {
   "cell_type": "raw",
   "id": "f7fb29f7",
   "metadata": {
    "vscode": {
     "languageId": "raw"
    }
   },
   "source": [
    "SELECT setval('employees_id_seq', 1000, true);"
   ]
  }
 ],
 "metadata": {
  "language_info": {
   "name": "python"
  }
 },
 "nbformat": 4,
 "nbformat_minor": 5
}
