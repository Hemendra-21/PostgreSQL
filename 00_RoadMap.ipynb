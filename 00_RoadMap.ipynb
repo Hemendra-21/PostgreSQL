{
 "cells": [
  {
   "cell_type": "markdown",
   "id": "b6bcba8c",
   "metadata": {},
   "source": [
    "## 🔰 Phase 0: Setup & Environment"
   ]
  },
  {
   "cell_type": "markdown",
   "id": "ec36aede",
   "metadata": {},
   "source": [
    "### `🔹 Install & Configure`\n",
    "\n",
    "-    ✅ Install PostgreSQL (latest version)"
   ]
  },
  {
   "cell_type": "code",
   "execution_count": null,
   "id": "f7dea2fa",
   "metadata": {
    "vscode": {
     "languageId": "powershell"
    }
   },
   "outputs": [],
   "source": [
    "sudo apt install postgresql postgresql-contrib"
   ]
  },
  {
   "cell_type": "markdown",
   "id": "844b80a9",
   "metadata": {},
   "source": [
    "- ✅ Enable PostgreSQL Service"
   ]
  },
  {
   "cell_type": "code",
   "execution_count": null,
   "id": "97817e77",
   "metadata": {
    "vscode": {
     "languageId": "powershell"
    }
   },
   "outputs": [],
   "source": [
    "sudo systemctl start postgresql"
   ]
  },
  {
   "cell_type": "markdown",
   "id": "5d3f7e01",
   "metadata": {},
   "source": [
    "🔹 Bonus Service Commands"
   ]
  },
  {
   "cell_type": "code",
   "execution_count": null,
   "id": "485a9dfc",
   "metadata": {
    "vscode": {
     "languageId": "powershell"
    }
   },
   "outputs": [],
   "source": [
    "sudo systemctl enable postgresql   # Auto-start on boot\n",
    "sudo systemctl stop postgresql     # Stop service\n",
    "sudo systemctl restart postgresql  # Restart after config changes\n",
    "sudo systemctl status postgresql   # Check status"
   ]
  },
  {
   "cell_type": "markdown",
   "id": "d5cf95bb",
   "metadata": {},
   "source": [
    "🔹 Create Environment\n",
    "\n",
    "- ✅ Create Role & Database"
   ]
  },
  {
   "cell_type": "code",
   "execution_count": null,
   "id": "c24b76b6",
   "metadata": {
    "vscode": {
     "languageId": "powershell"
    }
   },
   "outputs": [],
   "source": [
    "CREATE ROLE hemendra WITH LOGIN PASSWORD 'yourpassword';\n",
    "CREATE DATABASE dev_db OWNER hemendra;\n",
    "GRANT ALL PRIVILEGES ON DATABASE dev_db TO hemendra;"
   ]
  },
  {
   "cell_type": "markdown",
   "id": "3deb7d9f",
   "metadata": {
    "vscode": {
     "languageId": "powershell"
    }
   },
   "source": [
    "1) `sudo apt install postgresql postgresql-contrib`\n",
    "\n",
    "\n",
    "`sudo`: Runs the command with administrator privileges (superuser).\n",
    "\n",
    "`apt install`: Installs software packages using Ubuntu’s package manager (apt).\n",
    "\n",
    "`postgresql`: Installs the main PostgreSQL server (database engine).\n",
    "\n",
    "`postgresql-contrib`: Installs extra useful tools and extensions that are officially supported by PostgreSQL (like pg_stat_statements, uuid-ossp, etc).\n",
    "\n",
    "🧠 In short:\n",
    "\n",
    "Installs PostgreSQL database + some official add-ons that help in real-world use cases (like performance tracking, UUID support, etc).\n",
    "\n",
    "----------------------------\n",
    "\n",
    "\n",
    "2) `sudo systemctl start postgresql`\n",
    "\n",
    "`systemctl`: A tool to manage services (daemons) in Ubuntu.\n",
    "`\n",
    "`start postgresql`: Starts the PostgreSQL server as a background service (so it begins listening for connections on port 5432 by default).\n",
    "\n",
    "🧠 In short:\n",
    "\n",
    "Starts the PostgreSQL database service, so you can connect, create databases, and run queries.\n",
    "\n",
    "-------------------\n"
   ]
  },
  {
   "cell_type": "markdown",
   "id": "42bd0321",
   "metadata": {},
   "source": [
    "### `🔹 Create Your Environment`\n",
    "\n",
    "-    ✅ Create a new user (role) and database"
   ]
  },
  {
   "cell_type": "code",
   "execution_count": null,
   "id": "1e21e07a",
   "metadata": {
    "vscode": {
     "languageId": "sql"
    }
   },
   "outputs": [],
   "source": [
    "CREATE ROLE hemendra WITH LOGIN PASSWORD 'yourpassword';\n",
    "CREATE DATABASE dev_db OWNER hemendra;\n",
    "GRANT ALL PRIVILEGES ON DATABASE dev_db TO hemendra;\n"
   ]
  },
  {
   "cell_type": "markdown",
   "id": "5d1dc859",
   "metadata": {},
   "source": [
    "## 🧱 Phase 1: PostgreSQL Table Management + CRUD Operations (DDL + DML Essentials)\n",
    "\n",
    "### 🔹 1. Table Creation & Schema Management (DDL)"
   ]
  },
  {
   "cell_type": "code",
   "execution_count": null,
   "id": "29e084bd",
   "metadata": {
    "vscode": {
     "languageId": "sql"
    }
   },
   "outputs": [],
   "source": [
    "CREATE TABLE employees (\n",
    "    id SERIAL PRIMARY KEY,\n",
    "    name VARCHAR(100),\n",
    "    department VARCHAR(50),\n",
    "    salary NUMERIC(10,2),\n",
    "    joining_date DATE\n",
    ");\n",
    "\n",
    "ALTER TABLE employees ADD COLUMN email VARCHAR(100); \n",
    "ALTER TABLE employees DROP COLUMN email;\n",
    "ALTER TABLE employees RENAME COLUMN department TO dept;\n",
    "ALTER TABLE employees ALTER COLUMN salary TYPE INTEGER;\n",
    "ALTER TABLE employees RENAME TO staff;\n",
    "DROP TABLE staff;\n",
    "\n",
    "CREATE SCHEMA company;\n",
    "SET search_path TO company;"
   ]
  },
  {
   "cell_type": "markdown",
   "id": "531ff6d2",
   "metadata": {},
   "source": [
    "\n",
    "- ✅ CRUD Operations\n",
    "\n",
    "    - `CREATE, INSERT, SELECT, UPDATE, DELETE`\n",
    "\n",
    "    - Use `SERIAL / BIGSERIAL` for auto-incrementing PKs\n",
    "\n",
    "    - RETURNING clause to fetch inserted/updated rows"
   ]
  },
  {
   "cell_type": "markdown",
   "id": "29b82792",
   "metadata": {},
   "source": [
    "--------------------------- "
   ]
  },
  {
   "cell_type": "markdown",
   "id": "c37473fe",
   "metadata": {},
   "source": [
    "## 🛡️ Phase 2: Normalization, Constraints & Data Types\n",
    "\n",
    "\n",
    "- ✅ Normalization (1NF to BCNF)\n",
    "\n",
    "   - Remove redundancy, avoid update anomalies\n",
    "\n",
    "   - Split large unstructured tables into structured ones using:\n",
    "\n",
    "      -  1NF: Atomic values\n",
    "\n",
    "      -  2NF: Full functional dependency\n",
    "\n",
    "      - 3NF: No transitive dependency\n",
    "\n",
    "      -  BCNF: Even stricter version of 3NF\n",
    "\n",
    "You can practice normalization with employee, department, and salary tables.\n",
    "\n",
    "\n",
    "\n",
    "- ✅ Important PostgreSQL Constraints\n",
    "\n",
    "   - NOT NULL, UNIQUE, PRIMARY KEY, FOREIGN KEY\n",
    "\n",
    "   - CHECK for value validation\n",
    "\n",
    "   - DEFAULT values for fields\n",
    "\n",
    "   - composite keys, multi-column constraints\n",
    "\n",
    "- ✅ Strong PostgreSQL Data Types\n",
    "\n",
    "   - Category ----->\tTypes\n",
    "\n",
    "   - Text ----->\t`TEXT, VARCHAR(n)`\n",
    "\n",
    "   - Numbers ----->\t`INTEGER, BIGINT, NUMERIC, REAL, DECIMAL`\n",
    "\n",
    "   - Dates/Times ----->\t`DATE, TIMESTAMP WITH TIME ZONE`\n",
    "\n",
    "   - Boolean ----->\t`BOOLEAN`\n",
    "\n",
    "   - Special ----->\t`JSONB, UUID, ARRAY, BYTEA`\n",
    "\n",
    "\n",
    "\n",
    "\n",
    "-----------------------\n"
   ]
  },
  {
   "cell_type": "markdown",
   "id": "30e8dc33",
   "metadata": {},
   "source": [
    "## 🔗 Phase 3: Joins, Subqueries & Grouping\n",
    "\n",
    "- ✅ Master These SQL Patterns\n",
    "\n",
    "    - JOINs: `INNER, LEFT, RIGHT, FULL, SELF JOIN`\n",
    "\n",
    "    - Aggregate functions: `COUNT(), SUM(), AVG(), MAX(), MIN()`\n",
    "\n",
    "    - Grouping & Filtering: `GROUP BY, HAVING, DISTINCT`\n",
    "\n",
    "- ✅ Subqueries\n",
    "\n",
    "    - Single-row and multi-row subqueries\n",
    "\n",
    "    - Correlated subqueries (used inside WHERE/SELECT)\n",
    "\n",
    "---------------"
   ]
  },
  {
   "cell_type": "markdown",
   "id": "74c8ff65",
   "metadata": {},
   "source": [
    "## ⚙️ Phase 4: Advanced Features of PostgreSQL\n",
    "\n",
    "- ✅ Common Table Expressions (CTEs)\n",
    "\n",
    "    Use for readability and modular queries"
   ]
  },
  {
   "cell_type": "code",
   "execution_count": null,
   "id": "239d51fb",
   "metadata": {
    "vscode": {
     "languageId": "sql"
    }
   },
   "outputs": [],
   "source": [
    "WITH dept_count AS (\n",
    "  SELECT department, COUNT(*) AS count FROM employees GROUP BY department\n",
    ")\n",
    "SELECT * FROM dept_count WHERE count > 5;\n"
   ]
  },
  {
   "cell_type": "markdown",
   "id": "3a2589fc",
   "metadata": {},
   "source": [
    "- ✅ Window Functions\n",
    "\n",
    "    `RANK(), ROW_NUMBER(), DENSE_RANK(), LEAD(), LAG()`, running totals"
   ]
  },
  {
   "cell_type": "code",
   "execution_count": null,
   "id": "eecad5f3",
   "metadata": {
    "vscode": {
     "languageId": "sql"
    }
   },
   "outputs": [],
   "source": [
    "SELECT name, salary, RANK() OVER (ORDER BY salary DESC) FROM employees;"
   ]
  },
  {
   "cell_type": "markdown",
   "id": "515dea6e",
   "metadata": {},
   "source": [
    "✅ Table Partitioning\n",
    "\n",
    "    Improves performance on large datasets"
   ]
  },
  {
   "cell_type": "code",
   "execution_count": null,
   "id": "864206db",
   "metadata": {
    "vscode": {
     "languageId": "sql"
    }
   },
   "outputs": [],
   "source": [
    "CREATE TABLE logs (\n",
    "  log_id SERIAL,\n",
    "  log_time TIMESTAMP NOT NULL,\n",
    "  message TEXT\n",
    ") PARTITION BY RANGE (log_time);\n",
    "\n",
    "CREATE TABLE logs_2024 PARTITION OF logs FOR VALUES FROM ('2024-01-01') TO ('2025-01-01');\n"
   ]
  },
  {
   "cell_type": "markdown",
   "id": "e80b832b",
   "metadata": {},
   "source": [
    "Use partitioning when handling huge datasets (logs, events, etc.)"
   ]
  },
  {
   "cell_type": "markdown",
   "id": "8d688b62",
   "metadata": {},
   "source": [
    "---------"
   ]
  },
  {
   "cell_type": "markdown",
   "id": "69a3de46",
   "metadata": {},
   "source": [
    "## 🚀 Phase 5: Performance & Optimization\n",
    "- ✅ Indexing\n",
    "\n",
    "    - `CREATE INDEX, UNIQUE INDEX`\n",
    "\n",
    "    - Types: \n",
    "        - `B-Tree` (default),\n",
    "        - `GIN` (for JSONB), \n",
    "        - `GiST` (for geospatial)\n",
    "\n",
    "    - Use `EXPLAIN ANALYZE` to measure performance\n",
    "\n",
    "- ✅ Query Optimization Best Practices - Performance Tuning\n",
    "\n",
    "    - Avoid `SELECT *` in production\n",
    "\n",
    "    - Filter using indexed columns\n",
    "\n",
    "    - Reduce subqueries when unnecessary\n",
    "\n",
    "    - Use pagination (`LIMIT`, `OFFSET`) smartly\n",
    "\n",
    "    - Monitor slow queries with `pg_stat_statements`\n",
    "\n",
    "-----------------------"
   ]
  },
  {
   "cell_type": "markdown",
   "id": "4ae196c1",
   "metadata": {},
   "source": [
    "## 🔁 Phase 6: Functions, Views & Triggers\n",
    "- ✅ Views\n",
    "\n",
    "    - CREATE VIEW for virtual tables\n",
    "\n",
    "    - Use to hide complexity or expose partial data"
   ]
  },
  {
   "cell_type": "code",
   "execution_count": null,
   "id": "9433d596",
   "metadata": {
    "vscode": {
     "languageId": "sql"
    }
   },
   "outputs": [],
   "source": [
    "CREATE VIEW active_users AS\n",
    "SELECT id, name FROM users WHERE is_active = TRUE;"
   ]
  },
  {
   "cell_type": "markdown",
   "id": "932dd2fc",
   "metadata": {},
   "source": [
    "- ✅ Triggers\n",
    "\n",
    "    Auto-run logic on insert/update/delete"
   ]
  },
  {
   "cell_type": "code",
   "execution_count": null,
   "id": "74168de2",
   "metadata": {
    "vscode": {
     "languageId": "sql"
    }
   },
   "outputs": [],
   "source": [
    "CREATE TRIGGER log_update\n",
    "AFTER UPDATE ON employees\n",
    "FOR EACH ROW\n",
    "EXECUTE FUNCTION log_employee_change();"
   ]
  },
  {
   "cell_type": "code",
   "execution_count": null,
   "id": "578a9bef",
   "metadata": {
    "vscode": {
     "languageId": "sql"
    }
   },
   "outputs": [],
   "source": [
    "CREATE FUNCTION l\tIT\t90000\n",
    "og_employee_change() RETURNS trigger AS $$\n",
    "BEGIN\n",
    "  INSERT INTO log_table VALUES (OLD.id, now());\n",
    "  RETURN NEW;\n",
    "END;\n",
    "$$ LANGUAGE plpgsql;\n",
    "\n",
    "CREATE TRIGGER log_update\n",
    "AFTER UPDATE ON employees\n",
    "FOR EACH ROW EXECUTE FUNCTION log_employee_change();"
   ]
  },
  {
   "cell_type": "markdown",
   "id": "0c0ab9cc",
   "metadata": {},
   "source": [
    "- ✅ Stored Functions (PL/pgSQL)\n",
    "\n",
    "    Write functions with loops, IF, etc."
   ]
  },
  {
   "cell_type": "code",
   "execution_count": null,
   "id": "2eb7bd72",
   "metadata": {
    "vscode": {
     "languageId": "sql"
    }
   },
   "outputs": [],
   "source": [
    "CREATE FUNCTION get_bonus(salary NUMERIC) RETURNS NUMERIC AS $$\n",
    "BEGIN\n",
    "  RETURN salary * 0.1;\n",
    "END;\n",
    "$$ LANGUAGE plpgsql;"
   ]
  },
  {
   "cell_type": "markdown",
   "id": "8e8fcb54",
   "metadata": {},
   "source": [
    "-----------------"
   ]
  },
  {
   "cell_type": "markdown",
   "id": "7b1f4d9f",
   "metadata": {},
   "source": [
    "## 📦 Phase 7: JSONB, Arrays & Modern Data Types\n",
    "\n",
    "✅ 1) JSONB (Binary JSON in PostgreSQL)\n",
    "\n",
    "- Allows you to store and query JSON data efficiently.\n",
    "- Better performance than `JSON` for querying."
   ]
  },
  {
   "cell_type": "code",
   "execution_count": null,
   "id": "5ccae252",
   "metadata": {
    "vscode": {
     "languageId": "sql"
    }
   },
   "outputs": [],
   "source": [
    "CREATE TABLE products (\n",
    "  id SERIAL PRIMARY KEY,\n",
    "  info JSONB\n",
    ");"
   ]
  },
  {
   "cell_type": "markdown",
   "id": "fec11505",
   "metadata": {},
   "source": [
    "- Query Example:"
   ]
  },
  {
   "cell_type": "code",
   "execution_count": null,
   "id": "8143ddb3",
   "metadata": {
    "vscode": {
     "languageId": "sql"
    }
   },
   "outputs": [],
   "source": [
    "SELECT info->>'brand' FROM products WHERE info->>'category' = 'mobile';"
   ]
  },
  {
   "cell_type": "markdown",
   "id": "6c9ab425",
   "metadata": {},
   "source": [
    "- 🔧 JSONB Operators:\n",
    "\n",
    "    - `->` Get JSON object field by key\n",
    "\n",
    "    - `->>` Get JSON object field as text\n",
    "\n",
    "    - `#>>` Get JSON object at path as text\n",
    "\n",
    "    - `@>` Contains operator"
   ]
  },
  {
   "cell_type": "markdown",
   "id": "61c17e63",
   "metadata": {},
   "source": [
    "✅ 2) Arrays\n",
    "\n",
    "- PostgreSQL supports native arrays\n",
    "- Store multiple values in a single column (homogeneous data types)."
   ]
  },
  {
   "cell_type": "code",
   "execution_count": null,
   "id": "8de382fb",
   "metadata": {
    "vscode": {
     "languageId": "sql"
    }
   },
   "outputs": [],
   "source": [
    "CREATE TABLE devs (\n",
    "  id SERIAL,\n",
    "  name TEXT,\n",
    "  skills TEXT[]\n",
    ");\n",
    "\n",
    "SELECT * FROM devs WHERE 'Python' = ANY(skills);"
   ]
  },
  {
   "cell_type": "markdown",
   "id": "c01ed087",
   "metadata": {},
   "source": [
    "- 💡 Useful Array Functions:\n",
    "\n",
    "    - unnest(array) – Expands array into a set\n",
    "\n",
    "    - array_length(array, dimension) – Returns size\n"
   ]
  },
  {
   "cell_type": "markdown",
   "id": "6a562e6b",
   "metadata": {},
   "source": [
    "✅ 3. UUID (Universally Unique Identifier)\n",
    "\n",
    "- Use uuid-ossp extension\n",
    "- Used for generating unique primary keys across distributed systems."
   ]
  },
  {
   "cell_type": "code",
   "execution_count": null,
   "id": "59e7f8af",
   "metadata": {
    "vscode": {
     "languageId": "sql"
    }
   },
   "outputs": [],
   "source": [
    "CREATE EXTENSION IF NOT EXISTS \"uuid-ossp\";\n",
    "\n",
    "CREATE TABLE sessions (\n",
    "  session_id UUID DEFAULT uuid_generate_v4(),\n",
    "  created_on TIMESTAMP DEFAULT now()\n",
    ");"
   ]
  },
  {
   "cell_type": "markdown",
   "id": "db63ab45",
   "metadata": {},
   "source": [
    "✅ 4. BYTEA (Binary Data Type)\n",
    "\n",
    "- Stores binary files like images, PDFs, audio files."
   ]
  },
  {
   "cell_type": "code",
   "execution_count": null,
   "id": "2701761b",
   "metadata": {
    "vscode": {
     "languageId": "sql"
    }
   },
   "outputs": [],
   "source": [
    "CREATE TABLE assets (\n",
    "  id SERIAL,\n",
    "  file_name TEXT,\n",
    "  data BYTEA\n",
    ");"
   ]
  },
  {
   "cell_type": "markdown",
   "id": "bc198535",
   "metadata": {},
   "source": [
    "✅ 5. Real-world Example: Musical CSV 🎵\n",
    "\n",
    "Use-case: Store musical sequences, notes, rhythm data in arrays or JSONB."
   ]
  },
  {
   "cell_type": "markdown",
   "id": "364341ee",
   "metadata": {},
   "source": [
    "💾 Store in PostgreSQL (JSONB-based):"
   ]
  },
  {
   "cell_type": "code",
   "execution_count": null,
   "id": "40a8d3d4",
   "metadata": {
    "vscode": {
     "languageId": "sql"
    }
   },
   "outputs": [],
   "source": [
    "CREATE TABLE musical_data (\n",
    "  id SERIAL PRIMARY KEY,\n",
    "  track_id INT,\n",
    "  sequence JSONB\n",
    ");"
   ]
  },
  {
   "cell_type": "markdown",
   "id": "3673e1bf",
   "metadata": {},
   "source": [
    "🎯 Example Row:"
   ]
  },
  {
   "cell_type": "code",
   "execution_count": null,
   "id": "6bb686e7",
   "metadata": {
    "vscode": {
     "languageId": "sql"
    }
   },
   "outputs": [],
   "source": [
    "{\n",
    "  \"notes\": [\n",
    "    {\"note\": \"C4\", \"duration\": 0.5, \"volume\": 80},\n",
    "    {\"note\": \"E4\", \"duration\": 0.5, \"volume\": 90}\n",
    "  ]\n",
    "}"
   ]
  },
  {
   "cell_type": "markdown",
   "id": "47460331",
   "metadata": {},
   "source": [
    "-----------------------"
   ]
  },
  {
   "cell_type": "markdown",
   "id": "b9cb8e84",
   "metadata": {},
   "source": [
    "## 🔐 Phase 8: Roles, Security & Backup\n",
    "- ✅ Role Management & Access Control\n",
    "\n",
    "    - Create users with permissions\n",
    "\n",
    "    - Use `GRANT`, `REVOKE`, schema-level access"
   ]
  },
  {
   "cell_type": "code",
   "execution_count": null,
   "id": "1fe3116e",
   "metadata": {
    "vscode": {
     "languageId": "sql"
    }
   },
   "outputs": [],
   "source": [
    "CREATE ROLE readonly;\n",
    "GRANT CONNECT ON DATABASE dev_db TO readonly;\n",
    "GRANT USAGE ON SCHEMA public TO readonly;\n",
    "GRANT SELECT ON ALL TABLES IN SCHEMA public TO readonly;"
   ]
  },
  {
   "cell_type": "markdown",
   "id": "60134f2d",
   "metadata": {},
   "source": [
    "- ✅ Backup & Restore\n",
    "\n",
    "    - pg_dump for logical backups\n",
    "\n",
    "    - pg_restore for restoring dumps"
   ]
  },
  {
   "cell_type": "code",
   "execution_count": null,
   "id": "31044170",
   "metadata": {
    "vscode": {
     "languageId": "powershell"
    }
   },
   "outputs": [],
   "source": [
    "pg_dump -U hemendra dev_db > dev_db.sql\n",
    "\n",
    "psql -U hemendra -d new_db < dev_db.sql"
   ]
  },
  {
   "cell_type": "markdown",
   "id": "99553a10",
   "metadata": {},
   "source": [
    "-------------"
   ]
  }
 ],
 "metadata": {
  "kernelspec": {
   "display_name": "Python 3",
   "language": "python",
   "name": "python3"
  },
  "language_info": {
   "name": "python",
   "version": "3.12.3"
  }
 },
 "nbformat": 4,
 "nbformat_minor": 5
}
