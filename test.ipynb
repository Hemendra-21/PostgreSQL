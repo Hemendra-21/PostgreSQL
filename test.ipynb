{
 "cells": [
  {
   "cell_type": "code",
   "execution_count": null,
   "id": "8aa97504",
   "metadata": {
    "vscode": {
     "languageId": "sql"
    }
   },
   "outputs": [],
   "source": [
    "create table employees(\n",
    "    id serial primary key,\n",
    "    name varchar(50) not null,\n",
    "    email varchar(30) unique,\n",
    "    salary numeric(10,2),\n",
    "    created_at timestamp default current_timestamp\n",
    ")"
   ]
  },
  {
   "cell_type": "code",
   "execution_count": null,
   "id": "16ad9db5",
   "metadata": {
    "vscode": {
     "languageId": "sql"
    }
   },
   "outputs": [],
   "source": [
    "insert into employees(name, email, salary)\n",
    "values('chandaluri','chandaluri2k@gmail.com',100)\n",
    "returning id, name"
   ]
  },
  {
   "cell_type": "code",
   "execution_count": null,
   "id": "94412dcf",
   "metadata": {
    "vscode": {
     "languageId": "sql"
    }
   },
   "outputs": [],
   "source": [
    "select * from employees"
   ]
  }
 ],
 "metadata": {
  "language_info": {
   "name": "python"
  }
 },
 "nbformat": 4,
 "nbformat_minor": 5
}
