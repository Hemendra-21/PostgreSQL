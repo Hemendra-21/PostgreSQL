{
 "cells": [
  {
   "cell_type": "markdown",
   "id": "7a484bbb",
   "metadata": {},
   "source": [
    "## Normalization Stages (1NF, 2NF, 3NF, and BCNF)\n",
    " - Normalization is the process of organizing data in a database to reduce redundancy and dependency. \n",
    " - This is done by dividing large tables into smaller ones and ensuring that data is stored logically. \n",
    " - Let's go through each normal form (1NF, 2NF, 3NF, and BCNF) one by one.\n"
   ]
  },
  {
   "cell_type": "markdown",
   "id": "0073924b",
   "metadata": {},
   "source": [
    "### 1. First Normal Form (1NF)\n",
    "A relation is in 1NF if it meets the following conditions:\n",
    "\n",
    "- Atomicity: Each column contains atomic values (indivisible values). This means no repeating groups or arrays in a single column.\n",
    "\n",
    "- Uniqueness: Each row in the table must be unique, and no two rows can have exactly the same data.\n",
    "\n",
    "Example of Non-1NF:"
   ]
  },
  {
   "cell_type": "code",
   "execution_count": null,
   "id": "9e9bbc67",
   "metadata": {
    "vscode": {
     "languageId": "sql"
    }
   },
   "outputs": [],
   "source": [
    "CREATE TABLE orders (\n",
    "    order_id INT PRIMARY KEY,\n",
    "    customer_name VARCHAR(100),\n",
    "    items VARCHAR(255)  -- This column has a list of items\n",
    ");\n",
    "\n",
    "INSERT INTO orders (order_id, customer_name, items)\n",
    "VALUES (1, 'John Doe', 'Item1, Item2'),\n",
    "       (2, 'Jane Smith', 'Item3, Item4');"
   ]
  },
  {
   "cell_type": "markdown",
   "id": "d163fbd4",
   "metadata": {},
   "source": [
    "Here, the items column is not atomic because it stores multiple values in a single field.\n",
    "\n",
    "Converting to 1NF:\n",
    "To bring the table to 1NF, we separate the repeating group (items) into individual rows."
   ]
  },
  {
   "cell_type": "code",
   "execution_count": null,
   "id": "9920da43",
   "metadata": {
    "vscode": {
     "languageId": "sql"
    }
   },
   "outputs": [],
   "source": [
    "CREATE TABLE orders (\n",
    "    order_id INT,\n",
    "    customer_name VARCHAR(100),\n",
    "    item VARCHAR(100),  -- Atomic column for items\n",
    "    PRIMARY KEY (order_id, item)  -- Composite primary key\n",
    ");\n",
    "\n",
    "INSERT INTO orders (order_id, customer_name, item)\n",
    "VALUES (1, 'John Doe', 'Item1'),\n",
    "       (1, 'John Doe', 'Item2'),\n",
    "       (2, 'Jane Smith', 'Item3'),\n",
    "       (2, 'Jane Smith', 'Item4');\n"
   ]
  },
  {
   "cell_type": "markdown",
   "id": "a5587f16",
   "metadata": {},
   "source": [
    "### 2. Second Normal Form (2NF)\n",
    "A relation is in 2NF if:\n",
    "\n",
    "- It is in 1NF.\n",
    "\n",
    "- It has no partial dependency; that is, all non-key attributes must be fully functionally dependent on the entire primary key, not just part of it.\n",
    "\n",
    "Example of Non-2NF:\n",
    "\n",
    "Let's say we have the following table, where order_id and product_id together form a composite primary key."
   ]
  },
  {
   "cell_type": "code",
   "execution_count": null,
   "id": "066c5396",
   "metadata": {
    "vscode": {
     "languageId": "sql"
    }
   },
   "outputs": [],
   "source": [
    "CREATE TABLE order_items (\n",
    "    order_id INT,\n",
    "    product_id INT,\n",
    "    product_name VARCHAR(100),\n",
    "    quantity INT,\n",
    "    PRIMARY KEY (order_id, product_id)\n",
    ");\n",
    "\n",
    "INSERT INTO order_items (order_id, product_id, product_name, quantity)\n",
    "VALUES (1, 101, 'Laptop', 2),\n",
    "       (1, 102, 'Smartphone', 3),\n",
    "       (2, 103, 'Tablet', 1);\n"
   ]
  },
  {
   "cell_type": "markdown",
   "id": "309ee4c4",
   "metadata": {},
   "source": [
    "Here, product_name depends only on product_id, but the primary key is a composite of order_id and product_id. This is a partial dependency, which violates 2NF.\n",
    "\n",
    "Converting to 2NF:\n",
    "\n",
    "We remove the partial dependency by creating a new table for products, leaving product_name in the new table."
   ]
  },
  {
   "cell_type": "code",
   "execution_count": null,
   "id": "ad69dc9c",
   "metadata": {
    "vscode": {
     "languageId": "sql"
    }
   },
   "outputs": [],
   "source": [
    "CREATE TABLE products (\n",
    "    product_id INT PRIMARY KEY,\n",
    "    product_name VARCHAR(100)\n",
    ");\n",
    "\n",
    "CREATE TABLE order_items (\n",
    "    order_id INT,\n",
    "    product_id INT,\n",
    "    quantity INT,\n",
    "    PRIMARY KEY (order_id, product_id),\n",
    "    FOREIGN KEY (product_id) REFERENCES products(product_id)\n",
    ");\n",
    "\n",
    "INSERT INTO products (product_id, product_name)\n",
    "VALUES (101, 'Laptop'),\n",
    "       (102, 'Smartphone'),\n",
    "       (103, 'Tablet');\n"
   ]
  },
  {
   "cell_type": "markdown",
   "id": "f245522f",
   "metadata": {},
   "source": [
    "### 3. Third Normal Form (3NF)\n",
    "A relation is in `3NF` if:\n",
    "\n",
    "- It is in `2NF`.\n",
    "\n",
    "- It has no `transitive dependency`; that is, non-key attributes should depend only on the primary key, not on other non-key attributes.\n",
    "\n",
    "Example of Non-3NF:\n",
    "\n",
    "Let's say we have the following table, where employee_id is the primary key:"
   ]
  },
  {
   "cell_type": "code",
   "execution_count": null,
   "id": "e36fb0a6",
   "metadata": {
    "vscode": {
     "languageId": "sql"
    }
   },
   "outputs": [],
   "source": [
    "CREATE TABLE employees (\n",
    "    employee_id INT PRIMARY KEY,\n",
    "    employee_name VARCHAR(100),\n",
    "    department_id INT,\n",
    "    department_name VARCHAR(100),\n",
    "    department_head VARCHAR(100)\n",
    ");\n",
    "\n",
    "INSERT INTO employees (employee_id, employee_name, department_id, department_name, department_head)\n",
    "VALUES (1, 'John Doe', 101, 'HR', 'Alice'),\n",
    "       (2, 'Jane Smith', 102, 'IT', 'Bob');"
   ]
  },
  {
   "cell_type": "markdown",
   "id": "71b06df0",
   "metadata": {},
   "source": [
    "Here, department_name and department_head are dependent on department_id, but department_id is dependent on employee_id. This is a transitive dependency.\n",
    "\n",
    "Converting to 3NF:\n",
    "\n",
    "We remove the transitive dependency by creating a separate table for departments"
   ]
  },
  {
   "cell_type": "code",
   "execution_count": null,
   "id": "8cfeaa35",
   "metadata": {
    "vscode": {
     "languageId": "sql"
    }
   },
   "outputs": [],
   "source": [
    "CREATE TABLE departments (\n",
    "    department_id INT PRIMARY KEY,\n",
    "    department_name VARCHAR(100),\n",
    "    department_head VARCHAR(100)\n",
    ");\n",
    "\n",
    "CREATE TABLE employees (\n",
    "    employee_id INT PRIMARY KEY,\n",
    "    employee_name VARCHAR(100),\n",
    "    department_id INT,\n",
    "    FOREIGN KEY (department_id) REFERENCES departments(department_id)\n",
    ");\n",
    "\n",
    "INSERT INTO departments (department_id, department_name, department_head)\n",
    "VALUES (101, 'HR', 'Alice'),\n",
    "       (102, 'IT', 'Bob');\n"
   ]
  },
  {
   "cell_type": "markdown",
   "id": "7bf39a4b",
   "metadata": {},
   "source": [
    "## Constraints in PostgreSQL"
   ]
  },
  {
   "cell_type": "markdown",
   "id": "634e882b",
   "metadata": {},
   "source": [
    "Constraints help ensure data integrity, prevent invalid data, and enforce business rules at the database level."
   ]
  },
  {
   "cell_type": "markdown",
   "id": "d2d88529",
   "metadata": {},
   "source": [
    "### ✅ 1. NOT NULL Constraint\n",
    "\n",
    "🔍 Definition\n",
    "- Ensures that a column cannot contain `NULL` values.\n",
    "\n",
    "📌 Use Case\n",
    "- When a field is mandatory—like email, username, or date_of_birth in a user profile.\n",
    "\n",
    "🧪 Example"
   ]
  },
  {
   "cell_type": "code",
   "execution_count": null,
   "id": "3aa9a0d6",
   "metadata": {
    "vscode": {
     "languageId": "sql"
    }
   },
   "outputs": [],
   "source": [
    "CREATE TABLE users (\n",
    "    user_id SERIAL PRIMARY KEY,\n",
    "    username VARCHAR(100) NOT NULL,\n",
    "    email VARCHAR(150) NOT NULL\n",
    ");"
   ]
  },
  {
   "cell_type": "markdown",
   "id": "6493e4b9",
   "metadata": {},
   "source": [
    "💡 Best Practices\n",
    "- Use `NOT NULL` on all essential fields.\n",
    "\n",
    "Avoid using nullable columns in primary or foreign keys.\n",
    "\n",
    "🎯 Interview Question\n",
    "\n",
    "Q: Can a `NOT NULL` column be part of a composite key?\n",
    "\n",
    "A: Yes. In fact, all columns in a primary/composite key must be `NOT NULL`.\n",
    "\n",
    "----------"
   ]
  },
  {
   "cell_type": "markdown",
   "id": "5f7ce7c8",
   "metadata": {},
   "source": [
    "### ✅ 2. UNIQUE Constraint\n",
    "\n",
    "🔍 Definition\n",
    "- Ensures that all values in a column (or a group of columns) are distinct.\n",
    "\n",
    "📌 Use Case\n",
    "- For fields like `email`, `phone_number`, `Aadhar number`, etc., where duplicates aren't allowed.\n",
    "\n",
    "🧪 Example"
   ]
  },
  {
   "cell_type": "code",
   "execution_count": null,
   "id": "66def8ee",
   "metadata": {
    "vscode": {
     "languageId": "sql"
    }
   },
   "outputs": [],
   "source": [
    "CREATE TABLE employees (\n",
    "    emp_id SERIAL PRIMARY KEY,\n",
    "    email VARCHAR(150) UNIQUE,\n",
    "    phone_number VARCHAR(15) UNIQUE\n",
    ");"
   ]
  },
  {
   "cell_type": "markdown",
   "id": "d6d0d067",
   "metadata": {},
   "source": [
    "💡 Best Practices\n",
    "- Use `UNIQUE` constraints to prevent logical duplication.\n",
    "- Use `UNIQUE` (col1, col2) for combined uniqueness (e.g., user_id + role).\n",
    "\n",
    "🎯 Interview Question\n",
    "\n",
    " Q: Can a table have multiple UNIQUE constraints?\n",
    "\n",
    "A: Yes, you can have multiple UNIQUE constraints on different columns.\n",
    "\n",
    "-----------"
   ]
  },
  {
   "cell_type": "markdown",
   "id": "b24eec02",
   "metadata": {},
   "source": [
    "### ✅ 3. PRIMARY KEY Constraint\n",
    "\n",
    "🔍 Definition\n",
    "- Uniquely identifies each row in the table. Combines `NOT NULL` + `UNIQUE`.\n",
    "\n",
    "📌 Use Case\n",
    "- Always required for identifying records. Use auto-incrementing `SERIAL` or `BIGSERIAL` types.\n",
    "\n",
    "🧪 Example\n"
   ]
  },
  {
   "cell_type": "code",
   "execution_count": null,
   "id": "a43d5a52",
   "metadata": {
    "vscode": {
     "languageId": "sql"
    }
   },
   "outputs": [],
   "source": [
    "CREATE TABLE products (\n",
    "    product_id SERIAL PRIMARY KEY,\n",
    "    product_name VARCHAR(100) NOT NULL\n",
    ");"
   ]
  },
  {
   "cell_type": "markdown",
   "id": "2c623b06",
   "metadata": {},
   "source": [
    "💡 Best Practices\n",
    "- Prefer single-column primary keys when possible.\n",
    "\n",
    "- Composite keys should be used when a natural key combination is better than surrogate keys.\n",
    "\n",
    "🎯 Interview Question\n",
    "\n",
    "Q: How is a `PRIMARY KEY` different from `UNIQUE + NOT NULL`?\n",
    "\n",
    "A: Technically same, but only one primary key is allowed per table and it clearly indicates the main identifier.\n",
    "\n",
    "--------------"
   ]
  },
  {
   "cell_type": "markdown",
   "id": "a3fd4e82",
   "metadata": {},
   "source": [
    "### ✅ 4. FOREIGN KEY Constraint\n",
    "\n",
    "🔍 Definition\n",
    "- Links a column (or columns) in one table to the `PRIMARY KEY` or `UNIQUE` constraint of another table.\n",
    "\n",
    "📌 Use Case\n",
    "- Maintains referential integrity. For example, orders should reference a valid customer.\n",
    "\n",
    "🧪 Example"
   ]
  },
  {
   "cell_type": "code",
   "execution_count": null,
   "id": "0a8041a4",
   "metadata": {
    "vscode": {
     "languageId": "sql"
    }
   },
   "outputs": [],
   "source": [
    "CREATE TABLE customers (\n",
    "    customer_id SERIAL PRIMARY KEY,\n",
    "    name VARCHAR(100) NOT NULL\n",
    ");\n",
    "\n",
    "CREATE TABLE orders (\n",
    "    order_id SERIAL PRIMARY KEY,\n",
    "    customer_id INT,\n",
    "    FOREIGN KEY (customer_id) REFERENCES customers(customer_id)\n",
    ");\n"
   ]
  },
  {
   "cell_type": "markdown",
   "id": "cf947196",
   "metadata": {},
   "source": [
    "💡 Best Practices\n",
    "- Index foreign key columns for performance.\n",
    "\n",
    "- Use `ON DELETE CASCADE` or `SET NULL` to define dependent record behavior.\n"
   ]
  },
  {
   "cell_type": "code",
   "execution_count": null,
   "id": "a8d0cccd",
   "metadata": {
    "vscode": {
     "languageId": "sql"
    }
   },
   "outputs": [],
   "source": [
    "FOREIGN KEY (customer_id) REFERENCES customers(customer_id)\n",
    "    ON DELETE CASCADE\n"
   ]
  },
  {
   "cell_type": "markdown",
   "id": "c12a0e05",
   "metadata": {},
   "source": [
    "🎯 Interview Question\n",
    "Q: What happens if you delete a parent row referenced by a foreign key?\n",
    "\n",
    "A: By default, it throws an error unless you use `ON DELETE` rules like `CASCADE` or `SET NULL`.\n",
    "\n",
    "------------"
   ]
  },
  {
   "cell_type": "markdown",
   "id": "41838541",
   "metadata": {},
   "source": [
    "### ✅ 5. CHECK Constraint\n",
    "\n",
    "🔍 Definition\n",
    "- Allows you to enforce custom validations using expressions.\n",
    "\n",
    "📌 Use Case\n",
    "- Age must be > 18, salary must be positive, quantity must be between 1 and 100, etc.\n",
    "\n",
    "🧪 Example\n"
   ]
  },
  {
   "cell_type": "code",
   "execution_count": null,
   "id": "26b8eacd",
   "metadata": {
    "vscode": {
     "languageId": "sql"
    }
   },
   "outputs": [],
   "source": [
    "CREATE TABLE employees (\n",
    "    emp_id SERIAL PRIMARY KEY,\n",
    "    age INT CHECK (age >= 18),\n",
    "    salary NUMERIC(10, 2) CHECK (salary > 0)\n",
    ");"
   ]
  },
  {
   "cell_type": "markdown",
   "id": "32628301",
   "metadata": {},
   "source": [
    "💡 Best Practices\n",
    "- Use `CHECK` for validations that are strictly rule-based.\n",
    "- Avoid overcomplicating CHECK logic.\n",
    "\n",
    "🎯 Interview Question\n",
    "\n",
    "Q: Can you write a `CHECK` constraint to allow only specific departments?\n",
    "\n",
    "A:"
   ]
  },
  {
   "cell_type": "code",
   "execution_count": null,
   "id": "b21cea7f",
   "metadata": {
    "vscode": {
     "languageId": "sql"
    }
   },
   "outputs": [],
   "source": [
    "CHECK (department IN ('HR', 'IT', 'Finance'))"
   ]
  },
  {
   "cell_type": "markdown",
   "id": "3e183822",
   "metadata": {},
   "source": [
    "--------------"
   ]
  },
  {
   "cell_type": "markdown",
   "id": "c0877358",
   "metadata": {},
   "source": [
    "### ✅ 6. DEFAULT Constraint\n",
    "\n",
    "🔍 Definition\n",
    "- Automatically assigns a default value to a column when no value is provided.\n",
    "\n",
    "📌 Use Case\n",
    "- Set default status = ‘active’, created_at = current date, etc.\n",
    "\n",
    "🧪 Example"
   ]
  },
  {
   "cell_type": "code",
   "execution_count": null,
   "id": "b2b8a952",
   "metadata": {
    "vscode": {
     "languageId": "sql"
    }
   },
   "outputs": [],
   "source": [
    "CREATE TABLE users (\n",
    "    user_id SERIAL PRIMARY KEY,\n",
    "    status VARCHAR(20) DEFAULT 'active',\n",
    "    created_at TIMESTAMP DEFAULT CURRENT_TIMESTAMP\n",
    ");"
   ]
  },
  {
   "cell_type": "markdown",
   "id": "9b1dfe20",
   "metadata": {},
   "source": [
    "💡 Best Practices\n",
    "\n",
    "- Use `DEFAULT` for timestamps, status fields, or counters.\n",
    "- Combine with `NOT NULL` to ensure the field is always populated.\n",
    "\n",
    "🎯 Interview Question\n",
    "\n",
    "Q: Can you override a `DEFAULT` value during insertion?\n",
    "\n",
    "A: Yes, by explicitly providing the value.\n",
    "\n",
    "---------------------"
   ]
  },
  {
   "cell_type": "markdown",
   "id": "57dbcf65",
   "metadata": {},
   "source": [
    "### ✅ 7. Composite / Multi-Column Constraints\n",
    "\n",
    "🔍 Definition\n",
    "- Constraints that involve multiple columns together, often used for `UNIQUE` or `PRIMARY KEY`.\n",
    "\n",
    "📌 Use Case\n",
    "- A student can enroll only once in a course → student_id + course_id must be unique.\n",
    "\n",
    "🧪 Example"
   ]
  },
  {
   "cell_type": "code",
   "execution_count": null,
   "id": "01286ced",
   "metadata": {
    "vscode": {
     "languageId": "sql"
    }
   },
   "outputs": [],
   "source": [
    "CREATE TABLE enrollments (\n",
    "    student_id INT,\n",
    "    course_id INT,\n",
    "    PRIMARY KEY (student_id, course_id)  -- Composite Key\n",
    ");"
   ]
  },
  {
   "cell_type": "markdown",
   "id": "ed2a5766",
   "metadata": {},
   "source": [
    "Or:"
   ]
  },
  {
   "cell_type": "code",
   "execution_count": null,
   "id": "3d1948d7",
   "metadata": {
    "vscode": {
     "languageId": "sql"
    }
   },
   "outputs": [],
   "source": [
    "UNIQUE (email, phone_number)"
   ]
  },
  {
   "cell_type": "markdown",
   "id": "d1837d89",
   "metadata": {},
   "source": [
    "💡 Best Practices\n",
    "- Use composite keys only when natural uniqueness comes from multiple fields.\n",
    "- Always document composite constraints for clarity.\n",
    "\n",
    "🎯 Interview Question\n",
    "\n",
    "Q: What’s the difference between composite primary key and separate unique constraints?\n",
    "\n",
    "A: Composite PK combines columns as a single identifier, while unique constraints ensure combinations are distinct but don’t act as identifiers.\n",
    "\n",
    "----------------\n",
    "\n"
   ]
  },
  {
   "cell_type": "markdown",
   "id": "a2f44731",
   "metadata": {},
   "source": [
    "### 🔄 Bonus: Modify Constraints"
   ]
  },
  {
   "cell_type": "code",
   "execution_count": null,
   "id": "146fb83d",
   "metadata": {
    "vscode": {
     "languageId": "sql"
    }
   },
   "outputs": [],
   "source": [
    "-- Add NOT NULL\n",
    "ALTER TABLE users ALTER COLUMN email SET NOT NULL;\n",
    "\n",
    "-- Drop CHECK\n",
    "ALTER TABLE employees DROP CONSTRAINT employees_age_check;\n",
    "\n",
    "-- Add Composite Unique\n",
    "ALTER TABLE users ADD CONSTRAINT unique_email_phone UNIQUE (email, phone_number);\n"
   ]
  },
  {
   "cell_type": "markdown",
   "id": "1d7dca3b",
   "metadata": {},
   "source": [
    "If you are confused about: `What is employees_age_check and where did it come from?`"
   ]
  },
  {
   "cell_type": "code",
   "execution_count": null,
   "id": "64b8bc8b",
   "metadata": {
    "vscode": {
     "languageId": "sql"
    }
   },
   "outputs": [],
   "source": [
    "ALTER TABLE employees DROP CONSTRAINT employees_age_check;"
   ]
  },
  {
   "cell_type": "markdown",
   "id": "1ee91455",
   "metadata": {},
   "source": [
    "✅ Explanation\n",
    "\n",
    "When you create a CHECK constraint like this:"
   ]
  },
  {
   "cell_type": "code",
   "execution_count": null,
   "id": "18f1d5e5",
   "metadata": {
    "vscode": {
     "languageId": "sql"
    }
   },
   "outputs": [],
   "source": [
    "CREATE TABLE employees (\n",
    "    emp_id SERIAL PRIMARY KEY,\n",
    "    age INT CHECK (age >= 18)\n",
    ");"
   ]
  },
  {
   "cell_type": "markdown",
   "id": "985d3340",
   "metadata": {},
   "source": [
    "PostgreSQL automatically gives a default name to that CHECK constraint if you don't provide one explicitly.\n",
    "That name is usually generated like:"
   ]
  },
  {
   "cell_type": "raw",
   "id": "a150c2e1",
   "metadata": {
    "vscode": {
     "languageId": "raw"
    }
   },
   "source": [
    "<tablename>_<columnname>_check"
   ]
  },
  {
   "cell_type": "markdown",
   "id": "4125176c",
   "metadata": {},
   "source": [
    "So in our case:\n",
    "\n",
    "- Table name: `employees`\n",
    "\n",
    "- Column name: `age`\n",
    "\n",
    "- Constraint type: `CHECK`\n",
    "\n",
    "👉 PostgreSQL auto-generates the name:"
   ]
  },
  {
   "cell_type": "raw",
   "id": "a7f0920a",
   "metadata": {
    "vscode": {
     "languageId": "raw"
    }
   },
   "source": [
    "employees_age_check"
   ]
  },
  {
   "cell_type": "markdown",
   "id": "86b505af",
   "metadata": {},
   "source": [
    "That’s why, to remove that constraint, you write:"
   ]
  },
  {
   "cell_type": "code",
   "execution_count": null,
   "id": "4d3c9c1f",
   "metadata": {
    "vscode": {
     "languageId": "sql"
    }
   },
   "outputs": [],
   "source": [
    "ALTER TABLE employees DROP CONSTRAINT employees_age_check;"
   ]
  },
  {
   "cell_type": "markdown",
   "id": "c2e7a319",
   "metadata": {},
   "source": [
    "✅ Want to avoid default names?\n",
    "\n",
    "You can give your own custom constraint name like this:"
   ]
  },
  {
   "cell_type": "code",
   "execution_count": null,
   "id": "05ca807a",
   "metadata": {
    "vscode": {
     "languageId": "sql"
    }
   },
   "outputs": [],
   "source": [
    "CREATE TABLE employees (\n",
    "    emp_id SERIAL PRIMARY KEY,\n",
    "    age INT CONSTRAINT check_min_age CHECK (age >= 18)\n",
    ");"
   ]
  },
  {
   "cell_type": "markdown",
   "id": "70ccd453",
   "metadata": {},
   "source": [
    "Now if you want to drop it later, you’ll do:"
   ]
  },
  {
   "cell_type": "code",
   "execution_count": null,
   "id": "ca740af3",
   "metadata": {
    "vscode": {
     "languageId": "sql"
    }
   },
   "outputs": [],
   "source": [
    "ALTER TABLE employees DROP CONSTRAINT check_min_age;"
   ]
  },
  {
   "cell_type": "markdown",
   "id": "4f0ca1a4",
   "metadata": {},
   "source": [
    "## PostgreSQL Strong Data Types"
   ]
  },
  {
   "cell_type": "markdown",
   "id": "5d6a9c78",
   "metadata": {},
   "source": [
    "### 🔹 1. Text Data Types\n",
    "- ✅ TEXT\n",
    "    - Stores variable-length text with no size limit."
   ]
  },
  {
   "cell_type": "code",
   "execution_count": null,
   "id": "95841ca0",
   "metadata": {
    "vscode": {
     "languageId": "sql"
    }
   },
   "outputs": [],
   "source": [
    "CREATE TABLE blogs (\n",
    "  id SERIAL PRIMARY KEY,\n",
    "  title TEXT,\n",
    "  content TEXT\n",
    ");"
   ]
  },
  {
   "cell_type": "markdown",
   "id": "1aad0043",
   "metadata": {},
   "source": [
    "- ✅ VARCHAR(n)\n",
    "    - Limits string length to n characters."
   ]
  },
  {
   "cell_type": "code",
   "execution_count": null,
   "id": "93bf56e1",
   "metadata": {
    "vscode": {
     "languageId": "sql"
    }
   },
   "outputs": [],
   "source": [
    "CREATE TABLE users (\n",
    "  name VARCHAR(50),\n",
    "  email VARCHAR(100)\n",
    ");"
   ]
  },
  {
   "cell_type": "markdown",
   "id": "bae3f0ca",
   "metadata": {},
   "source": [
    "📌 When to Use\n",
    "\n",
    "`TEXT`: Use for general strings (e.g., descriptions, content).\n",
    "\n",
    "`VARCHAR(n)`: When you need to validate or restrict string length (e.g., username, mobile number).\n",
    "\n",
    "💡 Best Practices\n",
    "\n",
    "Prefer `TEXT` unless you need to enforce length.\n",
    "\n",
    "PostgreSQL doesn’t optimize `VARCHAR(n)` better than `TEXT` i.e Same Performance.\n",
    "\n",
    "Why not use `CHAR(n)`?\n",
    "\n",
    "A: Fixed-length, wastes space. Use `VARCHAR` or `TEXT` instead."
   ]
  },
  {
   "cell_type": "markdown",
   "id": "e7bdfbc3",
   "metadata": {},
   "source": [
    "### 🔹 2. Numeric Data Types\n",
    "- ✅ INTEGER, BIGINT\n",
    "\n",
    "    - INTEGER: Use for counters, quantities.\n",
    "\n",
    "    -   BIGINT: Use when values > 2 billion."
   ]
  },
  {
   "cell_type": "code",
   "execution_count": null,
   "id": "b88c9399",
   "metadata": {
    "vscode": {
     "languageId": "sql"
    }
   },
   "outputs": [],
   "source": [
    "CREATE TABLE products (\n",
    "  id SERIAL PRIMARY KEY,\n",
    "  stock_quantity INTEGER,\n",
    "  total_orders BIGINT\n",
    ");"
   ]
  },
  {
   "cell_type": "markdown",
   "id": "0030f02e",
   "metadata": {},
   "source": [
    "- `✅ NUMERIC(precision,scale) / DECIMAL(precision,scale)` - High precision, great for money calculations.\n",
    "\n",
    "    - NUMERIC: Ideal for currency, salaries, billing.\n",
    "\n",
    "    - REAL: Use in scientific/engineering contexts where precision can be approximate."
   ]
  },
  {
   "cell_type": "code",
   "execution_count": null,
   "id": "5cf23533",
   "metadata": {
    "vscode": {
     "languageId": "sql"
    }
   },
   "outputs": [],
   "source": [
    "CREATE TABLE payments (\n",
    "  id SERIAL,\n",
    "  amount NUMERIC(10,2)\n",
    ");"
   ]
  },
  {
   "cell_type": "markdown",
   "id": "732a3d65",
   "metadata": {},
   "source": [
    "10 is the Precision (p) → Total number of digits allowed (before + after the decimal).\n",
    "\n",
    "2 is the Scale (s) → Number of digits allowed after the decimal point.\n",
    "\n"
   ]
  },
  {
   "cell_type": "markdown",
   "id": "592b02ee",
   "metadata": {},
   "source": [
    "- ✅ REAL\n",
    "\n",
    "    - Approximate decimal number (floating-point).\n",
    "    \n",
    "    - Use in scientific/engineering contexts where precision can be approximate."
   ]
  },
  {
   "cell_type": "code",
   "execution_count": null,
   "id": "5f22f36a",
   "metadata": {
    "vscode": {
     "languageId": "sql"
    }
   },
   "outputs": [],
   "source": [
    "CREATE TABLE sensors (\n",
    "  id INT,\n",
    "  temperature REAL\n",
    ");"
   ]
  },
  {
   "cell_type": "markdown",
   "id": "89c96e29",
   "metadata": {},
   "source": [
    "✅ How It Works\n",
    "\n",
    "- REAL is stored in 4 bytes.\n",
    "\n",
    "- Precision is approximately 6 decimal digits.\n",
    "\n",
    "- Rounds or truncates values exceeding this precision.\n",
    "\n",
    "- Operates faster than NUMERIC, but with floating-point inaccuracies."
   ]
  },
  {
   "cell_type": "markdown",
   "id": "b066d275",
   "metadata": {},
   "source": [
    "### Operates faster than NUMERIC, but with floating-point inaccuracies. explain \n",
    "\n",
    "- ✅ 1. Why REAL is Faster\n",
    "    🔧 How It Works Internally:\n",
    "\n",
    "    - REAL uses binary floating-point hardware (IEEE 754 standard).\n",
    "\n",
    "    - CPU has dedicated registers and instructions to handle these.\n",
    "    \n",
    "    - Operations like +, -, *, / are done in hardware, not software.\n",
    "\n",
    "\n"
   ]
  },
  {
   "cell_type": "code",
   "execution_count": null,
   "id": "6eee8a98",
   "metadata": {
    "vscode": {
     "languageId": "sql"
    }
   },
   "outputs": [],
   "source": [
    "-- Done in CPU register, super fast\n",
    "\n",
    "SELECT 0.1::REAL + 0.2::REAL;  -- ~Instant\n",
    "-- Output: 0.300000012\n",
    "\n",
    "\n",
    "-- Think of this as Turbo Mode for math operations."
   ]
  },
  {
   "cell_type": "markdown",
   "id": "20423b09",
   "metadata": {},
   "source": [
    "Wait... shouldn’t that be 0.3?\n",
    "\n",
    "- ✅ Why this happens:\n",
    "    - Decimal 0.1 is like 0.0001100110011... in binary → it gets truncated or rounded in memory.\n",
    "\n",
    "💥 This leads to rounding errors, especially in large calculations or comparisons.\n",
    "\n"
   ]
  },
  {
   "cell_type": "markdown",
   "id": "bd52a3a7",
   "metadata": {},
   "source": [
    "🔁 Compare with NUMERIC:"
   ]
  },
  {
   "cell_type": "code",
   "execution_count": null,
   "id": "5f9d4647",
   "metadata": {
    "vscode": {
     "languageId": "sql"
    }
   },
   "outputs": [],
   "source": [
    "SELECT 0.1::NUMERIC + 0.2::NUMERIC;\n",
    "-- Output: 0.3  ✅ Accurate!\n"
   ]
  },
  {
   "cell_type": "markdown",
   "id": "f5c4f7c6",
   "metadata": {},
   "source": [
    "Why? Because NUMERIC stores exact decimal representation — no binary rounding."
   ]
  },
  {
   "cell_type": "markdown",
   "id": "14622832",
   "metadata": {},
   "source": [
    "### 💡 Best Practices\n",
    "\n",
    "- Don’t use `REAL` or `FLOAT` for money."
   ]
  },
  {
   "cell_type": "code",
   "execution_count": null,
   "id": "c9af5fde",
   "metadata": {
    "vscode": {
     "languageId": "sql"
    }
   },
   "outputs": [],
   "source": [
    "CREATE TABLE billing (\n",
    "  item TEXT,\n",
    "  price REAL\n",
    ");\n",
    "-- Risky: ₹0.1 + ₹0.2 ≠ ₹0.3 due to float inaccuracy"
   ]
  },
  {
   "cell_type": "markdown",
   "id": "b87967a3",
   "metadata": {},
   "source": [
    "- Use `NUMERIC` for exact precision."
   ]
  },
  {
   "cell_type": "code",
   "execution_count": null,
   "id": "20b8df86",
   "metadata": {
    "vscode": {
     "languageId": "sql"
    }
   },
   "outputs": [],
   "source": [
    "CREATE TABLE billing (\n",
    "  item TEXT,\n",
    "  price NUMERIC(10, 2)\n",
    ");\n",
    "-- Always gives ₹0.30 when 0.1 + 0.2"
   ]
  },
  {
   "cell_type": "markdown",
   "id": "cab982be",
   "metadata": {},
   "source": [
    "### 🔹 3. Date & Time Data Types\n",
    "- `✅ DATE`"
   ]
  },
  {
   "cell_type": "code",
   "execution_count": null,
   "id": "4de3551a",
   "metadata": {
    "vscode": {
     "languageId": "sql"
    }
   },
   "outputs": [],
   "source": [
    "CREATE TABLE employees (\n",
    "  id INT,\n",
    "  hire_date DATE\n",
    ");"
   ]
  },
  {
   "cell_type": "markdown",
   "id": "8cded297",
   "metadata": {},
   "source": [
    "- `✅ TIMESTAMP WITH TIME ZONE (timestamptz)`"
   ]
  },
  {
   "cell_type": "code",
   "execution_count": null,
   "id": "cc16387b",
   "metadata": {
    "vscode": {
     "languageId": "sql"
    }
   },
   "outputs": [],
   "source": [
    "CREATE TABLE meetings (\n",
    "  id SERIAL,\n",
    "  start_time TIMESTAMPTZ DEFAULT CURRENT_TIMESTAMP\n",
    ");"
   ]
  },
  {
   "cell_type": "markdown",
   "id": "6cb7c96a",
   "metadata": {},
   "source": [
    "📌 When to Use\n",
    "\n",
    "- `DATE`: Birthdays, joining dates.\n",
    "\n",
    "- `TIMESTAMPTZ`: Global applications with time zone awareness (e.g., online meetings, travel apps).\n",
    "\n",
    "### 💡 Best Practices\n",
    "\n",
    "- Always use `TIMESTAMPTZ` if your app runs across time zones.\n",
    "\n",
    "- Use `CURRENT_TIMESTAMP` or `NOW()` for default values.\n",
    "\n"
   ]
  },
  {
   "cell_type": "markdown",
   "id": "e5807eb9",
   "metadata": {},
   "source": [
    "### 🔹 4. Boolean Data Type\n",
    "- ✅ BOOLEAN"
   ]
  },
  {
   "cell_type": "code",
   "execution_count": null,
   "id": "0534b146",
   "metadata": {
    "vscode": {
     "languageId": "sql"
    }
   },
   "outputs": [],
   "source": [
    "CREATE TABLE accounts (\n",
    "  id INT,\n",
    "  is_verified BOOLEAN DEFAULT FALSE\n",
    ");"
   ]
  },
  {
   "cell_type": "markdown",
   "id": "d8cfd5a5",
   "metadata": {},
   "source": [
    "📌 When to Use\n",
    "- Ideal for yes/no, true/false flags like is_active, has_access, deleted.\n",
    "\n",
    "### 💡 Best Practices\n",
    "\n",
    "- Don’t use CHAR(1) or INT for booleans — prefer BOOLEAN.\n",
    "\n",
    "- Set DEFAULT TRUE/FALSE for clear behavior."
   ]
  },
  {
   "cell_type": "markdown",
   "id": "20749a8a",
   "metadata": {},
   "source": [
    "### 🔹 5. Special Data Types\n",
    "- ✅ JSONB (Binary JSON)"
   ]
  },
  {
   "cell_type": "code",
   "execution_count": null,
   "id": "f4abbfef",
   "metadata": {
    "vscode": {
     "languageId": "sql"
    }
   },
   "outputs": [],
   "source": [
    "CREATE TABLE users (\n",
    "  id SERIAL,\n",
    "  profile JSONB\n",
    ");\n",
    "\n",
    "INSERT INTO users(profile) VALUES ('{\"name\": \"Hemendra\", \"skills\": [\"Python\", \"React\"]}');\n"
   ]
  },
  {
   "cell_type": "markdown",
   "id": "96dc54c3",
   "metadata": {},
   "source": [
    "➕ Query Example:"
   ]
  },
  {
   "cell_type": "code",
   "execution_count": null,
   "id": "23d880da",
   "metadata": {
    "vscode": {
     "languageId": "sql"
    }
   },
   "outputs": [],
   "source": [
    "SELECT profile->>'name' FROM users;"
   ]
  },
  {
   "cell_type": "markdown",
   "id": "19778d1d",
   "metadata": {},
   "source": [
    "📌 When to Use\n",
    "- When data is semi-structured, varies by record — e.g., metadata, preferences, configurations.\n",
    "\n",
    "💡 Best Practices\n",
    "- Use `JSONB` over `JSON` – faster and indexable.\n",
    "- Add GIN index:"
   ]
  },
  {
   "cell_type": "code",
   "execution_count": null,
   "id": "cec8af60",
   "metadata": {
    "vscode": {
     "languageId": "sql"
    }
   },
   "outputs": [],
   "source": [
    "CREATE INDEX idx_profile ON users USING GIN(profile);"
   ]
  },
  {
   "cell_type": "markdown",
   "id": "e8d062e3",
   "metadata": {},
   "source": [
    "- `✅ UUID – Universally Unique Identifier`"
   ]
  },
  {
   "cell_type": "code",
   "execution_count": null,
   "id": "7439702f",
   "metadata": {
    "vscode": {
     "languageId": "sql"
    }
   },
   "outputs": [],
   "source": [
    "CREATE EXTENSION IF NOT EXISTS \"uuid-ossp\";\n",
    "\n",
    "CREATE TABLE sessions (\n",
    "  id UUID DEFAULT uuid_generate_v4(),\n",
    "  user_id INT\n",
    ");"
   ]
  },
  {
   "cell_type": "markdown",
   "id": "c0c412f3",
   "metadata": {},
   "source": [
    "📌 When to Use\n",
    "- Global uniqueness needed, e.g., API keys, session tokens, public IDs.\n",
    "\n",
    "💡 Best Practices\n",
    "\n",
    "- Avoid for high-frequency indexing due to performance.\n",
    "\n",
    "- Use only where security & uniqueness is crucial."
   ]
  },
  {
   "cell_type": "markdown",
   "id": "de646daa",
   "metadata": {},
   "source": [
    "❓ Interview Qs\n",
    "\n",
    "Q: What is size of UUID?\n",
    "\n",
    "A: 128 bits (16 bytes).\n",
    "\n",
    "Q: What function generates UUID v4?\n",
    "\n",
    "A: uuid_generate_v4()."
   ]
  },
  {
   "cell_type": "markdown",
   "id": "558b1482",
   "metadata": {},
   "source": [
    "- `✅ ARRAY`"
   ]
  },
  {
   "cell_type": "code",
   "execution_count": null,
   "id": "8cc18b56",
   "metadata": {
    "vscode": {
     "languageId": "sql"
    }
   },
   "outputs": [],
   "source": [
    "CREATE TABLE books (\n",
    "  id INT,\n",
    "  tags TEXT[]\n",
    ");\n",
    "\n",
    "INSERT INTO books(tags) VALUES (ARRAY['fiction', 'ai', 'tech']);"
   ]
  },
  {
   "cell_type": "markdown",
   "id": "ab497d75",
   "metadata": {},
   "source": [
    "➕ Query ARRAY:"
   ]
  },
  {
   "cell_type": "code",
   "execution_count": null,
   "id": "a1269130",
   "metadata": {
    "vscode": {
     "languageId": "sql"
    }
   },
   "outputs": [],
   "source": [
    "SELECT * FROM books WHERE tags @> ARRAY['ai'];"
   ]
  },
  {
   "cell_type": "markdown",
   "id": "5dba94fe",
   "metadata": {},
   "source": [
    "📌 When to Use\n",
    "- Small, limited options like genres, skills, multiple tags.\n",
    "\n",
    "💡 Best Practices\n",
    "- Use separate table + foreign key for large/complex data.\n",
    "\n",
    "- Keep arrays small and fixed-length if possible.\n",
    "\n",
    "❓ Interview Qs\n",
    "\n",
    "Q: What operator checks if array contains value?\n",
    "\n",
    "A: @> (contains), ANY() (match any)."
   ]
  },
  {
   "cell_type": "markdown",
   "id": "de958779",
   "metadata": {},
   "source": [
    "- `✅ BYTEA – Binary Data`"
   ]
  },
  {
   "cell_type": "code",
   "execution_count": null,
   "id": "ad7b83bb",
   "metadata": {
    "vscode": {
     "languageId": "sql"
    }
   },
   "outputs": [],
   "source": [
    "CREATE TABLE files (\n",
    "  id SERIAL,\n",
    "  name TEXT,\n",
    "  data BYTEA\n",
    ");\n"
   ]
  },
  {
   "cell_type": "markdown",
   "id": "bbbc4153",
   "metadata": {},
   "source": [
    "📌 When to Use\n",
    "- Storing small binary files (images, PDFs, encrypted data).\n",
    "\n",
    "💡 Best Practices\n",
    "- For large files, save file path in DB and store files in object storage/cloud.\n",
    "\n",
    "❓ Interview Qs\n",
    "\n",
    "Q: Can BYTEA be indexed?\n",
    "\n",
    "A: Not efficiently. Use SHA or IDs for lookup."
   ]
  },
  {
   "cell_type": "markdown",
   "id": "b6581934",
   "metadata": {},
   "source": [
    "🚀 Bonus: Project Use Case Ideas\n",
    "\n",
    "- Use all types together in a mini project DB:"
   ]
  },
  {
   "cell_type": "code",
   "execution_count": null,
   "id": "a2ee0157",
   "metadata": {
    "vscode": {
     "languageId": "sql"
    }
   },
   "outputs": [],
   "source": [
    "CREATE TABLE users (\n",
    "  id UUID PRIMARY KEY DEFAULT uuid_generate_v4(),\n",
    "  name TEXT NOT NULL,\n",
    "  email VARCHAR(100) UNIQUE,\n",
    "  password BYTEA,\n",
    "  is_active BOOLEAN DEFAULT TRUE,\n",
    "  preferences JSONB,\n",
    "  skills TEXT[],\n",
    "  created_at TIMESTAMPTZ DEFAULT CURRENT_TIMESTAMP\n",
    ");"
   ]
  }
 ],
 "metadata": {
  "language_info": {
   "name": "python"
  }
 },
 "nbformat": 4,
 "nbformat_minor": 5
}
