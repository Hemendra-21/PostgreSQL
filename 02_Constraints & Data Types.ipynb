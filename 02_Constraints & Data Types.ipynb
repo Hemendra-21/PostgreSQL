{
 "cells": [
  {
   "cell_type": "markdown",
   "id": "7a484bbb",
   "metadata": {},
   "source": [
    "## Normalization Stages (1NF, 2NF, 3NF, and BCNF)\n",
    " - Normalization is the process of organizing data in a database to reduce redundancy and dependency. \n",
    " - This is done by dividing large tables into smaller ones and ensuring that data is stored logically. \n",
    " - Let's go through each normal form (1NF, 2NF, 3NF, and BCNF) one by one.\n"
   ]
  },
  {
   "cell_type": "markdown",
   "id": "0073924b",
   "metadata": {},
   "source": [
    "### 1. First Normal Form (1NF)\n",
    "A relation is in 1NF if it meets the following conditions:\n",
    "\n",
    "- Atomicity: Each column contains atomic values (indivisible values). This means no repeating groups or arrays in a single column.\n",
    "\n",
    "- Uniqueness: Each row in the table must be unique, and no two rows can have exactly the same data.\n",
    "\n",
    "Example of Non-1NF:"
   ]
  },
  {
   "cell_type": "code",
   "execution_count": null,
   "id": "9e9bbc67",
   "metadata": {
    "vscode": {
     "languageId": "sql"
    }
   },
   "outputs": [],
   "source": [
    "CREATE TABLE orders (\n",
    "    order_id INT PRIMARY KEY,\n",
    "    customer_name VARCHAR(100),\n",
    "    items VARCHAR(255)  -- This column has a list of items\n",
    ");\n",
    "\n",
    "INSERT INTO orders (order_id, customer_name, items)\n",
    "VALUES (1, 'John Doe', 'Item1, Item2'),\n",
    "       (2, 'Jane Smith', 'Item3, Item4');"
   ]
  },
  {
   "cell_type": "markdown",
   "id": "d163fbd4",
   "metadata": {},
   "source": [
    "Here, the items column is not atomic because it stores multiple values in a single field.\n",
    "\n",
    "Converting to 1NF:\n",
    "To bring the table to 1NF, we separate the repeating group (items) into individual rows."
   ]
  },
  {
   "cell_type": "code",
   "execution_count": null,
   "id": "9920da43",
   "metadata": {
    "vscode": {
     "languageId": "sql"
    }
   },
   "outputs": [],
   "source": [
    "CREATE TABLE orders (\n",
    "    order_id INT,\n",
    "    customer_name VARCHAR(100),\n",
    "    item VARCHAR(100),  -- Atomic column for items\n",
    "    PRIMARY KEY (order_id, item)  -- Composite primary key\n",
    ");\n",
    "\n",
    "INSERT INTO orders (order_id, customer_name, item)\n",
    "VALUES (1, 'John Doe', 'Item1'),\n",
    "       (1, 'John Doe', 'Item2'),\n",
    "       (2, 'Jane Smith', 'Item3'),\n",
    "       (2, 'Jane Smith', 'Item4');\n"
   ]
  },
  {
   "cell_type": "markdown",
   "id": "a5587f16",
   "metadata": {},
   "source": [
    "### 2. Second Normal Form (2NF)\n",
    "A relation is in 2NF if:\n",
    "\n",
    "- It is in 1NF.\n",
    "\n",
    "- It has no partial dependency; that is, all non-key attributes must be fully functionally dependent on the entire primary key, not just part of it.\n",
    "\n",
    "Example of Non-2NF:\n",
    "\n",
    "Let's say we have the following table, where order_id and product_id together form a composite primary key."
   ]
  },
  {
   "cell_type": "code",
   "execution_count": null,
   "id": "066c5396",
   "metadata": {
    "vscode": {
     "languageId": "sql"
    }
   },
   "outputs": [],
   "source": [
    "CREATE TABLE order_items (\n",
    "    order_id INT,\n",
    "    product_id INT,\n",
    "    product_name VARCHAR(100),\n",
    "    quantity INT,\n",
    "    PRIMARY KEY (order_id, product_id)\n",
    ");\n",
    "\n",
    "INSERT INTO order_items (order_id, product_id, product_name, quantity)\n",
    "VALUES (1, 101, 'Laptop', 2),\n",
    "       (1, 102, 'Smartphone', 3),\n",
    "       (2, 103, 'Tablet', 1);\n"
   ]
  },
  {
   "cell_type": "markdown",
   "id": "309ee4c4",
   "metadata": {},
   "source": [
    "Here, product_name depends only on product_id, but the primary key is a composite of order_id and product_id. This is a partial dependency, which violates 2NF.\n",
    "\n",
    "Converting to 2NF:\n",
    "\n",
    "We remove the partial dependency by creating a new table for products, leaving product_name in the new table."
   ]
  },
  {
   "cell_type": "code",
   "execution_count": null,
   "id": "ad69dc9c",
   "metadata": {
    "vscode": {
     "languageId": "sql"
    }
   },
   "outputs": [],
   "source": [
    "CREATE TABLE products (\n",
    "    product_id INT PRIMARY KEY,\n",
    "    product_name VARCHAR(100)\n",
    ");\n",
    "\n",
    "CREATE TABLE order_items (\n",
    "    order_id INT,\n",
    "    product_id INT,\n",
    "    quantity INT,\n",
    "    PRIMARY KEY (order_id, product_id),\n",
    "    FOREIGN KEY (product_id) REFERENCES products(product_id)\n",
    ");\n",
    "\n",
    "INSERT INTO products (product_id, product_name)\n",
    "VALUES (101, 'Laptop'),\n",
    "       (102, 'Smartphone'),\n",
    "       (103, 'Tablet');\n"
   ]
  },
  {
   "cell_type": "markdown",
   "id": "f245522f",
   "metadata": {},
   "source": [
    "### 3. Third Normal Form (3NF)\n",
    "A relation is in `3NF` if:\n",
    "\n",
    "- It is in `2NF`.\n",
    "\n",
    "- It has no `transitive dependency`; that is, non-key attributes should depend only on the primary key, not on other non-key attributes.\n",
    "\n",
    "Example of Non-3NF:\n",
    "\n",
    "Let's say we have the following table, where employee_id is the primary key:"
   ]
  },
  {
   "cell_type": "code",
   "execution_count": null,
   "id": "e36fb0a6",
   "metadata": {
    "vscode": {
     "languageId": "sql"
    }
   },
   "outputs": [],
   "source": [
    "CREATE TABLE employees (\n",
    "    employee_id INT PRIMARY KEY,\n",
    "    employee_name VARCHAR(100),\n",
    "    department_id INT,\n",
    "    department_name VARCHAR(100),\n",
    "    department_head VARCHAR(100)\n",
    ");\n",
    "\n",
    "INSERT INTO employees (employee_id, employee_name, department_id, department_name, department_head)\n",
    "VALUES (1, 'John Doe', 101, 'HR', 'Alice'),\n",
    "       (2, 'Jane Smith', 102, 'IT', 'Bob');"
   ]
  },
  {
   "cell_type": "markdown",
   "id": "71b06df0",
   "metadata": {},
   "source": [
    "Here, department_name and department_head are dependent on department_id, but department_id is dependent on employee_id. This is a transitive dependency.\n",
    "\n",
    "Converting to 3NF:\n",
    "\n",
    "We remove the transitive dependency by creating a separate table for departments"
   ]
  },
  {
   "cell_type": "code",
   "execution_count": null,
   "id": "8cfeaa35",
   "metadata": {
    "vscode": {
     "languageId": "sql"
    }
   },
   "outputs": [],
   "source": [
    "CREATE TABLE departments (\n",
    "    department_id INT PRIMARY KEY,\n",
    "    department_name VARCHAR(100),\n",
    "    department_head VARCHAR(100)\n",
    ");\n",
    "\n",
    "CREATE TABLE employees (\n",
    "    employee_id INT PRIMARY KEY,\n",
    "    employee_name VARCHAR(100),\n",
    "    department_id INT,\n",
    "    FOREIGN KEY (department_id) REFERENCES departments(department_id)\n",
    ");\n",
    "\n",
    "INSERT INTO departments (department_id, department_name, department_head)\n",
    "VALUES (101, 'HR', 'Alice'),\n",
    "       (102, 'IT', 'Bob');\n"
   ]
  },
  {
   "cell_type": "markdown",
   "id": "7bf39a4b",
   "metadata": {},
   "source": [
    "## Constraints in PostgreSQL"
   ]
  },
  {
   "cell_type": "markdown",
   "id": "634e882b",
   "metadata": {},
   "source": [
    "Constraints help ensure data integrity, prevent invalid data, and enforce business rules at the database level."
   ]
  },
  {
   "cell_type": "markdown",
   "id": "d2d88529",
   "metadata": {},
   "source": [
    "### ✅ 1. NOT NULL Constraint\n",
    "\n",
    "🔍 Definition\n",
    "- Ensures that a column cannot contain `NULL` values.\n",
    "\n",
    "📌 Use Case\n",
    "- When a field is mandatory—like email, username, or date_of_birth in a user profile.\n",
    "\n",
    "🧪 Example"
   ]
  },
  {
   "cell_type": "code",
   "execution_count": null,
   "id": "3aa9a0d6",
   "metadata": {
    "vscode": {
     "languageId": "sql"
    }
   },
   "outputs": [],
   "source": [
    "CREATE TABLE users (\n",
    "    user_id SERIAL PRIMARY KEY,\n",
    "    username VARCHAR(100) NOT NULL,\n",
    "    email VARCHAR(150) NOT NULL\n",
    ");"
   ]
  },
  {
   "cell_type": "markdown",
   "id": "6493e4b9",
   "metadata": {},
   "source": [
    "💡 Best Practices\n",
    "- Use `NOT NULL` on all essential fields.\n",
    "\n",
    "Avoid using nullable columns in primary or foreign keys.\n",
    "\n",
    "🎯 Interview Question\n",
    "\n",
    "Q: Can a `NOT NULL` column be part of a composite key?\n",
    "\n",
    "A: Yes. In fact, all columns in a primary/composite key must be `NOT NULL`.\n",
    "\n",
    "----------"
   ]
  },
  {
   "cell_type": "markdown",
   "id": "5f7ce7c8",
   "metadata": {},
   "source": [
    "### ✅ 2. UNIQUE Constraint\n",
    "\n",
    "🔍 Definition\n",
    "- Ensures that all values in a column (or a group of columns) are distinct.\n",
    "\n",
    "📌 Use Case\n",
    "- For fields like `email`, `phone_number`, `Aadhar number`, etc., where duplicates aren't allowed.\n",
    "\n",
    "🧪 Example"
   ]
  },
  {
   "cell_type": "code",
   "execution_count": null,
   "id": "66def8ee",
   "metadata": {
    "vscode": {
     "languageId": "sql"
    }
   },
   "outputs": [],
   "source": [
    "CREATE TABLE employees (\n",
    "    emp_id SERIAL PRIMARY KEY,\n",
    "    email VARCHAR(150) UNIQUE,\n",
    "    phone_number VARCHAR(15) UNIQUE\n",
    ");"
   ]
  },
  {
   "cell_type": "markdown",
   "id": "d6d0d067",
   "metadata": {},
   "source": [
    "💡 Best Practices\n",
    "- Use `UNIQUE` constraints to prevent logical duplication.\n",
    "- Use `UNIQUE` (col1, col2) for combined uniqueness (e.g., user_id + role).\n",
    "\n",
    "🎯 Interview Question\n",
    "\n",
    " Q: Can a table have multiple UNIQUE constraints?\n",
    "\n",
    "A: Yes, you can have multiple UNIQUE constraints on different columns.\n",
    "\n",
    "-----------"
   ]
  },
  {
   "cell_type": "markdown",
   "id": "b24eec02",
   "metadata": {},
   "source": [
    "### ✅ 3. PRIMARY KEY Constraint\n",
    "\n",
    "🔍 Definition\n",
    "- Uniquely identifies each row in the table. Combines `NOT NULL` + `UNIQUE`.\n",
    "\n",
    "📌 Use Case\n",
    "- Always required for identifying records. Use auto-incrementing `SERIAL` or `BIGSERIAL` types.\n",
    "\n",
    "🧪 Example\n"
   ]
  },
  {
   "cell_type": "code",
   "execution_count": null,
   "id": "a43d5a52",
   "metadata": {
    "vscode": {
     "languageId": "sql"
    }
   },
   "outputs": [],
   "source": [
    "CREATE TABLE products (\n",
    "    product_id SERIAL PRIMARY KEY,\n",
    "    product_name VARCHAR(100) NOT NULL\n",
    ");"
   ]
  },
  {
   "cell_type": "markdown",
   "id": "2c623b06",
   "metadata": {},
   "source": [
    "💡 Best Practices\n",
    "- Prefer single-column primary keys when possible.\n",
    "\n",
    "- Composite keys should be used when a natural key combination is better than surrogate keys.\n",
    "\n",
    "🎯 Interview Question\n",
    "\n",
    "Q: How is a `PRIMARY KEY` different from `UNIQUE + NOT NULL`?\n",
    "\n",
    "A: Technically same, but only one primary key is allowed per table and it clearly indicates the main identifier.\n",
    "\n",
    "--------------"
   ]
  },
  {
   "cell_type": "markdown",
   "id": "a3fd4e82",
   "metadata": {},
   "source": [
    "### ✅ 4. FOREIGN KEY Constraint\n",
    "\n",
    "🔍 Definition\n",
    "- Links a column (or columns) in one table to the `PRIMARY KEY` or `UNIQUE` constraint of another table.\n",
    "\n",
    "📌 Use Case\n",
    "- Maintains referential integrity. For example, orders should reference a valid customer.\n",
    "\n",
    "🧪 Example"
   ]
  },
  {
   "cell_type": "code",
   "execution_count": null,
   "id": "0a8041a4",
   "metadata": {
    "vscode": {
     "languageId": "sql"
    }
   },
   "outputs": [],
   "source": [
    "CREATE TABLE customers (\n",
    "    customer_id SERIAL PRIMARY KEY,\n",
    "    name VARCHAR(100) NOT NULL\n",
    ");\n",
    "\n",
    "CREATE TABLE orders (\n",
    "    order_id SERIAL PRIMARY KEY,\n",
    "    customer_id INT,\n",
    "    FOREIGN KEY (customer_id) REFERENCES customers(customer_id)\n",
    ");\n"
   ]
  },
  {
   "cell_type": "markdown",
   "id": "cf947196",
   "metadata": {},
   "source": [
    "💡 Best Practices\n",
    "- Index foreign key columns for performance.\n",
    "\n",
    "- Use `ON DELETE CASCADE` or `SET NULL` to define dependent record behavior.\n"
   ]
  },
  {
   "cell_type": "code",
   "execution_count": null,
   "id": "a8d0cccd",
   "metadata": {
    "vscode": {
     "languageId": "sql"
    }
   },
   "outputs": [],
   "source": [
    "FOREIGN KEY (customer_id) REFERENCES customers(customer_id)\n",
    "    ON DELETE CASCADE\n"
   ]
  },
  {
   "cell_type": "markdown",
   "id": "c12a0e05",
   "metadata": {},
   "source": [
    "🎯 Interview Question\n",
    "Q: What happens if you delete a parent row referenced by a foreign key?\n",
    "\n",
    "A: By default, it throws an error unless you use `ON DELETE` rules like `CASCADE` or `SET NULL`.\n",
    "\n",
    "------------"
   ]
  },
  {
   "cell_type": "markdown",
   "id": "41838541",
   "metadata": {},
   "source": [
    "### ✅ 5. CHECK Constraint\n",
    "\n",
    "🔍 Definition\n",
    "- Allows you to enforce custom validations using expressions.\n",
    "\n",
    "📌 Use Case\n",
    "- Age must be > 18, salary must be positive, quantity must be between 1 and 100, etc.\n",
    "\n",
    "🧪 Example\n"
   ]
  },
  {
   "cell_type": "code",
   "execution_count": null,
   "id": "26b8eacd",
   "metadata": {
    "vscode": {
     "languageId": "sql"
    }
   },
   "outputs": [],
   "source": [
    "CREATE TABLE employees (\n",
    "    emp_id SERIAL PRIMARY KEY,\n",
    "    age INT CHECK (age >= 18),\n",
    "    salary NUMERIC(10, 2) CHECK (salary > 0)\n",
    ");"
   ]
  },
  {
   "cell_type": "markdown",
   "id": "32628301",
   "metadata": {},
   "source": [
    "💡 Best Practices\n",
    "- Use `CHECK` for validations that are strictly rule-based.\n",
    "- Avoid overcomplicating CHECK logic.\n",
    "\n",
    "🎯 Interview Question\n",
    "\n",
    "Q: Can you write a `CHECK` constraint to allow only specific departments?\n",
    "\n",
    "A:"
   ]
  },
  {
   "cell_type": "code",
   "execution_count": null,
   "id": "b21cea7f",
   "metadata": {
    "vscode": {
     "languageId": "sql"
    }
   },
   "outputs": [],
   "source": [
    "CHECK (department IN ('HR', 'IT', 'Finance'))"
   ]
  },
  {
   "cell_type": "markdown",
   "id": "3e183822",
   "metadata": {},
   "source": [
    "--------------"
   ]
  },
  {
   "cell_type": "markdown",
   "id": "c0877358",
   "metadata": {},
   "source": [
    "### ✅ 6. DEFAULT Constraint\n",
    "\n",
    "🔍 Definition\n",
    "- Automatically assigns a default value to a column when no value is provided.\n",
    "\n",
    "📌 Use Case\n",
    "- Set default status = ‘active’, created_at = current date, etc.\n",
    "\n",
    "🧪 Example"
   ]
  },
  {
   "cell_type": "code",
   "execution_count": null,
   "id": "b2b8a952",
   "metadata": {
    "vscode": {
     "languageId": "sql"
    }
   },
   "outputs": [],
   "source": [
    "CREATE TABLE users (\n",
    "    user_id SERIAL PRIMARY KEY,\n",
    "    status VARCHAR(20) DEFAULT 'active',\n",
    "    created_at TIMESTAMP DEFAULT CURRENT_TIMESTAMP\n",
    ");"
   ]
  },
  {
   "cell_type": "markdown",
   "id": "9b1dfe20",
   "metadata": {},
   "source": [
    "💡 Best Practices\n",
    "\n",
    "- Use `DEFAULT` for timestamps, status fields, or counters.\n",
    "- Combine with `NOT NULL` to ensure the field is always populated.\n",
    "\n",
    "🎯 Interview Question\n",
    "\n",
    "Q: Can you override a `DEFAULT` value during insertion?\n",
    "\n",
    "A: Yes, by explicitly providing the value.\n",
    "\n",
    "---------------------"
   ]
  },
  {
   "cell_type": "markdown",
   "id": "57dbcf65",
   "metadata": {},
   "source": [
    "### ✅ 7. Composite / Multi-Column Constraints\n",
    "\n",
    "🔍 Definition\n",
    "- Constraints that involve multiple columns together, often used for `UNIQUE` or `PRIMARY KEY`.\n",
    "\n",
    "📌 Use Case\n",
    "- A student can enroll only once in a course → student_id + course_id must be unique.\n",
    "\n",
    "🧪 Example"
   ]
  },
  {
   "cell_type": "code",
   "execution_count": null,
   "id": "01286ced",
   "metadata": {
    "vscode": {
     "languageId": "sql"
    }
   },
   "outputs": [],
   "source": [
    "CREATE TABLE enrollments (\n",
    "    student_id INT,\n",
    "    course_id INT,\n",
    "    PRIMARY KEY (student_id, course_id)  -- Composite Key\n",
    ");"
   ]
  },
  {
   "cell_type": "markdown",
   "id": "ed2a5766",
   "metadata": {},
   "source": [
    "Or:"
   ]
  },
  {
   "cell_type": "code",
   "execution_count": null,
   "id": "3d1948d7",
   "metadata": {
    "vscode": {
     "languageId": "sql"
    }
   },
   "outputs": [],
   "source": [
    "UNIQUE (email, phone_number)"
   ]
  },
  {
   "cell_type": "markdown",
   "id": "d1837d89",
   "metadata": {},
   "source": [
    "💡 Best Practices\n",
    "- Use composite keys only when natural uniqueness comes from multiple fields.\n",
    "- Always document composite constraints for clarity.\n",
    "\n",
    "🎯 Interview Question\n",
    "\n",
    "Q: What’s the difference between composite primary key and separate unique constraints?\n",
    "\n",
    "A: Composite PK combines columns as a single identifier, while unique constraints ensure combinations are distinct but don’t act as identifiers.\n",
    "\n",
    "----------------\n",
    "\n"
   ]
  },
  {
   "cell_type": "markdown",
   "id": "a2f44731",
   "metadata": {},
   "source": [
    "### 🔄 Bonus: Modify Constraints"
   ]
  },
  {
   "cell_type": "code",
   "execution_count": null,
   "id": "146fb83d",
   "metadata": {
    "vscode": {
     "languageId": "sql"
    }
   },
   "outputs": [],
   "source": [
    "-- Add NOT NULL\n",
    "ALTER TABLE users ALTER COLUMN email SET NOT NULL;\n",
    "\n",
    "-- Drop CHECK\n",
    "ALTER TABLE employees DROP CONSTRAINT employees_age_check;\n",
    "\n",
    "-- Add Composite Unique\n",
    "ALTER TABLE users ADD CONSTRAINT unique_email_phone UNIQUE (email, phone_number);\n"
   ]
  },
  {
   "cell_type": "markdown",
   "id": "1d7dca3b",
   "metadata": {},
   "source": [
    "If you are confused about: `What is employees_age_check and where did it come from?`"
   ]
  },
  {
   "cell_type": "code",
   "execution_count": null,
   "id": "64b8bc8b",
   "metadata": {
    "vscode": {
     "languageId": "sql"
    }
   },
   "outputs": [],
   "source": [
    "ALTER TABLE employees DROP CONSTRAINT employees_age_check;"
   ]
  },
  {
   "cell_type": "markdown",
   "id": "1ee91455",
   "metadata": {},
   "source": [
    "✅ Explanation\n",
    "\n",
    "When you create a CHECK constraint like this:"
   ]
  },
  {
   "cell_type": "code",
   "execution_count": null,
   "id": "18f1d5e5",
   "metadata": {
    "vscode": {
     "languageId": "sql"
    }
   },
   "outputs": [],
   "source": [
    "CREATE TABLE employees (\n",
    "    emp_id SERIAL PRIMARY KEY,\n",
    "    age INT CHECK (age >= 18)\n",
    ");"
   ]
  },
  {
   "cell_type": "markdown",
   "id": "985d3340",
   "metadata": {},
   "source": [
    "PostgreSQL automatically gives a default name to that CHECK constraint if you don't provide one explicitly.\n",
    "That name is usually generated like:"
   ]
  },
  {
   "cell_type": "raw",
   "id": "a150c2e1",
   "metadata": {
    "vscode": {
     "languageId": "raw"
    }
   },
   "source": [
    "<tablename>_<columnname>_check"
   ]
  },
  {
   "cell_type": "markdown",
   "id": "4125176c",
   "metadata": {},
   "source": [
    "So in our case:\n",
    "\n",
    "- Table name: `employees`\n",
    "\n",
    "- Column name: `age`\n",
    "\n",
    "- Constraint type: `CHECK`\n",
    "\n",
    "👉 PostgreSQL auto-generates the name:"
   ]
  },
  {
   "cell_type": "raw",
   "id": "a7f0920a",
   "metadata": {
    "vscode": {
     "languageId": "raw"
    }
   },
   "source": [
    "employees_age_check"
   ]
  },
  {
   "cell_type": "markdown",
   "id": "86b505af",
   "metadata": {},
   "source": [
    "That’s why, to remove that constraint, you write:"
   ]
  },
  {
   "cell_type": "code",
   "execution_count": null,
   "id": "4d3c9c1f",
   "metadata": {
    "vscode": {
     "languageId": "sql"
    }
   },
   "outputs": [],
   "source": [
    "ALTER TABLE employees DROP CONSTRAINT employees_age_check;"
   ]
  },
  {
   "cell_type": "markdown",
   "id": "c2e7a319",
   "metadata": {},
   "source": [
    "✅ Want to avoid default names?\n",
    "\n",
    "You can give your own custom constraint name like this:"
   ]
  },
  {
   "cell_type": "code",
   "execution_count": null,
   "id": "05ca807a",
   "metadata": {
    "vscode": {
     "languageId": "sql"
    }
   },
   "outputs": [],
   "source": [
    "CREATE TABLE employees (\n",
    "    emp_id SERIAL PRIMARY KEY,\n",
    "    age INT CONSTRAINT check_min_age CHECK (age >= 18)\n",
    ");"
   ]
  },
  {
   "cell_type": "markdown",
   "id": "70ccd453",
   "metadata": {},
   "source": [
    "Now if you want to drop it later, you’ll do:"
   ]
  },
  {
   "cell_type": "code",
   "execution_count": null,
   "id": "ca740af3",
   "metadata": {
    "vscode": {
     "languageId": "sql"
    }
   },
   "outputs": [],
   "source": [
    "ALTER TABLE employees DROP CONSTRAINT check_min_age;"
   ]
  }
 ],
 "metadata": {
  "language_info": {
   "name": "python"
  }
 },
 "nbformat": 4,
 "nbformat_minor": 5
}
